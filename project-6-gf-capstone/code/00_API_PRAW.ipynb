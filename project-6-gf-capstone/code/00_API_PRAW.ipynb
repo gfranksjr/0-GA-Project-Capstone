{
 "cells": [
  {
   "cell_type": "markdown",
   "id": "bc426077-0da2-49af-8e9f-e7a27ebaadd9",
   "metadata": {},
   "source": [
    "# Project 6 Capstone - Part 2: PRAW API pull for Budgetfood and FineDining"
   ]
  },
  {
   "cell_type": "markdown",
   "id": "d194d5cf-da8e-4cf6-9b07-1db01ce2d980",
   "metadata": {},
   "source": [
    "---"
   ]
  },
  {
   "cell_type": "code",
   "execution_count": 2,
   "id": "6a3e56be-a4bf-43d4-8c57-7f9954b44b46",
   "metadata": {},
   "outputs": [],
   "source": [
    "# Imports\n",
    "#!pip install praw\n",
    "import praw\n",
    "import pandas as pd"
   ]
  },
  {
   "cell_type": "code",
   "execution_count": 4,
   "id": "0fbfaf96-b045-45bc-8109-829bd66cb10c",
   "metadata": {},
   "outputs": [
    {
     "data": {
      "text/plain": [
       "True"
      ]
     },
     "execution_count": 4,
     "metadata": {},
     "output_type": "execute_result"
    }
   ],
   "source": [
    "#Password with .env file\n",
    "from dotenv import load_dotenv\n",
    "import os\n",
    "\n",
    "# Load environment variables from the .env file\n",
    "load_dotenv()\n",
    "\n",
    "# Access the variable\n",
    "# password = os.getenv('PASSWORD_env')\n",
    "# client_id = os.getenv('client_id_env')\n",
    "# client_secret = os.getenv('client_secret_env')"
   ]
  },
  {
   "cell_type": "code",
   "execution_count": 6,
   "id": "d525af4c-a4f4-42a3-8f4a-c9cce8fa1762",
   "metadata": {},
   "outputs": [],
   "source": [
    "# This will print 'my_top_secret_password'\n",
    "# print(password)  "
   ]
  },
  {
   "cell_type": "markdown",
   "id": "f3f24d11-01a7-41b7-bf22-5febf8f64d64",
   "metadata": {},
   "source": [
    "## API Data"
   ]
  },
  {
   "cell_type": "code",
   "execution_count": 10,
   "id": "902d18e7-552f-4702-b0c9-7cdf97ee22a9",
   "metadata": {},
   "outputs": [
    {
     "name": "stdout",
     "output_type": "stream",
     "text": [
      "Budgetfood Subreddit Data:\n",
      "    created_utc                                              title  \\\n",
      "0  1.735956e+09          Beginner budgeter here. Need assistance.    \n",
      "1  1.735900e+09                                 cold lunches ideas   \n",
      "2  1.735877e+09  Ideas for fast and cheap cake/cookies/treats? ...   \n",
      "3  1.735870e+09                                 Easy soup recipe!!   \n",
      "4  1.735700e+09                                   Easy budget soup   \n",
      "\n",
      "                                           self_text   subreddit  \n",
      "0  I think we can all agree that the prices at th...  budgetfood  \n",
      "1  Hello, so my boyfriend is a geodesist, so they...  budgetfood  \n",
      "2  Hi, I need to prepare about \\~50 treats for a ...  budgetfood  \n",
      "3  I was in a pinch and was craving soup!\\nI boil...  budgetfood  \n",
      "4  I made this video for a cooking page I’m part ...  budgetfood  \n",
      "\n",
      "Finedining Subreddit Data:\n",
      "    created_utc                                 title  \\\n",
      "0  1.735992e+09                      Ambience photos    \n",
      "1  1.735991e+09          Andrew Fairlie** (Scotland)    \n",
      "2  1.735967e+09                cépages - Gunma, Japan   \n",
      "3  1.735966e+09         Californios ** San Francisco    \n",
      "4  1.735966e+09  Valhalla, Chicago (winter menu 2024)   \n",
      "\n",
      "                                           self_text   subreddit  \n",
      "0  Love the restaurant review posts on here. As a...  finedining  \n",
      "1  Dined at 2 starred Andrew Fairlie, located at ...  finedining  \n",
      "2  Not quite sure how I originally found this pla...  finedining  \n",
      "3  Had the opportunity to dine at Californios in ...  finedining  \n",
      "4  Visited Valhalla on a layover in Chicago after...  finedining  \n"
     ]
    }
   ],
   "source": [
    "# Export from each subreddit\n",
    "reddit = praw.Reddit(\n",
    "    client_id = os.getenv('client_id_env'),\n",
    "    client_secret = os.getenv('client_secret_env'),\n",
    "    user_agent ='python:myredditapp:v1.0 (by u/gfranksjr11)',\n",
    "    username ='gfranksjr11',\n",
    "    password = os.getenv('PASSWORD_env')\n",
    ")\n",
    "\n",
    "# Updated to pick up where last left off to get new posts\n",
    "#last_post_id_budgetfood = '1gwnx4j'\n",
    "#last_post_id_finedining = '1gy08ma'\n",
    "\n",
    "# Function to fetch new posts from a subreddit\n",
    "def fetch_new_posts(subreddit_name, last_post_id=None):\n",
    "    subreddit = reddit.subreddit(subreddit_name)\n",
    "    \n",
    "    # Fetch posts\n",
    "    posts = subreddit.new(limit=1000)\n",
    "    \n",
    "    data = []\n",
    "    new_last_post_id = None\n",
    "    \n",
    "    for post in posts:\n",
    "        # Skip posts that have already been processed\n",
    "        if last_post_id and post.id <= last_post_id:\n",
    "            continue\n",
    "        \n",
    "        data.append([post.created_utc, post.title, post.selftext, post.subreddit])\n",
    "        \n",
    "        # Update the last post ID\n",
    "        if not new_last_post_id:\n",
    "            new_last_post_id = post.id\n",
    "    \n",
    "    # Return the collected data and the last post ID\n",
    "    return data, new_last_post_id\n",
    "\n",
    "# Initialize variables to store the last post ID for each subreddit\n",
    "last_post_id_budgetfood = None\n",
    "last_post_id_finedining = None\n",
    "\n",
    "# Fetch new posts for 'budgetfood' subreddit\n",
    "budgetfood_data, last_post_id_budgetfood = fetch_new_posts('budgetfood', last_post_id_budgetfood)\n",
    "\n",
    "# Fetch new posts for 'finedining' subreddit\n",
    "finedining_data, last_post_id_finedining = fetch_new_posts('finedining', last_post_id_finedining)\n",
    "\n",
    "# Convert to DataFrames\n",
    "budgetfood_df = pd.DataFrame(budgetfood_data, columns=['created_utc', 'title', 'self_text', 'subreddit'])\n",
    "finedining_df = pd.DataFrame(finedining_data, columns=['created_utc', 'title', 'self_text', 'subreddit'])\n",
    "\n",
    "# Display the first few rows of each DataFrame\n",
    "print(\"Budgetfood Subreddit Data:\")\n",
    "print(budgetfood_df.head())\n",
    "\n",
    "print(\"\\nFinedining Subreddit Data:\")\n",
    "print(finedining_df.head())\n"
   ]
  },
  {
   "cell_type": "code",
   "execution_count": 12,
   "id": "96b5087e-d82d-4554-81e0-ceaf93615713",
   "metadata": {},
   "outputs": [
    {
     "data": {
      "text/plain": [
       "(888, 4)"
      ]
     },
     "execution_count": 12,
     "metadata": {},
     "output_type": "execute_result"
    }
   ],
   "source": [
    "budgetfood_df.shape"
   ]
  },
  {
   "cell_type": "code",
   "execution_count": 14,
   "id": "6c689b5b-7e54-4b62-81bd-6dc9a1b2415f",
   "metadata": {},
   "outputs": [
    {
     "data": {
      "text/plain": [
       "(996, 4)"
      ]
     },
     "execution_count": 14,
     "metadata": {},
     "output_type": "execute_result"
    }
   ],
   "source": [
    "finedining_df.shape"
   ]
  },
  {
   "cell_type": "code",
   "execution_count": 11,
   "id": "2bec85bd-77d2-4585-8c38-2dc7bf6f8021",
   "metadata": {},
   "outputs": [
    {
     "data": {
      "text/plain": [
       "'1gy27da'"
      ]
     },
     "execution_count": 11,
     "metadata": {},
     "output_type": "execute_result"
    }
   ],
   "source": [
    "last_post_id_budgetfood"
   ]
  },
  {
   "cell_type": "code",
   "execution_count": 12,
   "id": "32ac25df-045d-4454-b2b3-1eddcc9a0ebd",
   "metadata": {},
   "outputs": [
    {
     "data": {
      "text/plain": [
       "'1gy08ma'"
      ]
     },
     "execution_count": 12,
     "metadata": {},
     "output_type": "execute_result"
    }
   ],
   "source": [
    "last_post_id_finedining\n"
   ]
  },
  {
   "cell_type": "code",
   "execution_count": 18,
   "id": "f6d5c14e-59a2-43e5-9865-ffdc48a3e7af",
   "metadata": {},
   "outputs": [],
   "source": [
    "#finedining_df.to_csv('finedining.csv', index=False)"
   ]
  },
  {
   "cell_type": "code",
   "execution_count": 36,
   "id": "e5cad4d4-5006-4ade-80eb-969f9a585cd1",
   "metadata": {},
   "outputs": [],
   "source": [
    "#budgetfood_df.to_csv('budgetfood.csv', index=False)"
   ]
  },
  {
   "cell_type": "code",
   "execution_count": null,
   "id": "467e9bec-613f-4051-a185-85281d039171",
   "metadata": {},
   "outputs": [],
   "source": []
  }
 ],
 "metadata": {
  "kernelspec": {
   "display_name": "Python 3 (ipykernel)",
   "language": "python",
   "name": "python3"
  },
  "language_info": {
   "codemirror_mode": {
    "name": "ipython",
    "version": 3
   },
   "file_extension": ".py",
   "mimetype": "text/x-python",
   "name": "python",
   "nbconvert_exporter": "python",
   "pygments_lexer": "ipython3",
   "version": "3.12.4"
  }
 },
 "nbformat": 4,
 "nbformat_minor": 5
}
