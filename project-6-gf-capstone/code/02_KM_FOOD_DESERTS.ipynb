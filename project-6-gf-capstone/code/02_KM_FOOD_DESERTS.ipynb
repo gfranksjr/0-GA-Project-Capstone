{
 "cells": [
  {
   "cell_type": "markdown",
   "id": "476bf5d1-e2e2-469b-8b3a-fdff8270884c",
   "metadata": {},
   "source": [
    "# Project 6 Capstone - Part 2: Dataset Munging and Cleaning: Food Deserts"
   ]
  },
  {
   "cell_type": "markdown",
   "id": "2eca402b-0077-489c-bc48-fb69b54e2226",
   "metadata": {},
   "source": [
    "---"
   ]
  },
  {
   "cell_type": "code",
   "execution_count": 5,
   "id": "3f037086-d32c-44d1-bd53-783f7485a577",
   "metadata": {},
   "outputs": [],
   "source": [
    "# Imports\n",
    "import pandas as pd\n",
    "import matplotlib.pyplot as plt\n",
    "import seaborn as sns\n",
    "import numpy as np\n",
    "from sklearn.preprocessing import StandardScaler\n",
    "from sklearn.cluster import KMeans"
   ]
  },
  {
   "cell_type": "code",
   "execution_count": 6,
   "id": "9c533a39-76fe-45d0-a416-da58be6dccb9",
   "metadata": {},
   "outputs": [],
   "source": [
    "# Data Source: \n",
    "# Name: Food Deserts data for the United States\n",
    "# Link: https://data.world/smartcolumbusos/978eac18-d4d0-4e36-8d1d-23aadd86a702/workspace/file?filename=food-deserts-data-for-the-usa-csv-1.csv\n",
    "# Description: This dataset identifies the food deserts in the U.S., which includes the regions with low/limited access to food base don resident income levels and transportation availability.\n",
    "# Data Dictionary: https://data.world/smartcolumbusos/978eac18-d4d0-4e36-8d1d-23aadd86a702/workspace/file?filename=data-dictionary-food-deserts-csv-2.csv\n",
    "# (Also saved in Data Folder/Food_Deserts)"
   ]
  },
  {
   "cell_type": "code",
   "execution_count": 7,
   "id": "aee69995-d117-499f-a737-8ca7a5e4e126",
   "metadata": {},
   "outputs": [],
   "source": [
    "# Article - \"Rising food insecurity in Alabama reflects national trends\"\n",
    "# Source: https://www.alreporter.com/2024/09/11/report-rising-food-insecurity-in-alabama-reflects-national-trends/\n",
    "# \"In Alabama, food insecurity rates mirror national averages, with an estimated 14 percent of households facing food insecurity.\"\n",
    "# Alabama is a microcosm of america in terms of food insecurity"
   ]
  },
  {
   "cell_type": "code",
   "execution_count": 8,
   "id": "23bd909b-863a-4af9-bc67-b9ff78df62b5",
   "metadata": {},
   "outputs": [],
   "source": [
    "df = pd.read_csv('../data/Food_Deserts/food-deserts-data-for-the-usa-csv-1.csv')"
   ]
  },
  {
   "cell_type": "code",
   "execution_count": 9,
   "id": "841f0e28-0f16-4a49-9706-5f39a419e820",
   "metadata": {},
   "outputs": [
    {
     "data": {
      "text/plain": [
       "(1000, 147)"
      ]
     },
     "execution_count": 9,
     "metadata": {},
     "output_type": "execute_result"
    }
   ],
   "source": [
    "df.shape"
   ]
  },
  {
   "cell_type": "code",
   "execution_count": 10,
   "id": "5f7ee621-26d1-4c59-ae0c-dc5992d4a662",
   "metadata": {
    "scrolled": true
   },
   "outputs": [
    {
     "data": {
      "text/html": [
       "<div>\n",
       "<style scoped>\n",
       "    .dataframe tbody tr th:only-of-type {\n",
       "        vertical-align: middle;\n",
       "    }\n",
       "\n",
       "    .dataframe tbody tr th {\n",
       "        vertical-align: top;\n",
       "    }\n",
       "\n",
       "    .dataframe thead th {\n",
       "        text-align: right;\n",
       "    }\n",
       "</style>\n",
       "<table border=\"1\" class=\"dataframe\">\n",
       "  <thead>\n",
       "    <tr style=\"text-align: right;\">\n",
       "      <th></th>\n",
       "      <th>CensusTract</th>\n",
       "      <th>State</th>\n",
       "      <th>County</th>\n",
       "      <th>Urban</th>\n",
       "      <th>POP2010</th>\n",
       "      <th>OHU2010</th>\n",
       "      <th>GroupQuartersFlag</th>\n",
       "      <th>NUMGQTRS</th>\n",
       "      <th>PCTGQTRS</th>\n",
       "      <th>LILATracts_1And10</th>\n",
       "      <th>...</th>\n",
       "      <th>TractSeniors</th>\n",
       "      <th>TractWhite</th>\n",
       "      <th>TractBlack</th>\n",
       "      <th>TractAsian</th>\n",
       "      <th>TractNHOPI</th>\n",
       "      <th>TractAIAN</th>\n",
       "      <th>TractOMultir</th>\n",
       "      <th>TractHispanic</th>\n",
       "      <th>TractHUNV</th>\n",
       "      <th>TractSNAP</th>\n",
       "    </tr>\n",
       "  </thead>\n",
       "  <tbody>\n",
       "    <tr>\n",
       "      <th>0</th>\n",
       "      <td>1001020100</td>\n",
       "      <td>Alabama</td>\n",
       "      <td>Autauga</td>\n",
       "      <td>1</td>\n",
       "      <td>1912</td>\n",
       "      <td>693</td>\n",
       "      <td>0</td>\n",
       "      <td>0</td>\n",
       "      <td>0.000000</td>\n",
       "      <td>0</td>\n",
       "      <td>...</td>\n",
       "      <td>221</td>\n",
       "      <td>1622</td>\n",
       "      <td>217</td>\n",
       "      <td>14</td>\n",
       "      <td>0</td>\n",
       "      <td>14</td>\n",
       "      <td>45</td>\n",
       "      <td>44</td>\n",
       "      <td>26</td>\n",
       "      <td>112</td>\n",
       "    </tr>\n",
       "    <tr>\n",
       "      <th>1</th>\n",
       "      <td>1001020200</td>\n",
       "      <td>Alabama</td>\n",
       "      <td>Autauga</td>\n",
       "      <td>1</td>\n",
       "      <td>2170</td>\n",
       "      <td>743</td>\n",
       "      <td>0</td>\n",
       "      <td>181</td>\n",
       "      <td>0.083410</td>\n",
       "      <td>0</td>\n",
       "      <td>...</td>\n",
       "      <td>214</td>\n",
       "      <td>888</td>\n",
       "      <td>1217</td>\n",
       "      <td>5</td>\n",
       "      <td>0</td>\n",
       "      <td>5</td>\n",
       "      <td>55</td>\n",
       "      <td>75</td>\n",
       "      <td>87</td>\n",
       "      <td>202</td>\n",
       "    </tr>\n",
       "    <tr>\n",
       "      <th>2</th>\n",
       "      <td>1001020300</td>\n",
       "      <td>Alabama</td>\n",
       "      <td>Autauga</td>\n",
       "      <td>1</td>\n",
       "      <td>3373</td>\n",
       "      <td>1256</td>\n",
       "      <td>0</td>\n",
       "      <td>0</td>\n",
       "      <td>0.000000</td>\n",
       "      <td>0</td>\n",
       "      <td>...</td>\n",
       "      <td>439</td>\n",
       "      <td>2576</td>\n",
       "      <td>647</td>\n",
       "      <td>17</td>\n",
       "      <td>5</td>\n",
       "      <td>11</td>\n",
       "      <td>117</td>\n",
       "      <td>87</td>\n",
       "      <td>108</td>\n",
       "      <td>120</td>\n",
       "    </tr>\n",
       "    <tr>\n",
       "      <th>3</th>\n",
       "      <td>1001020400</td>\n",
       "      <td>Alabama</td>\n",
       "      <td>Autauga</td>\n",
       "      <td>1</td>\n",
       "      <td>4386</td>\n",
       "      <td>1722</td>\n",
       "      <td>0</td>\n",
       "      <td>0</td>\n",
       "      <td>0.000000</td>\n",
       "      <td>0</td>\n",
       "      <td>...</td>\n",
       "      <td>904</td>\n",
       "      <td>4086</td>\n",
       "      <td>193</td>\n",
       "      <td>18</td>\n",
       "      <td>4</td>\n",
       "      <td>11</td>\n",
       "      <td>74</td>\n",
       "      <td>85</td>\n",
       "      <td>19</td>\n",
       "      <td>82</td>\n",
       "    </tr>\n",
       "    <tr>\n",
       "      <th>4</th>\n",
       "      <td>1001020500</td>\n",
       "      <td>Alabama</td>\n",
       "      <td>Autauga</td>\n",
       "      <td>1</td>\n",
       "      <td>10766</td>\n",
       "      <td>4082</td>\n",
       "      <td>0</td>\n",
       "      <td>181</td>\n",
       "      <td>0.016812</td>\n",
       "      <td>0</td>\n",
       "      <td>...</td>\n",
       "      <td>1126</td>\n",
       "      <td>8666</td>\n",
       "      <td>1437</td>\n",
       "      <td>296</td>\n",
       "      <td>9</td>\n",
       "      <td>48</td>\n",
       "      <td>310</td>\n",
       "      <td>355</td>\n",
       "      <td>198</td>\n",
       "      <td>488</td>\n",
       "    </tr>\n",
       "  </tbody>\n",
       "</table>\n",
       "<p>5 rows × 147 columns</p>\n",
       "</div>"
      ],
      "text/plain": [
       "   CensusTract    State   County  Urban  POP2010  OHU2010  GroupQuartersFlag  \\\n",
       "0   1001020100  Alabama  Autauga      1     1912      693                  0   \n",
       "1   1001020200  Alabama  Autauga      1     2170      743                  0   \n",
       "2   1001020300  Alabama  Autauga      1     3373     1256                  0   \n",
       "3   1001020400  Alabama  Autauga      1     4386     1722                  0   \n",
       "4   1001020500  Alabama  Autauga      1    10766     4082                  0   \n",
       "\n",
       "   NUMGQTRS  PCTGQTRS  LILATracts_1And10  ...  TractSeniors  TractWhite  \\\n",
       "0         0  0.000000                  0  ...           221        1622   \n",
       "1       181  0.083410                  0  ...           214         888   \n",
       "2         0  0.000000                  0  ...           439        2576   \n",
       "3         0  0.000000                  0  ...           904        4086   \n",
       "4       181  0.016812                  0  ...          1126        8666   \n",
       "\n",
       "   TractBlack  TractAsian  TractNHOPI  TractAIAN  TractOMultir  TractHispanic  \\\n",
       "0         217          14           0         14            45             44   \n",
       "1        1217           5           0          5            55             75   \n",
       "2         647          17           5         11           117             87   \n",
       "3         193          18           4         11            74             85   \n",
       "4        1437         296           9         48           310            355   \n",
       "\n",
       "   TractHUNV  TractSNAP  \n",
       "0         26        112  \n",
       "1         87        202  \n",
       "2        108        120  \n",
       "3         19         82  \n",
       "4        198        488  \n",
       "\n",
       "[5 rows x 147 columns]"
      ]
     },
     "execution_count": 10,
     "metadata": {},
     "output_type": "execute_result"
    }
   ],
   "source": [
    "df.head()"
   ]
  },
  {
   "cell_type": "code",
   "execution_count": 11,
   "id": "d1caaef2-2e35-430e-a3c5-e3c0b58a8a6a",
   "metadata": {
    "scrolled": true
   },
   "outputs": [
    {
     "name": "stdout",
     "output_type": "stream",
     "text": [
      "<class 'pandas.core.frame.DataFrame'>\n",
      "RangeIndex: 1000 entries, 0 to 999\n",
      "Columns: 147 entries, CensusTract to TractSNAP\n",
      "dtypes: float64(102), int64(43), object(2)\n",
      "memory usage: 1.1+ MB\n"
     ]
    }
   ],
   "source": [
    "df.info()"
   ]
  },
  {
   "cell_type": "code",
   "execution_count": 12,
   "id": "15e96ed3-02fd-4809-a10d-7026b6ca844e",
   "metadata": {
    "scrolled": true
   },
   "outputs": [
    {
     "data": {
      "text/plain": [
       "CensusTract      0\n",
       "State            0\n",
       "County           0\n",
       "Urban            0\n",
       "POP2010          0\n",
       "                ..\n",
       "TractAIAN        0\n",
       "TractOMultir     0\n",
       "TractHispanic    0\n",
       "TractHUNV        0\n",
       "TractSNAP        0\n",
       "Length: 147, dtype: int64"
      ]
     },
     "execution_count": 12,
     "metadata": {},
     "output_type": "execute_result"
    }
   ],
   "source": [
    "df.isna().sum()"
   ]
  },
  {
   "cell_type": "code",
   "execution_count": 13,
   "id": "8b259c39-6904-431c-8a2d-1180224b5cc6",
   "metadata": {},
   "outputs": [
    {
     "data": {
      "text/plain": [
       "Index(['CensusTract', 'State', 'County', 'Urban', 'POP2010', 'OHU2010',\n",
       "       'GroupQuartersFlag', 'NUMGQTRS', 'PCTGQTRS', 'LILATracts_1And10',\n",
       "       ...\n",
       "       'TractSeniors', 'TractWhite', 'TractBlack', 'TractAsian', 'TractNHOPI',\n",
       "       'TractAIAN', 'TractOMultir', 'TractHispanic', 'TractHUNV', 'TractSNAP'],\n",
       "      dtype='object', length=147)"
      ]
     },
     "execution_count": 13,
     "metadata": {},
     "output_type": "execute_result"
    }
   ],
   "source": [
    "df.columns"
   ]
  },
  {
   "cell_type": "code",
   "execution_count": 14,
   "id": "f73c4d3c-0c85-405e-bf2b-6bdc4d17d52a",
   "metadata": {},
   "outputs": [],
   "source": [
    "#New dataframe with just the columns I need:\n",
    "new_df = df[['County', 'POP2010','PovertyRate', 'MedianFamilyIncome']]"
   ]
  },
  {
   "cell_type": "markdown",
   "id": "1d842e72-dfea-414c-8772-1b88901f561c",
   "metadata": {},
   "source": [
    "# Project Capstone Part 3: Preprocessing + EDA\n",
    "---"
   ]
  },
  {
   "cell_type": "code",
   "execution_count": 16,
   "id": "84454277-1f8a-4df3-8f84-e494fabdb1af",
   "metadata": {},
   "outputs": [
    {
     "data": {
      "text/plain": [
       "(1000, 4)"
      ]
     },
     "execution_count": 16,
     "metadata": {},
     "output_type": "execute_result"
    }
   ],
   "source": [
    "new_df.shape"
   ]
  },
  {
   "cell_type": "code",
   "execution_count": 17,
   "id": "1b3c2134-d0aa-4108-89d9-bef6650cf0b6",
   "metadata": {},
   "outputs": [
    {
     "data": {
      "text/plain": [
       "County                0\n",
       "POP2010               0\n",
       "PovertyRate           0\n",
       "MedianFamilyIncome    0\n",
       "dtype: int64"
      ]
     },
     "execution_count": 17,
     "metadata": {},
     "output_type": "execute_result"
    }
   ],
   "source": [
    "new_df.isna().sum()"
   ]
  },
  {
   "cell_type": "code",
   "execution_count": 18,
   "id": "0330a0e6-243a-4895-a62d-d84aa3aca03f",
   "metadata": {},
   "outputs": [
    {
     "data": {
      "text/html": [
       "<div>\n",
       "<style scoped>\n",
       "    .dataframe tbody tr th:only-of-type {\n",
       "        vertical-align: middle;\n",
       "    }\n",
       "\n",
       "    .dataframe tbody tr th {\n",
       "        vertical-align: top;\n",
       "    }\n",
       "\n",
       "    .dataframe thead th {\n",
       "        text-align: right;\n",
       "    }\n",
       "</style>\n",
       "<table border=\"1\" class=\"dataframe\">\n",
       "  <thead>\n",
       "    <tr style=\"text-align: right;\">\n",
       "      <th></th>\n",
       "      <th>County</th>\n",
       "      <th>POP2010</th>\n",
       "      <th>PovertyRate</th>\n",
       "      <th>MedianFamilyIncome</th>\n",
       "    </tr>\n",
       "  </thead>\n",
       "  <tbody>\n",
       "    <tr>\n",
       "      <th>0</th>\n",
       "      <td>Autauga</td>\n",
       "      <td>1912</td>\n",
       "      <td>10.0</td>\n",
       "      <td>74750</td>\n",
       "    </tr>\n",
       "    <tr>\n",
       "      <th>1</th>\n",
       "      <td>Autauga</td>\n",
       "      <td>2170</td>\n",
       "      <td>18.2</td>\n",
       "      <td>51875</td>\n",
       "    </tr>\n",
       "    <tr>\n",
       "      <th>2</th>\n",
       "      <td>Autauga</td>\n",
       "      <td>3373</td>\n",
       "      <td>19.1</td>\n",
       "      <td>52905</td>\n",
       "    </tr>\n",
       "    <tr>\n",
       "      <th>3</th>\n",
       "      <td>Autauga</td>\n",
       "      <td>4386</td>\n",
       "      <td>3.3</td>\n",
       "      <td>68079</td>\n",
       "    </tr>\n",
       "    <tr>\n",
       "      <th>4</th>\n",
       "      <td>Autauga</td>\n",
       "      <td>10766</td>\n",
       "      <td>8.5</td>\n",
       "      <td>77819</td>\n",
       "    </tr>\n",
       "    <tr>\n",
       "      <th>5</th>\n",
       "      <td>Autauga</td>\n",
       "      <td>3668</td>\n",
       "      <td>14.1</td>\n",
       "      <td>67218</td>\n",
       "    </tr>\n",
       "    <tr>\n",
       "      <th>6</th>\n",
       "      <td>Autauga</td>\n",
       "      <td>2891</td>\n",
       "      <td>26.4</td>\n",
       "      <td>43646</td>\n",
       "    </tr>\n",
       "    <tr>\n",
       "      <th>7</th>\n",
       "      <td>Autauga</td>\n",
       "      <td>3081</td>\n",
       "      <td>13.6</td>\n",
       "      <td>74284</td>\n",
       "    </tr>\n",
       "    <tr>\n",
       "      <th>8</th>\n",
       "      <td>Autauga</td>\n",
       "      <td>10435</td>\n",
       "      <td>13.8</td>\n",
       "      <td>68713</td>\n",
       "    </tr>\n",
       "    <tr>\n",
       "      <th>9</th>\n",
       "      <td>Autauga</td>\n",
       "      <td>5675</td>\n",
       "      <td>12.8</td>\n",
       "      <td>52994</td>\n",
       "    </tr>\n",
       "    <tr>\n",
       "      <th>10</th>\n",
       "      <td>Autauga</td>\n",
       "      <td>2894</td>\n",
       "      <td>11.0</td>\n",
       "      <td>56317</td>\n",
       "    </tr>\n",
       "    <tr>\n",
       "      <th>11</th>\n",
       "      <td>Autauga</td>\n",
       "      <td>3320</td>\n",
       "      <td>15.5</td>\n",
       "      <td>44395</td>\n",
       "    </tr>\n",
       "    <tr>\n",
       "      <th>12</th>\n",
       "      <td>Baldwin</td>\n",
       "      <td>3804</td>\n",
       "      <td>15.6</td>\n",
       "      <td>55966</td>\n",
       "    </tr>\n",
       "    <tr>\n",
       "      <th>13</th>\n",
       "      <td>Baldwin</td>\n",
       "      <td>2902</td>\n",
       "      <td>28.1</td>\n",
       "      <td>41397</td>\n",
       "    </tr>\n",
       "    <tr>\n",
       "      <th>14</th>\n",
       "      <td>Baldwin</td>\n",
       "      <td>7826</td>\n",
       "      <td>8.5</td>\n",
       "      <td>59491</td>\n",
       "    </tr>\n",
       "    <tr>\n",
       "      <th>15</th>\n",
       "      <td>Baldwin</td>\n",
       "      <td>4736</td>\n",
       "      <td>16.0</td>\n",
       "      <td>53594</td>\n",
       "    </tr>\n",
       "    <tr>\n",
       "      <th>16</th>\n",
       "      <td>Baldwin</td>\n",
       "      <td>4815</td>\n",
       "      <td>18.8</td>\n",
       "      <td>58125</td>\n",
       "    </tr>\n",
       "    <tr>\n",
       "      <th>17</th>\n",
       "      <td>Baldwin</td>\n",
       "      <td>3325</td>\n",
       "      <td>28.0</td>\n",
       "      <td>32255</td>\n",
       "    </tr>\n",
       "    <tr>\n",
       "      <th>18</th>\n",
       "      <td>Baldwin</td>\n",
       "      <td>7882</td>\n",
       "      <td>4.8</td>\n",
       "      <td>94167</td>\n",
       "    </tr>\n",
       "    <tr>\n",
       "      <th>19</th>\n",
       "      <td>Baldwin</td>\n",
       "      <td>13166</td>\n",
       "      <td>3.3</td>\n",
       "      <td>88768</td>\n",
       "    </tr>\n",
       "  </tbody>\n",
       "</table>\n",
       "</div>"
      ],
      "text/plain": [
       "     County  POP2010  PovertyRate  MedianFamilyIncome\n",
       "0   Autauga     1912         10.0               74750\n",
       "1   Autauga     2170         18.2               51875\n",
       "2   Autauga     3373         19.1               52905\n",
       "3   Autauga     4386          3.3               68079\n",
       "4   Autauga    10766          8.5               77819\n",
       "5   Autauga     3668         14.1               67218\n",
       "6   Autauga     2891         26.4               43646\n",
       "7   Autauga     3081         13.6               74284\n",
       "8   Autauga    10435         13.8               68713\n",
       "9   Autauga     5675         12.8               52994\n",
       "10  Autauga     2894         11.0               56317\n",
       "11  Autauga     3320         15.5               44395\n",
       "12  Baldwin     3804         15.6               55966\n",
       "13  Baldwin     2902         28.1               41397\n",
       "14  Baldwin     7826          8.5               59491\n",
       "15  Baldwin     4736         16.0               53594\n",
       "16  Baldwin     4815         18.8               58125\n",
       "17  Baldwin     3325         28.0               32255\n",
       "18  Baldwin     7882          4.8               94167\n",
       "19  Baldwin    13166          3.3               88768"
      ]
     },
     "execution_count": 18,
     "metadata": {},
     "output_type": "execute_result"
    }
   ],
   "source": [
    "new_df.head(20)"
   ]
  },
  {
   "cell_type": "code",
   "execution_count": 19,
   "id": "c7e0a970-30c7-44a5-80c0-bf9d2c7097b9",
   "metadata": {},
   "outputs": [
    {
     "data": {
      "text/plain": [
       "<bound method DataFrame.corr of       County  POP2010  PovertyRate  MedianFamilyIncome\n",
       "0    Autauga     1912         10.0               74750\n",
       "1    Autauga     2170         18.2               51875\n",
       "2    Autauga     3373         19.1               52905\n",
       "3    Autauga     4386          3.3               68079\n",
       "4    Autauga    10766          8.5               77819\n",
       "..       ...      ...          ...                 ...\n",
       "995  Russell     3110         24.8               39400\n",
       "996  Russell     7031         23.7               39625\n",
       "997  Russell     6946         13.0               66477\n",
       "998  Russell     3727         18.4               55717\n",
       "999  Russell     1873         27.1               42206\n",
       "\n",
       "[1000 rows x 4 columns]>"
      ]
     },
     "execution_count": 19,
     "metadata": {},
     "output_type": "execute_result"
    }
   ],
   "source": [
    "new_df.corr"
   ]
  },
  {
   "cell_type": "code",
   "execution_count": 20,
   "id": "cfb86444-5691-491f-a51e-0f80c9a61042",
   "metadata": {},
   "outputs": [
    {
     "name": "stdout",
     "output_type": "stream",
     "text": [
      "<class 'pandas.core.frame.DataFrame'>\n",
      "RangeIndex: 1000 entries, 0 to 999\n",
      "Data columns (total 4 columns):\n",
      " #   Column              Non-Null Count  Dtype  \n",
      "---  ------              --------------  -----  \n",
      " 0   County              1000 non-null   object \n",
      " 1   POP2010             1000 non-null   int64  \n",
      " 2   PovertyRate         1000 non-null   float64\n",
      " 3   MedianFamilyIncome  1000 non-null   int64  \n",
      "dtypes: float64(1), int64(2), object(1)\n",
      "memory usage: 31.4+ KB\n"
     ]
    }
   ],
   "source": [
    "new_df.info()"
   ]
  },
  {
   "cell_type": "code",
   "execution_count": 21,
   "id": "62288e56-61d0-4c9e-aba8-da815868b132",
   "metadata": {},
   "outputs": [
    {
     "data": {
      "text/html": [
       "<div>\n",
       "<style scoped>\n",
       "    .dataframe tbody tr th:only-of-type {\n",
       "        vertical-align: middle;\n",
       "    }\n",
       "\n",
       "    .dataframe tbody tr th {\n",
       "        vertical-align: top;\n",
       "    }\n",
       "\n",
       "    .dataframe thead th {\n",
       "        text-align: right;\n",
       "    }\n",
       "</style>\n",
       "<table border=\"1\" class=\"dataframe\">\n",
       "  <thead>\n",
       "    <tr style=\"text-align: right;\">\n",
       "      <th></th>\n",
       "      <th>POP2010</th>\n",
       "      <th>PovertyRate</th>\n",
       "      <th>MedianFamilyIncome</th>\n",
       "    </tr>\n",
       "  </thead>\n",
       "  <tbody>\n",
       "    <tr>\n",
       "      <th>count</th>\n",
       "      <td>1000.000000</td>\n",
       "      <td>1000.000000</td>\n",
       "      <td>1000.000000</td>\n",
       "    </tr>\n",
       "    <tr>\n",
       "      <th>mean</th>\n",
       "      <td>4043.984000</td>\n",
       "      <td>21.572100</td>\n",
       "      <td>52341.870000</td>\n",
       "    </tr>\n",
       "    <tr>\n",
       "      <th>std</th>\n",
       "      <td>2017.888797</td>\n",
       "      <td>13.165046</td>\n",
       "      <td>22761.317521</td>\n",
       "    </tr>\n",
       "    <tr>\n",
       "      <th>min</th>\n",
       "      <td>0.000000</td>\n",
       "      <td>0.000000</td>\n",
       "      <td>0.000000</td>\n",
       "    </tr>\n",
       "    <tr>\n",
       "      <th>25%</th>\n",
       "      <td>2538.750000</td>\n",
       "      <td>12.400000</td>\n",
       "      <td>37923.250000</td>\n",
       "    </tr>\n",
       "    <tr>\n",
       "      <th>50%</th>\n",
       "      <td>3769.000000</td>\n",
       "      <td>19.200000</td>\n",
       "      <td>48719.000000</td>\n",
       "    </tr>\n",
       "    <tr>\n",
       "      <th>75%</th>\n",
       "      <td>5059.250000</td>\n",
       "      <td>28.225000</td>\n",
       "      <td>61424.250000</td>\n",
       "    </tr>\n",
       "    <tr>\n",
       "      <th>max</th>\n",
       "      <td>13166.000000</td>\n",
       "      <td>79.100000</td>\n",
       "      <td>156542.000000</td>\n",
       "    </tr>\n",
       "  </tbody>\n",
       "</table>\n",
       "</div>"
      ],
      "text/plain": [
       "            POP2010  PovertyRate  MedianFamilyIncome\n",
       "count   1000.000000  1000.000000         1000.000000\n",
       "mean    4043.984000    21.572100        52341.870000\n",
       "std     2017.888797    13.165046        22761.317521\n",
       "min        0.000000     0.000000            0.000000\n",
       "25%     2538.750000    12.400000        37923.250000\n",
       "50%     3769.000000    19.200000        48719.000000\n",
       "75%     5059.250000    28.225000        61424.250000\n",
       "max    13166.000000    79.100000       156542.000000"
      ]
     },
     "execution_count": 21,
     "metadata": {},
     "output_type": "execute_result"
    }
   ],
   "source": [
    "new_df.describe()"
   ]
  },
  {
   "cell_type": "code",
   "execution_count": 22,
   "id": "cc91c54f-f3ea-4ebe-bbcc-f2e52ec63cd0",
   "metadata": {},
   "outputs": [],
   "source": [
    "#new_df.value_counts('State')"
   ]
  },
  {
   "cell_type": "code",
   "execution_count": 23,
   "id": "d4cbe22b-daae-4f65-9546-4cdf5f7dd277",
   "metadata": {},
   "outputs": [
    {
     "data": {
      "text/plain": [
       "<Figure size 1200x600 with 0 Axes>"
      ]
     },
     "metadata": {},
     "output_type": "display_data"
    },
    {
     "data": {
      "image/png": "[encoded data removed]",
      "text/plain": [
       "<Figure size 1200x600 with 1 Axes>"
      ]
     },
     "metadata": {},
     "output_type": "display_data"
    },
    {
     "data": {
      "image/png": "[encoded data removed]",
      "text/plain": [
       "<Figure size 1200x600 with 1 Axes>"
      ]
     },
     "metadata": {},
     "output_type": "display_data"
    },
    {
     "data": {
      "image/png": "[encoded data removed]",
      "text/plain": [
       "<Figure size 1200x600 with 1 Axes>"
      ]
     },
     "metadata": {},
     "output_type": "display_data"
    }
   ],
   "source": [
    "#Create plots\n",
    "sns.set(style=\"whitegrid\", font_scale=1.1)\n",
    "plt.figure(figsize=(12, 6))\n",
    "\n",
    "# POP2010 vs County\n",
    "plt.figure(figsize=(12, 6))\n",
    "sns.barplot(x='County', y='POP2010', data=new_df.sort_values('POP2010', ascending=False).head(20))\n",
    "plt.title('Top 20 Counties by Population (2010)')\n",
    "plt.xticks(rotation=90)\n",
    "plt.tight_layout()\n",
    "plt.show()\n",
    "\n",
    "# PovertyRate vs County\n",
    "plt.figure(figsize=(12, 6))\n",
    "sns.barplot(x='County', y='PovertyRate', data=new_df.sort_values('PovertyRate', ascending=False).head(20))\n",
    "plt.title('Top 20 Counties by Poverty Rate')\n",
    "plt.xticks(rotation=90)\n",
    "plt.tight_layout()\n",
    "plt.show()\n",
    "\n",
    "# MedianFamilyIncome vs County\n",
    "plt.figure(figsize=(12, 6))\n",
    "sns.barplot(x='County', y='MedianFamilyIncome', data=new_df.sort_values('MedianFamilyIncome', ascending=False).head(20))\n",
    "plt.title('Top 20 Counties by Median Family Income')\n",
    "plt.xticks(rotation=90)\n",
    "plt.tight_layout()\n",
    "plt.show()\n"
   ]
  },
  {
   "cell_type": "code",
   "execution_count": null,
   "id": "d7cc56c9-84d3-42b4-a040-ab0ec5597d24",
   "metadata": {},
   "outputs": [],
   "source": []
  },
  {
   "cell_type": "markdown",
   "id": "5917ed89-b5f3-45c5-aabb-cdb5c1eadb75",
   "metadata": {},
   "source": [
    "# Modeling\n",
    "---"
   ]
  },
  {
   "cell_type": "code",
   "execution_count": 61,
   "id": "0932b101-1ff3-4d6a-a3d0-365d3695031a",
   "metadata": {},
   "outputs": [],
   "source": [
    "#Modeling"
   ]
  },
  {
   "cell_type": "code",
   "execution_count": 26,
   "id": "c05ac805-2a12-47a5-87f0-12e53851ffc2",
   "metadata": {},
   "outputs": [],
   "source": [
    "X = new_df[['POP2010', 'MedianFamilyIncome']]\n",
    "\n",
    "# Normalize the features\n",
    "scaler = StandardScaler()\n",
    "X_scaled = scaler.fit_transform(X)\n"
   ]
  },
  {
   "cell_type": "code",
   "execution_count": 27,
   "id": "e71eace5-49be-4190-8e84-b32c3734b5e3",
   "metadata": {},
   "outputs": [
    {
     "data": {
      "image/png": "[encoded data removed]",
      "text/plain": [
       "<Figure size 640x480 with 1 Axes>"
      ]
     },
     "metadata": {},
     "output_type": "display_data"
    }
   ],
   "source": [
    "inertias = []\n",
    "for k in range(1, 11):\n",
    "    kmeans = KMeans(n_clusters=k, random_state=42)\n",
    "    kmeans.fit(X_scaled)\n",
    "    inertias.append(kmeans.inertia_)\n",
    "\n",
    "plt.plot(range(1, 11), inertias, marker='o')\n",
    "plt.xlabel('Number of clusters (k)')\n",
    "plt.ylabel('Inertia')\n",
    "plt.title('Elbow Method for Optimal k')\n",
    "plt.show()\n"
   ]
  },
  {
   "cell_type": "code",
   "execution_count": 28,
   "id": "0b7a120d-4aa8-4d0d-9deb-575c373841a1",
   "metadata": {},
   "outputs": [
    {
     "name": "stderr",
     "output_type": "stream",
     "text": [
      "/var/folders/xt/hdlbn4j903v98px3bq4pf0jc0000gn/T/ipykernel_54447/1029570723.py:4: SettingWithCopyWarning: \n",
      "A value is trying to be set on a copy of a slice from a DataFrame.\n",
      "Try using .loc[row_indexer,col_indexer] = value instead\n",
      "\n",
      "See the caveats in the documentation: https://pandas.pydata.org/pandas-docs/stable/user_guide/indexing.html#returning-a-view-versus-a-copy\n",
      "  new_df['Cluster'] = kmeans.fit_predict(X_scaled)\n"
     ]
    }
   ],
   "source": [
    "# optimal k is ?\n",
    "optimal_k = 4\n",
    "kmeans = KMeans(n_clusters=optimal_k, random_state=42)\n",
    "new_df['Cluster'] = kmeans.fit_predict(X_scaled)\n"
   ]
  },
  {
   "cell_type": "code",
   "execution_count": 29,
   "id": "3cbf0fc8-7500-4546-b38e-0cb0762e782a",
   "metadata": {},
   "outputs": [
    {
     "name": "stdout",
     "output_type": "stream",
     "text": [
      "             POP2010  MedianFamilyIncome\n",
      "Cluster                                 \n",
      "3        7780.609023        65825.721805\n",
      "2        4335.497619        51624.704762\n",
      "1        3985.845238       102559.130952\n",
      "0        2351.082645        36610.760331\n"
     ]
    }
   ],
   "source": [
    "cluster_centers = scaler.inverse_transform(kmeans.cluster_centers_)\n",
    "cluster_summary = new_df.groupby('Cluster').agg({\n",
    "    'POP2010': 'mean',\n",
    "    'MedianFamilyIncome': 'mean'\n",
    "}).sort_values(by=['POP2010', 'MedianFamilyIncome'], ascending=False)\n",
    "\n",
    "print(cluster_summary)\n"
   ]
  },
  {
   "cell_type": "code",
   "execution_count": 30,
   "id": "e8510a96-92c0-4520-a5a9-8c3a97479476",
   "metadata": {},
   "outputs": [
    {
     "name": "stdout",
     "output_type": "stream",
     "text": [
      "Top 3 Best Counties for Business:\n",
      "        County  POP2010  MedianFamilyIncome\n",
      "19     Baldwin    13166               88768\n",
      "709    Madison    12621              124970\n",
      "543  Jefferson    12502               98941\n"
     ]
    }
   ],
   "source": [
    "# best cluster for business\n",
    "best_cluster = cluster_summary.index[0]\n",
    "best_counties = new_df[new_df['Cluster'] == best_cluster].sort_values(\n",
    "    by=['POP2010', 'MedianFamilyIncome'], ascending=False\n",
    ")\n",
    "\n",
    "print(\"Top 3 Best Counties for Business:\")\n",
    "print(best_counties[['County', 'POP2010', 'MedianFamilyIncome']].head(3))\n"
   ]
  },
  {
   "cell_type": "code",
   "execution_count": null,
   "id": "962fe103-339b-49c0-bb56-2dbcaa609504",
   "metadata": {},
   "outputs": [],
   "source": []
  }
 ],
 "metadata": {
  "kernelspec": {
   "display_name": "Python 3 (ipykernel)",
   "language": "python",
   "name": "python3"
  },
  "language_info": {
   "codemirror_mode": {
    "name": "ipython",
    "version": 3
   },
   "file_extension": ".py",
   "mimetype": "text/x-python",
   "name": "python",
   "nbconvert_exporter": "python",
   "pygments_lexer": "ipython3",
   "version": "3.12.4"
  }
 },
 "nbformat": 4,
 "nbformat_minor": 5
}
