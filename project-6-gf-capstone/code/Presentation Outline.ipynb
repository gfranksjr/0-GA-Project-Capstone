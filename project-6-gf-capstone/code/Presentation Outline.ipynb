{
 "cells": [
  {
   "cell_type": "code",
   "execution_count": 1,
   "id": "0b444296-8c94-4cde-b04a-8e4d2b3c2304",
   "metadata": {},
   "outputs": [],
   "source": [
    "#Presentation Outline"
   ]
  },
  {
   "cell_type": "code",
   "execution_count": null,
   "id": "e69fdd33-5dd3-440d-880a-7617932ccef2",
   "metadata": {},
   "outputs": [],
   "source": [
    "Intro Slide\n",
    "\n",
    "Table of Contents\n",
    "\n",
    "*Problem Statment\n",
    "\n",
    "Explanation of each Dataset:\n",
    "*CDC NPAO\n",
    "*PRAW Reddit Data\n",
    "*Food Deserts\n",
    "\n",
    "Background - CDC Data:\n",
    "*Physical Activity - 4 charts, 15 sec\n",
    "*Fruits and Vegetables - 4 charts, 15 sec\n",
    "*Obesity - 4 charts, 15 sec\n",
    "\n",
    "*Goals\n",
    "\n",
    "Modeling and Performance Metrics:\n",
    "*Logistic Regression - justification for use, outcome metrics, \n",
    "*Random Forest\n",
    "*Kmeans\n",
    "*DBSCAN\n",
    "\n",
    "*Findings\n",
    "\n",
    "*Limitations and Future Development\n",
    "\n",
    "Questions Slide\n",
    "\n",
    "Thank You"
   ]
  }
 ],
 "metadata": {
  "kernelspec": {
   "display_name": "Python 3 (ipykernel)",
   "language": "python",
   "name": "python3"
  },
  "language_info": {
   "codemirror_mode": {
    "name": "ipython",
    "version": 3
   },
   "file_extension": ".py",
   "mimetype": "text/x-python",
   "name": "python",
   "nbconvert_exporter": "python",
   "pygments_lexer": "ipython3",
   "version": "3.12.4"
  }
 },
 "nbformat": 4,
 "nbformat_minor": 5
}
