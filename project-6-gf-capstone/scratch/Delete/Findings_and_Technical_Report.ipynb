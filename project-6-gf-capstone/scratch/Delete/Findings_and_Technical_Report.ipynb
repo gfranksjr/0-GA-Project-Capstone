{
 "cells": [
  {
   "cell_type": "markdown",
   "id": "98b591c8-3448-40fd-b5f8-32f8884c1dba",
   "metadata": {},
   "source": [
    "# Project 6 Capstone - Part 4: Findings and Technical Report"
   ]
  },
  {
   "cell_type": "markdown",
   "id": "28750e43-cb55-4b9d-ad6c-87b8ef8c6e6d",
   "metadata": {},
   "source": [
    "---"
   ]
  },
  {
   "cell_type": "markdown",
   "id": "8407f972-7691-42dc-86d6-aaafb45b0cdf",
   "metadata": {},
   "source": [
    "---"
   ]
  },
  {
   "cell_type": "markdown",
   "id": "1fe0c1e1-1572-4eab-80e4-80aa5fcb8316",
   "metadata": {
    "jp-MarkdownHeadingCollapsed": true
   },
   "source": [
    "# Executive Summary\n",
    "This analysis utilized machine learning models to determine optimal business strategies for a new food service venture in Alabama, focusing on location selection and menu development.\n",
    "\n",
    "### Location Analysis\n",
    "Two clustering models, K-means and DBSCAN, were employed to identify ideal locations for business establishment:\n",
    "* K-means (Silhouette Score: 0.443, Inertia: 15436534561.065)\n",
    "* DBSCAN (Silhouette Score: 0.288, Inertia: 15436534561.065)\n",
    "* Both models consistently highlighted Madison and Mobile counties as prime areas for initial investment. These locations offer a balance of population density and income levels, avoiding oversaturated markets while ensuring sufficient customer base, and should both be tested.\n",
    "\n",
    "### Menu and Marketing Strategy\n",
    "Two classification models, Logistic Regression and Random Forest, were used to determine optimal menu items and advertising focus:\n",
    "* Logistic Regression (Accuracy: 0.9045, Precision: 0.9094, Recall: 0.9045, F1 Score: 0.9038)\n",
    "* Random Forest (Accuracy: 0.8886, Precision: 0.8964, Recall: 0.8886, F1 Score: 0.8874)\n",
    "* Key findings include: Focus items: Chicken, Potatoes, Beans; Items to avoid: Sushi, Caviar, Crab\n",
    "* These results align with the goal of targeting cost-effective, popular items among lower-income groups while avoiding high-cost ingredients.\n",
    "\n",
    "### Recommendations\n",
    "- Establish initial operations and test in Madison and Mobile county\n",
    "- Develop a menu centered around chicken, potatoes, and beans, etc.\n",
    "- Concentrate paid search advertising on keywords related to these core ingredients\n",
    "- Use high-cost items like sushi, caviar, and crab, etc. as negative keywords in advertising campaigns\n",
    "This data-driven approach positions the business for success by targeting the right location and customer base while optimizing menu offerings and marketing strategies."
   ]
  },
  {
   "cell_type": "markdown",
   "id": "1a0abdc6-5c40-454a-9c53-2bee4137ca41",
   "metadata": {},
   "source": [
    "---"
   ]
  },
  {
   "cell_type": "markdown",
   "id": "3af48122-e03c-465f-9eb8-1f2cbe7208d1",
   "metadata": {},
   "source": [
    "---"
   ]
  },
  {
   "cell_type": "markdown",
   "id": "4fd4d876-64a7-4d0c-a675-29834b8bb575",
   "metadata": {},
   "source": [
    "# Problem Statement:\n",
    "As a data scientist at a startup food ghost kitchen company in Alabama, I have been tasked with market research that includes analyzing data on food value, food keywords, nutrition habits, physical activity levels, and obesity rates, and other factors, to identify distinct market segments across the state and determine top menu items to deliver. The goal is to develop models that will enable targeted marketing campaigns and tailored menu offerings, presenting the top locations with recommendations for top menu items and keywords to use for advertisement."
   ]
  },
  {
   "cell_type": "markdown",
   "id": "934fab56-b58c-4f1d-b037-4b5c9204e76a",
   "metadata": {},
   "source": [
    "# Goals \n",
    "- Kmeans and DBSCAN: Determine the best location in Alabama to begin advertising my business and selling my products\n",
    "- * Avoid top income area - higher cost preferences will not be met\n",
    "  * Avoid lowest income area - not enough money to spend on our products\n",
    "  * Avoid top population area - need to have room to grow and expand, don't want to fail and have nothing but smaller areas to consider\n",
    "  * Avoid low populatio area - need to have enough people to advertise and sell to to make a reasonable profit\n",
    "- Logistic Regression and Random Forest: Determine the best menu items to buy at scale and the best foods to advertise on in paid search\n",
    "- * Focus on foods that are low cost to maximize net revenue of high volume purchases\n",
    "  * Focus on meals and ingredients that are popular with lower income groups to make sure there is enough volume of search terms\n",
    "  * Avoid foods that are high cost because they will not be on the menu and their search terms should be used as negative keywords"
   ]
  },
  {
   "cell_type": "markdown",
   "id": "110edbb5-a2e3-459c-84c9-f2803c7d2094",
   "metadata": {},
   "source": [
    "Variables of Interest\n",
    "- Population\n",
    "- Income\n",
    "- Popular Foods"
   ]
  },
  {
   "cell_type": "markdown",
   "id": "947cc070-ead4-489f-9dab-30ec9eff0c26",
   "metadata": {},
   "source": [
    "Modeling Choices\n",
    "- K-means\n",
    "- DBSCAN\n",
    "- Logistic Regression\n",
    "- Random Forest"
   ]
  },
  {
   "cell_type": "markdown",
   "id": "29f84530-e8e3-4e31-aecb-5cc0e651ac7a",
   "metadata": {},
   "source": [
    "# Model Performance and Metrics for Success:"
   ]
  },
  {
   "cell_type": "markdown",
   "id": "ce090df4-e483-4c36-8d7d-6837d934081d",
   "metadata": {},
   "source": [
    "### Supervised Classification Models for Menu and Marketing Strategy\n",
    "\n",
    "Logistic Regression is a strong choice for text and keyword classification due to its:\n",
    "* Simplicity and interpretability\n",
    "* Efficiency with large datasets\n",
    "* Good performance with linearly separable classes\n",
    "* Ability to provide probability estimates\n",
    "\n",
    "Performance:\n",
    "* Accuracy: 0.9045 (90.45% correct predictions)\n",
    "* Precision: 0.9094 (90.94% of positive predictions were correct)\n",
    "* Recall: 0.9045 (90.45% of actual positive instances were identified)\n",
    "* F1 Score: 0.9038 (harmonic mean of precision and recall)\n",
    "\n",
    "Random Forest is also an excellent option for text and keyword classification because it:\n",
    "* Handles non-linear relationships well\n",
    "* Reduces overfitting through ensemble learning\n",
    "* Provides feature importance rankings\n",
    "* Performs well with high-dimensional data\n",
    "\n",
    "Performance:\n",
    "* Accuracy: 0.8886 (88.86% correct predictions)\n",
    "* Precision: 0.8964 (89.64% of positive predictions were correct)\n",
    "* Recall: 0.8886 (88.86% of actual positive instances were identified)\n",
    "* F1 Score: 0.8874 (harmonic mean of precision and recall)\n",
    "\n",
    "Comparison:\n",
    "- Both models show strong performance, with Logistic Regression slightly outperforming Random Forest across all metrics:\n",
    "* Accuracy: Logistic Regression is 1.59 percentage points higher\n",
    "* Precision: Logistic Regression is 1.30 percentage points higher\n",
    "* Recall: Logistic Regression is 1.59 percentage points higher\n",
    "* F1 Score: Logistic Regression is 1.64 percentage points higher\n",
    "Logistic Regression shows better performance in this case, and should be used moving forward."
   ]
  },
  {
   "cell_type": "markdown",
   "id": "632c5c27-a950-4f0d-a204-cabae699d262",
   "metadata": {},
   "source": [
    "### Unsupervised Clustering Models for Location Analysis\n",
    "\n",
    "- Both K-means and DBSCAN are popular clustering algorithms, each with its own strengths:\n",
    "\n",
    "K-means\n",
    "* Performance:\n",
    "* Silhouette Score: 0.443\n",
    "* Inertia: 15,436,534,561.065\n",
    "\n",
    "How it works:\n",
    "* Randomly initializes k cluster centroids\n",
    "* Assigns each data point to the nearest centroid\n",
    "* Recalculates centroids based on assigned points\n",
    "* Repeats steps 2-3 until convergence\n",
    "\n",
    "Interpretation:\n",
    "* Silhouette score indicates moderate cluster separation and cohesion\n",
    "* Lower inertia suggests tighter clusters\n",
    "\n",
    "DBSCAN\n",
    "* Performance:\n",
    "* Silhouette Score: 0.566\n",
    "* Inertia: 2,544,347,384,021.328\n",
    "\n",
    "How it works:\n",
    "* Identifies core points with a minimum number of neighbors within a specified radius\n",
    "* Expands clusters from core points\n",
    "* Labels points not reaching the density threshold as noise\n",
    "\n",
    "Interpretation:\n",
    "* Higher silhouette score indicates better-defined clusters than K-means\n",
    "* Higher inertia is not directly comparable due to different clustering approaches\n",
    "\n",
    "### Comparison\n",
    "\n",
    "Cluster Shape:\n",
    "* K-means: Assumes spherical clusters\n",
    "* DBSCAN: Can identify clusters of arbitrary shapes\n",
    "Number of Clusters:\n",
    "* K-means: Requires pre-defining the number of clusters\n",
    "* DBSCAN: Automatically determines the number of clusters\n",
    "Outlier Handling:\n",
    "* K-means: Sensitive to outliers\n",
    "* DBSCAN: Can identify and exclude outliers as noise\n",
    "Scalability:\n",
    "* K-means: Generally more scalable to large datasets\n",
    "* DBSCAN: Can be less efficient with very large datasets\n",
    "\n",
    "Performance on Data:\n",
    "- DBSCAN shows a higher silhouette score, but comparing that score directly between these two models is not possible\n",
    "\n",
    "Limitations and Future Improvements\n",
    "\n",
    "* Feature Engineering: Experiment with different combinations of features or derived metrics\n",
    "* Hyperparameter Tuning: For K-means: Try different values of k; For DBSCAN: Experiment with eps and min_samples parameters\n",
    "* Dimensionality Reduction: Apply PCA before clustering to potentially improve results\n",
    "* Ensemble Methods: Combine results from multiple models for more robust results\n",
    "* Geospatial Considerations: Incorporate geographical coordinates, expand search for new locations outside Alabama\n",
    "* Improve Data Acquisition: Obtain additional food preference information unique to the specific area where the food is going to be sold \n",
    "  \n",
    "By considering these factors and potential improvements, this venture can refine clustering approaches and gain more meaningful insights."
   ]
  },
  {
   "cell_type": "markdown",
   "id": "3efc1816-ce7b-45de-a2b7-80dd2f910103",
   "metadata": {},
   "source": [
    "# Results:\n",
    "- Top Census Tracts in Alabama for intial investment\n",
    "- * Madison and Mobile are the most frequently occuring county in the top census tracts from both models\n",
    "- Top Meals and ingredients to focus on in keyword advertising and menu development\n",
    "- * Chicken, Potatoes, Beans, etc.\n",
    "- Top Meals and ingredients to avoid in keyword advertising and menu development\n",
    "- * Sushi, Caviar, Crab, etc."
   ]
  },
  {
   "cell_type": "code",
   "execution_count": null,
   "id": "2e2d8ccd-e4ae-4db8-ac18-1f8b0f9fb2eb",
   "metadata": {},
   "outputs": [],
   "source": []
  }
 ],
 "metadata": {
  "kernelspec": {
   "display_name": "Python 3 (ipykernel)",
   "language": "python",
   "name": "python3"
  },
  "language_info": {
   "codemirror_mode": {
    "name": "ipython",
    "version": 3
   },
   "file_extension": ".py",
   "mimetype": "text/x-python",
   "name": "python",
   "nbconvert_exporter": "python",
   "pygments_lexer": "ipython3",
   "version": "3.12.4"
  }
 },
 "nbformat": 4,
 "nbformat_minor": 5
}
