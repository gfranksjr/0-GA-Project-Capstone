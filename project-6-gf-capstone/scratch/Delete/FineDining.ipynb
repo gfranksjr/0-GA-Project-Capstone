{
 "cells": [
  {
   "cell_type": "markdown",
   "id": "24c0711f-d9f9-4768-b30e-e7b0a1b16100",
   "metadata": {},
   "source": [
    "# Project 6 Capstone - Part 2: Dataset Munging and Cleaning: FineDining"
   ]
  },
  {
   "cell_type": "code",
   "execution_count": 1,
   "id": "78d163b1-bc30-4fc9-b40c-8e360bfacff1",
   "metadata": {},
   "outputs": [],
   "source": [
    "# Imports\n",
    "import pandas as pd\n",
    "import nltk\n",
    "from nltk.corpus import stopwords"
   ]
  },
  {
   "cell_type": "code",
   "execution_count": null,
   "id": "62423d33-0ba9-44bd-8c8c-7b36d4ecbe1d",
   "metadata": {},
   "outputs": [],
   "source": [
    "# Data Source: \n",
    "\n",
    "# Name: FineDining\n",
    "\n",
    "# Link: https://www.reddit.com/r/finedining/ \n",
    "\n",
    "# Description: Dataset pulled using PRAW from subreddit /finedining\n",
    "\n",
    "# Data Dictionary: Created_UTC - Timestamp of post; Title - Title of Post; Self_Text - Content of the Post; Subreddit - Name of the subreddit"
   ]
  },
  {
   "cell_type": "markdown",
   "id": "09684ac8-489a-4e47-b184-eda09917f79e",
   "metadata": {},
   "source": [
    "|Feature|Type|Dataset|Description|\n",
    "|---|---|---|---|\n",
    "|**finedining.csv**|*dtypes: float64(1), object(3)*|Reddit|Dataset pulled using PRAW from subreddit /finedining|"
   ]
  },
  {
   "cell_type": "code",
   "execution_count": 2,
   "id": "619c891e-b6de-41a9-a4b8-037d9118a92d",
   "metadata": {},
   "outputs": [],
   "source": [
    "df = pd.read_csv('../data/PRAW/finedining.csv')"
   ]
  },
  {
   "cell_type": "code",
   "execution_count": 3,
   "id": "9e899378-61dd-4777-979b-c20b6c8a6e4b",
   "metadata": {},
   "outputs": [
    {
     "data": {
      "text/plain": [
       "(996, 4)"
      ]
     },
     "execution_count": 3,
     "metadata": {},
     "output_type": "execute_result"
    }
   ],
   "source": [
    "df.shape"
   ]
  },
  {
   "cell_type": "code",
   "execution_count": 4,
   "id": "f928d396-a041-4173-b66d-5fbd9c76bec2",
   "metadata": {},
   "outputs": [
    {
     "data": {
      "text/html": [
       "<div>\n",
       "<style scoped>\n",
       "    .dataframe tbody tr th:only-of-type {\n",
       "        vertical-align: middle;\n",
       "    }\n",
       "\n",
       "    .dataframe tbody tr th {\n",
       "        vertical-align: top;\n",
       "    }\n",
       "\n",
       "    .dataframe thead th {\n",
       "        text-align: right;\n",
       "    }\n",
       "</style>\n",
       "<table border=\"1\" class=\"dataframe\">\n",
       "  <thead>\n",
       "    <tr style=\"text-align: right;\">\n",
       "      <th></th>\n",
       "      <th>created_utc</th>\n",
       "      <th>title</th>\n",
       "      <th>self_text</th>\n",
       "      <th>subreddit</th>\n",
       "    </tr>\n",
       "  </thead>\n",
       "  <tbody>\n",
       "    <tr>\n",
       "      <th>0</th>\n",
       "      <td>1.735992e+09</td>\n",
       "      <td>Ambience photos</td>\n",
       "      <td>Love the restaurant review posts on here. As a...</td>\n",
       "      <td>finedining</td>\n",
       "    </tr>\n",
       "    <tr>\n",
       "      <th>1</th>\n",
       "      <td>1.735991e+09</td>\n",
       "      <td>Andrew Fairlie** (Scotland)</td>\n",
       "      <td>Dined at 2 starred Andrew Fairlie, located at ...</td>\n",
       "      <td>finedining</td>\n",
       "    </tr>\n",
       "    <tr>\n",
       "      <th>2</th>\n",
       "      <td>1.735967e+09</td>\n",
       "      <td>cépages - Gunma, Japan</td>\n",
       "      <td>Not quite sure how I originally found this pla...</td>\n",
       "      <td>finedining</td>\n",
       "    </tr>\n",
       "    <tr>\n",
       "      <th>3</th>\n",
       "      <td>1.735966e+09</td>\n",
       "      <td>Californios ** San Francisco</td>\n",
       "      <td>Had the opportunity to dine at Californios in ...</td>\n",
       "      <td>finedining</td>\n",
       "    </tr>\n",
       "    <tr>\n",
       "      <th>4</th>\n",
       "      <td>1.735966e+09</td>\n",
       "      <td>Valhalla, Chicago (winter menu 2024)</td>\n",
       "      <td>Visited Valhalla on a layover in Chicago after...</td>\n",
       "      <td>finedining</td>\n",
       "    </tr>\n",
       "  </tbody>\n",
       "</table>\n",
       "</div>"
      ],
      "text/plain": [
       "    created_utc                                 title  \\\n",
       "0  1.735992e+09                      Ambience photos    \n",
       "1  1.735991e+09          Andrew Fairlie** (Scotland)    \n",
       "2  1.735967e+09                cépages - Gunma, Japan   \n",
       "3  1.735966e+09         Californios ** San Francisco    \n",
       "4  1.735966e+09  Valhalla, Chicago (winter menu 2024)   \n",
       "\n",
       "                                           self_text   subreddit  \n",
       "0  Love the restaurant review posts on here. As a...  finedining  \n",
       "1  Dined at 2 starred Andrew Fairlie, located at ...  finedining  \n",
       "2  Not quite sure how I originally found this pla...  finedining  \n",
       "3  Had the opportunity to dine at Californios in ...  finedining  \n",
       "4  Visited Valhalla on a layover in Chicago after...  finedining  "
      ]
     },
     "execution_count": 4,
     "metadata": {},
     "output_type": "execute_result"
    }
   ],
   "source": [
    "df.head()"
   ]
  },
  {
   "cell_type": "code",
   "execution_count": 5,
   "id": "1b076457-0906-4b5e-9871-d563bff4ff90",
   "metadata": {},
   "outputs": [
    {
     "name": "stdout",
     "output_type": "stream",
     "text": [
      "<class 'pandas.core.frame.DataFrame'>\n",
      "RangeIndex: 996 entries, 0 to 995\n",
      "Data columns (total 4 columns):\n",
      " #   Column       Non-Null Count  Dtype  \n",
      "---  ------       --------------  -----  \n",
      " 0   created_utc  996 non-null    float64\n",
      " 1   title        996 non-null    object \n",
      " 2   self_text    879 non-null    object \n",
      " 3   subreddit    996 non-null    object \n",
      "dtypes: float64(1), object(3)\n",
      "memory usage: 31.3+ KB\n"
     ]
    }
   ],
   "source": [
    "df.info()"
   ]
  },
  {
   "cell_type": "code",
   "execution_count": 6,
   "id": "361eeac9-b473-4715-b71a-c46979bbee3d",
   "metadata": {},
   "outputs": [],
   "source": [
    "# Merge 'title' and 'self_text' into a single 'text' column\n",
    "df['title'] = df['title'].fillna('')\n",
    "df['self_text'] = df['self_text'].fillna('')\n",
    "df['text'] = df['title'] + ' ' + df['self_text']"
   ]
  },
  {
   "cell_type": "code",
   "execution_count": 7,
   "id": "a8e9d20b-f0c3-409c-8238-6a10168c778f",
   "metadata": {},
   "outputs": [
    {
     "data": {
      "text/plain": [
       "(996, 5)"
      ]
     },
     "execution_count": 7,
     "metadata": {},
     "output_type": "execute_result"
    }
   ],
   "source": [
    "df.shape"
   ]
  },
  {
   "cell_type": "code",
   "execution_count": 8,
   "id": "78196714-40ca-4f38-8e21-e28d037f2998",
   "metadata": {},
   "outputs": [
    {
     "data": {
      "text/html": [
       "<div>\n",
       "<style scoped>\n",
       "    .dataframe tbody tr th:only-of-type {\n",
       "        vertical-align: middle;\n",
       "    }\n",
       "\n",
       "    .dataframe tbody tr th {\n",
       "        vertical-align: top;\n",
       "    }\n",
       "\n",
       "    .dataframe thead th {\n",
       "        text-align: right;\n",
       "    }\n",
       "</style>\n",
       "<table border=\"1\" class=\"dataframe\">\n",
       "  <thead>\n",
       "    <tr style=\"text-align: right;\">\n",
       "      <th></th>\n",
       "      <th>created_utc</th>\n",
       "      <th>title</th>\n",
       "      <th>self_text</th>\n",
       "      <th>subreddit</th>\n",
       "      <th>text</th>\n",
       "    </tr>\n",
       "  </thead>\n",
       "  <tbody>\n",
       "    <tr>\n",
       "      <th>0</th>\n",
       "      <td>1.735992e+09</td>\n",
       "      <td>Ambience photos</td>\n",
       "      <td>Love the restaurant review posts on here. As a...</td>\n",
       "      <td>finedining</td>\n",
       "      <td>Ambience photos  Love the restaurant review po...</td>\n",
       "    </tr>\n",
       "    <tr>\n",
       "      <th>1</th>\n",
       "      <td>1.735991e+09</td>\n",
       "      <td>Andrew Fairlie** (Scotland)</td>\n",
       "      <td>Dined at 2 starred Andrew Fairlie, located at ...</td>\n",
       "      <td>finedining</td>\n",
       "      <td>Andrew Fairlie** (Scotland)  Dined at 2 starre...</td>\n",
       "    </tr>\n",
       "    <tr>\n",
       "      <th>2</th>\n",
       "      <td>1.735967e+09</td>\n",
       "      <td>cépages - Gunma, Japan</td>\n",
       "      <td>Not quite sure how I originally found this pla...</td>\n",
       "      <td>finedining</td>\n",
       "      <td>cépages - Gunma, Japan Not quite sure how I or...</td>\n",
       "    </tr>\n",
       "    <tr>\n",
       "      <th>3</th>\n",
       "      <td>1.735966e+09</td>\n",
       "      <td>Californios ** San Francisco</td>\n",
       "      <td>Had the opportunity to dine at Californios in ...</td>\n",
       "      <td>finedining</td>\n",
       "      <td>Californios ** San Francisco  Had the opportun...</td>\n",
       "    </tr>\n",
       "    <tr>\n",
       "      <th>4</th>\n",
       "      <td>1.735966e+09</td>\n",
       "      <td>Valhalla, Chicago (winter menu 2024)</td>\n",
       "      <td>Visited Valhalla on a layover in Chicago after...</td>\n",
       "      <td>finedining</td>\n",
       "      <td>Valhalla, Chicago (winter menu 2024) Visited V...</td>\n",
       "    </tr>\n",
       "  </tbody>\n",
       "</table>\n",
       "</div>"
      ],
      "text/plain": [
       "    created_utc                                 title  \\\n",
       "0  1.735992e+09                      Ambience photos    \n",
       "1  1.735991e+09          Andrew Fairlie** (Scotland)    \n",
       "2  1.735967e+09                cépages - Gunma, Japan   \n",
       "3  1.735966e+09         Californios ** San Francisco    \n",
       "4  1.735966e+09  Valhalla, Chicago (winter menu 2024)   \n",
       "\n",
       "                                           self_text   subreddit  \\\n",
       "0  Love the restaurant review posts on here. As a...  finedining   \n",
       "1  Dined at 2 starred Andrew Fairlie, located at ...  finedining   \n",
       "2  Not quite sure how I originally found this pla...  finedining   \n",
       "3  Had the opportunity to dine at Californios in ...  finedining   \n",
       "4  Visited Valhalla on a layover in Chicago after...  finedining   \n",
       "\n",
       "                                                text  \n",
       "0  Ambience photos  Love the restaurant review po...  \n",
       "1  Andrew Fairlie** (Scotland)  Dined at 2 starre...  \n",
       "2  cépages - Gunma, Japan Not quite sure how I or...  \n",
       "3  Californios ** San Francisco  Had the opportun...  \n",
       "4  Valhalla, Chicago (winter menu 2024) Visited V...  "
      ]
     },
     "execution_count": 8,
     "metadata": {},
     "output_type": "execute_result"
    }
   ],
   "source": [
    "df.head()"
   ]
  },
  {
   "cell_type": "code",
   "execution_count": 9,
   "id": "23991b9c-89f2-4527-a560-842600b3ce75",
   "metadata": {},
   "outputs": [
    {
     "name": "stderr",
     "output_type": "stream",
     "text": [
      "[nltk_data] Downloading package stopwords to\n",
      "[nltk_data]     /Users/gfranksjr24/nltk_data...\n",
      "[nltk_data]   Package stopwords is already up-to-date!\n"
     ]
    },
    {
     "data": {
      "text/plain": [
       "True"
      ]
     },
     "execution_count": 9,
     "metadata": {},
     "output_type": "execute_result"
    }
   ],
   "source": [
    "# Remove stop words\n",
    "# download stop words\n",
    "nltk.download('stopwords')"
   ]
  },
  {
   "cell_type": "code",
   "execution_count": 10,
   "id": "3c830443-a741-4275-aed8-07fae500bf85",
   "metadata": {},
   "outputs": [],
   "source": [
    "stop_words = set(stopwords.words('english'))"
   ]
  },
  {
   "cell_type": "code",
   "execution_count": 11,
   "id": "8963f598-3d74-405c-818e-ec568dd28245",
   "metadata": {},
   "outputs": [],
   "source": [
    "def remove_stopwords(text):\n",
    "    if pd.isna(text):\n",
    "        return \"\"\n",
    "    words = str(text).split()\n",
    "    filtered_words = [word for word in words if word.lower() not in stop_words]\n",
    "    return ' '.join(filtered_words)"
   ]
  },
  {
   "cell_type": "code",
   "execution_count": 12,
   "id": "52106313-025a-40a8-aa16-8297160a77c6",
   "metadata": {},
   "outputs": [],
   "source": [
    "df['clean_text'] = df['text'].apply(remove_stopwords)"
   ]
  },
  {
   "cell_type": "code",
   "execution_count": 13,
   "id": "36ddacf0-7417-4588-969b-351fed346b9c",
   "metadata": {},
   "outputs": [
    {
     "data": {
      "text/plain": [
       "(996, 6)"
      ]
     },
     "execution_count": 13,
     "metadata": {},
     "output_type": "execute_result"
    }
   ],
   "source": [
    "df.shape"
   ]
  },
  {
   "cell_type": "code",
   "execution_count": 14,
   "id": "c96bf3e3-48f1-4497-8c42-70b91dad243e",
   "metadata": {},
   "outputs": [
    {
     "data": {
      "text/html": [
       "<div>\n",
       "<style scoped>\n",
       "    .dataframe tbody tr th:only-of-type {\n",
       "        vertical-align: middle;\n",
       "    }\n",
       "\n",
       "    .dataframe tbody tr th {\n",
       "        vertical-align: top;\n",
       "    }\n",
       "\n",
       "    .dataframe thead th {\n",
       "        text-align: right;\n",
       "    }\n",
       "</style>\n",
       "<table border=\"1\" class=\"dataframe\">\n",
       "  <thead>\n",
       "    <tr style=\"text-align: right;\">\n",
       "      <th></th>\n",
       "      <th>created_utc</th>\n",
       "      <th>title</th>\n",
       "      <th>self_text</th>\n",
       "      <th>subreddit</th>\n",
       "      <th>text</th>\n",
       "      <th>clean_text</th>\n",
       "    </tr>\n",
       "  </thead>\n",
       "  <tbody>\n",
       "    <tr>\n",
       "      <th>0</th>\n",
       "      <td>1.735992e+09</td>\n",
       "      <td>Ambience photos</td>\n",
       "      <td>Love the restaurant review posts on here. As a...</td>\n",
       "      <td>finedining</td>\n",
       "      <td>Ambience photos  Love the restaurant review po...</td>\n",
       "      <td>Ambience photos Love restaurant review posts h...</td>\n",
       "    </tr>\n",
       "    <tr>\n",
       "      <th>1</th>\n",
       "      <td>1.735991e+09</td>\n",
       "      <td>Andrew Fairlie** (Scotland)</td>\n",
       "      <td>Dined at 2 starred Andrew Fairlie, located at ...</td>\n",
       "      <td>finedining</td>\n",
       "      <td>Andrew Fairlie** (Scotland)  Dined at 2 starre...</td>\n",
       "      <td>Andrew Fairlie** (Scotland) Dined 2 starred An...</td>\n",
       "    </tr>\n",
       "    <tr>\n",
       "      <th>2</th>\n",
       "      <td>1.735967e+09</td>\n",
       "      <td>cépages - Gunma, Japan</td>\n",
       "      <td>Not quite sure how I originally found this pla...</td>\n",
       "      <td>finedining</td>\n",
       "      <td>cépages - Gunma, Japan Not quite sure how I or...</td>\n",
       "      <td>cépages - Gunma, Japan quite sure originally f...</td>\n",
       "    </tr>\n",
       "    <tr>\n",
       "      <th>3</th>\n",
       "      <td>1.735966e+09</td>\n",
       "      <td>Californios ** San Francisco</td>\n",
       "      <td>Had the opportunity to dine at Californios in ...</td>\n",
       "      <td>finedining</td>\n",
       "      <td>Californios ** San Francisco  Had the opportun...</td>\n",
       "      <td>Californios ** San Francisco opportunity dine ...</td>\n",
       "    </tr>\n",
       "    <tr>\n",
       "      <th>4</th>\n",
       "      <td>1.735966e+09</td>\n",
       "      <td>Valhalla, Chicago (winter menu 2024)</td>\n",
       "      <td>Visited Valhalla on a layover in Chicago after...</td>\n",
       "      <td>finedining</td>\n",
       "      <td>Valhalla, Chicago (winter menu 2024) Visited V...</td>\n",
       "      <td>Valhalla, Chicago (winter menu 2024) Visited V...</td>\n",
       "    </tr>\n",
       "  </tbody>\n",
       "</table>\n",
       "</div>"
      ],
      "text/plain": [
       "    created_utc                                 title  \\\n",
       "0  1.735992e+09                      Ambience photos    \n",
       "1  1.735991e+09          Andrew Fairlie** (Scotland)    \n",
       "2  1.735967e+09                cépages - Gunma, Japan   \n",
       "3  1.735966e+09         Californios ** San Francisco    \n",
       "4  1.735966e+09  Valhalla, Chicago (winter menu 2024)   \n",
       "\n",
       "                                           self_text   subreddit  \\\n",
       "0  Love the restaurant review posts on here. As a...  finedining   \n",
       "1  Dined at 2 starred Andrew Fairlie, located at ...  finedining   \n",
       "2  Not quite sure how I originally found this pla...  finedining   \n",
       "3  Had the opportunity to dine at Californios in ...  finedining   \n",
       "4  Visited Valhalla on a layover in Chicago after...  finedining   \n",
       "\n",
       "                                                text  \\\n",
       "0  Ambience photos  Love the restaurant review po...   \n",
       "1  Andrew Fairlie** (Scotland)  Dined at 2 starre...   \n",
       "2  cépages - Gunma, Japan Not quite sure how I or...   \n",
       "3  Californios ** San Francisco  Had the opportun...   \n",
       "4  Valhalla, Chicago (winter menu 2024) Visited V...   \n",
       "\n",
       "                                          clean_text  \n",
       "0  Ambience photos Love restaurant review posts h...  \n",
       "1  Andrew Fairlie** (Scotland) Dined 2 starred An...  \n",
       "2  cépages - Gunma, Japan quite sure originally f...  \n",
       "3  Californios ** San Francisco opportunity dine ...  \n",
       "4  Valhalla, Chicago (winter menu 2024) Visited V...  "
      ]
     },
     "execution_count": 14,
     "metadata": {},
     "output_type": "execute_result"
    }
   ],
   "source": [
    "df.head()"
   ]
  },
  {
   "cell_type": "code",
   "execution_count": 31,
   "id": "13d6c3db-dc70-468b-b70a-583468c0d06c",
   "metadata": {},
   "outputs": [],
   "source": [
    "# Change all characters to lowercase\n",
    "df['clean_text'] = df['clean_text'].str.lower()"
   ]
  },
  {
   "cell_type": "code",
   "execution_count": 34,
   "id": "69b6e1ef-a04c-4cac-9dba-9ff55e7c1d7c",
   "metadata": {},
   "outputs": [
    {
     "data": {
      "text/html": [
       "<div>\n",
       "<style scoped>\n",
       "    .dataframe tbody tr th:only-of-type {\n",
       "        vertical-align: middle;\n",
       "    }\n",
       "\n",
       "    .dataframe tbody tr th {\n",
       "        vertical-align: top;\n",
       "    }\n",
       "\n",
       "    .dataframe thead th {\n",
       "        text-align: right;\n",
       "    }\n",
       "</style>\n",
       "<table border=\"1\" class=\"dataframe\">\n",
       "  <thead>\n",
       "    <tr style=\"text-align: right;\">\n",
       "      <th></th>\n",
       "      <th>created_utc</th>\n",
       "      <th>title</th>\n",
       "      <th>self_text</th>\n",
       "      <th>subreddit</th>\n",
       "      <th>text</th>\n",
       "      <th>clean_text</th>\n",
       "    </tr>\n",
       "  </thead>\n",
       "  <tbody>\n",
       "    <tr>\n",
       "      <th>0</th>\n",
       "      <td>1.735992e+09</td>\n",
       "      <td>Ambience photos</td>\n",
       "      <td>Love the restaurant review posts on here. As a...</td>\n",
       "      <td>finedining</td>\n",
       "      <td>Ambience photos  Love the restaurant review po...</td>\n",
       "      <td>ambience photos love restaurant review posts h...</td>\n",
       "    </tr>\n",
       "    <tr>\n",
       "      <th>1</th>\n",
       "      <td>1.735991e+09</td>\n",
       "      <td>Andrew Fairlie** (Scotland)</td>\n",
       "      <td>Dined at 2 starred Andrew Fairlie, located at ...</td>\n",
       "      <td>finedining</td>\n",
       "      <td>Andrew Fairlie** (Scotland)  Dined at 2 starre...</td>\n",
       "      <td>andrew fairlie** (scotland) dined 2 starred an...</td>\n",
       "    </tr>\n",
       "    <tr>\n",
       "      <th>2</th>\n",
       "      <td>1.735967e+09</td>\n",
       "      <td>cépages - Gunma, Japan</td>\n",
       "      <td>Not quite sure how I originally found this pla...</td>\n",
       "      <td>finedining</td>\n",
       "      <td>cépages - Gunma, Japan Not quite sure how I or...</td>\n",
       "      <td>cépages - gunma, japan quite sure originally f...</td>\n",
       "    </tr>\n",
       "    <tr>\n",
       "      <th>3</th>\n",
       "      <td>1.735966e+09</td>\n",
       "      <td>Californios ** San Francisco</td>\n",
       "      <td>Had the opportunity to dine at Californios in ...</td>\n",
       "      <td>finedining</td>\n",
       "      <td>Californios ** San Francisco  Had the opportun...</td>\n",
       "      <td>californios ** san francisco opportunity dine ...</td>\n",
       "    </tr>\n",
       "    <tr>\n",
       "      <th>4</th>\n",
       "      <td>1.735966e+09</td>\n",
       "      <td>Valhalla, Chicago (winter menu 2024)</td>\n",
       "      <td>Visited Valhalla on a layover in Chicago after...</td>\n",
       "      <td>finedining</td>\n",
       "      <td>Valhalla, Chicago (winter menu 2024) Visited V...</td>\n",
       "      <td>valhalla, chicago (winter menu 2024) visited v...</td>\n",
       "    </tr>\n",
       "  </tbody>\n",
       "</table>\n",
       "</div>"
      ],
      "text/plain": [
       "    created_utc                                 title  \\\n",
       "0  1.735992e+09                      Ambience photos    \n",
       "1  1.735991e+09          Andrew Fairlie** (Scotland)    \n",
       "2  1.735967e+09                cépages - Gunma, Japan   \n",
       "3  1.735966e+09         Californios ** San Francisco    \n",
       "4  1.735966e+09  Valhalla, Chicago (winter menu 2024)   \n",
       "\n",
       "                                           self_text   subreddit  \\\n",
       "0  Love the restaurant review posts on here. As a...  finedining   \n",
       "1  Dined at 2 starred Andrew Fairlie, located at ...  finedining   \n",
       "2  Not quite sure how I originally found this pla...  finedining   \n",
       "3  Had the opportunity to dine at Californios in ...  finedining   \n",
       "4  Visited Valhalla on a layover in Chicago after...  finedining   \n",
       "\n",
       "                                                text  \\\n",
       "0  Ambience photos  Love the restaurant review po...   \n",
       "1  Andrew Fairlie** (Scotland)  Dined at 2 starre...   \n",
       "2  cépages - Gunma, Japan Not quite sure how I or...   \n",
       "3  Californios ** San Francisco  Had the opportun...   \n",
       "4  Valhalla, Chicago (winter menu 2024) Visited V...   \n",
       "\n",
       "                                          clean_text  \n",
       "0  ambience photos love restaurant review posts h...  \n",
       "1  andrew fairlie** (scotland) dined 2 starred an...  \n",
       "2  cépages - gunma, japan quite sure originally f...  \n",
       "3  californios ** san francisco opportunity dine ...  \n",
       "4  valhalla, chicago (winter menu 2024) visited v...  "
      ]
     },
     "execution_count": 34,
     "metadata": {},
     "output_type": "execute_result"
    }
   ],
   "source": [
    "df.head()"
   ]
  },
  {
   "cell_type": "code",
   "execution_count": null,
   "id": "3b297e21-79e8-450e-984b-f1e1b3516d0e",
   "metadata": {},
   "outputs": [],
   "source": []
  }
 ],
 "metadata": {
  "kernelspec": {
   "display_name": "Python 3 (ipykernel)",
   "language": "python",
   "name": "python3"
  },
  "language_info": {
   "codemirror_mode": {
    "name": "ipython",
    "version": 3
   },
   "file_extension": ".py",
   "mimetype": "text/x-python",
   "name": "python",
   "nbconvert_exporter": "python",
   "pygments_lexer": "ipython3",
   "version": "3.12.4"
  }
 },
 "nbformat": 4,
 "nbformat_minor": 5
}
