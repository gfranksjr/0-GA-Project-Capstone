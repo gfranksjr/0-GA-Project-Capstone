{
 "cells": [
  {
   "cell_type": "markdown",
   "id": "4c17bcb9-f9a2-422b-8ad1-d3e32268ceeb",
   "metadata": {},
   "source": [
    "# Project 3 - NLP\n",
    "---"
   ]
  },
  {
   "cell_type": "code",
   "execution_count": 2,
   "id": "5dc9e13c-3063-4b5d-bce3-0c85a0db3805",
   "metadata": {},
   "outputs": [],
   "source": [
    "# Imports\n",
    "import pandas as pd\n",
    "import nltk\n",
    "import matplotlib.pyplot as plt\n",
    "from nltk.corpus import stopwords\n",
    "from nltk.sentiment import SentimentIntensityAnalyzer\n",
    "from sklearn.model_selection import train_test_split\n",
    "from sklearn.feature_extraction.text import CountVectorizer\n",
    "from sklearn.feature_extraction.text import TfidfVectorizer\n",
    "from sklearn.linear_model import LogisticRegression\n",
    "from sklearn.ensemble import RandomForestClassifier\n",
    "from sklearn.pipeline import Pipeline\n",
    "from sklearn.metrics import accuracy_score, precision_score, recall_score, f1_score\n",
    "from sklearn.metrics import confusion_matrix, ConfusionMatrixDisplay"
   ]
  },
  {
   "cell_type": "markdown",
   "id": "ebb2fb2b-a0fa-488a-ac29-2d9876c392df",
   "metadata": {},
   "source": [
    "## Data Cleaning\n",
    "---"
   ]
  },
  {
   "cell_type": "code",
   "execution_count": 4,
   "id": "496e40d9-9114-4a14-b091-ee23e132c1b7",
   "metadata": {},
   "outputs": [],
   "source": [
    "# Read in Books data\n",
    "books_all = pd.read_csv('../data/PRAW/finedining.csv')"
   ]
  },
  {
   "cell_type": "code",
   "execution_count": 5,
   "id": "46a93369-e9cb-48fa-944a-102c2f15626e",
   "metadata": {},
   "outputs": [
    {
     "data": {
      "text/plain": [
       "(996, 4)"
      ]
     },
     "execution_count": 5,
     "metadata": {},
     "output_type": "execute_result"
    }
   ],
   "source": [
    "# Confirm enough rows are included\n",
    "books_all.shape"
   ]
  },
  {
   "cell_type": "code",
   "execution_count": 6,
   "id": "b96bac0a-4850-430d-9af9-027d9e9e4e4a",
   "metadata": {},
   "outputs": [
    {
     "name": "stdout",
     "output_type": "stream",
     "text": [
      "<class 'pandas.core.frame.DataFrame'>\n",
      "RangeIndex: 996 entries, 0 to 995\n",
      "Data columns (total 4 columns):\n",
      " #   Column       Non-Null Count  Dtype  \n",
      "---  ------       --------------  -----  \n",
      " 0   created_utc  996 non-null    float64\n",
      " 1   title        996 non-null    object \n",
      " 2   self_text    879 non-null    object \n",
      " 3   subreddit    996 non-null    object \n",
      "dtypes: float64(1), object(3)\n",
      "memory usage: 31.3+ KB\n"
     ]
    }
   ],
   "source": [
    "books_all.info()"
   ]
  },
  {
   "cell_type": "code",
   "execution_count": 7,
   "id": "cdf33565-5282-49d3-a4ff-aa064ba69fa9",
   "metadata": {},
   "outputs": [],
   "source": [
    "# Reduce dataset to required 1k rows\n",
    "books = books_all.head(1000)"
   ]
  },
  {
   "cell_type": "code",
   "execution_count": 8,
   "id": "878542c2-79a4-4715-8a76-15d400b47ba6",
   "metadata": {},
   "outputs": [
    {
     "data": {
      "text/plain": [
       "(996, 4)"
      ]
     },
     "execution_count": 8,
     "metadata": {},
     "output_type": "execute_result"
    }
   ],
   "source": [
    "books.shape"
   ]
  },
  {
   "cell_type": "code",
   "execution_count": 9,
   "id": "43fe06f5-5411-4847-9c2d-8ec5c1dcafeb",
   "metadata": {},
   "outputs": [],
   "source": [
    "# Read in Movies data\n",
    "movies_all = pd.read_csv('../data/PRAW/budgetfood.csv')"
   ]
  },
  {
   "cell_type": "code",
   "execution_count": 10,
   "id": "cae6cf88-712e-49dd-8257-b4048cc11e9b",
   "metadata": {},
   "outputs": [
    {
     "data": {
      "text/plain": [
       "(888, 4)"
      ]
     },
     "execution_count": 10,
     "metadata": {},
     "output_type": "execute_result"
    }
   ],
   "source": [
    "movies_all.shape"
   ]
  },
  {
   "cell_type": "code",
   "execution_count": 11,
   "id": "38f4567e-6883-46c1-9b24-1d0970733f9b",
   "metadata": {},
   "outputs": [],
   "source": [
    "# Reduce dataset to required 1k rows\n",
    "movies = movies_all.head(1000)"
   ]
  },
  {
   "cell_type": "code",
   "execution_count": 12,
   "id": "25f0ae8e-6f91-4b8a-8032-a4d2b0b4aa6e",
   "metadata": {},
   "outputs": [
    {
     "data": {
      "text/plain": [
       "(888, 4)"
      ]
     },
     "execution_count": 12,
     "metadata": {},
     "output_type": "execute_result"
    }
   ],
   "source": [
    "movies.shape"
   ]
  },
  {
   "cell_type": "code",
   "execution_count": 13,
   "id": "5e90db28-547a-477b-9a6a-1852e6e4d670",
   "metadata": {},
   "outputs": [],
   "source": [
    "# Combine each subreddit csv from PRAW into a combined csv to process\n",
    "df = pd.concat([movies, books], ignore_index=True)"
   ]
  },
  {
   "cell_type": "code",
   "execution_count": 14,
   "id": "4aa59bfd-fc80-446c-89b7-91a180b98680",
   "metadata": {},
   "outputs": [
    {
     "data": {
      "text/plain": [
       "(1884, 4)"
      ]
     },
     "execution_count": 14,
     "metadata": {},
     "output_type": "execute_result"
    }
   ],
   "source": [
    "# Dataframe ready to go to work!\n",
    "df.shape"
   ]
  },
  {
   "cell_type": "code",
   "execution_count": 15,
   "id": "883d043f-e792-4ed9-8347-1b04da9a4587",
   "metadata": {},
   "outputs": [],
   "source": [
    "#####"
   ]
  },
  {
   "cell_type": "markdown",
   "id": "cd43f865-2fc6-453c-8cad-a279d45986b9",
   "metadata": {},
   "source": [
    "## Preprocessing + EDA\n",
    "---"
   ]
  },
  {
   "cell_type": "code",
   "execution_count": 17,
   "id": "86efb94d-c1ea-45da-a571-865a7642b879",
   "metadata": {},
   "outputs": [
    {
     "name": "stdout",
     "output_type": "stream",
     "text": [
      "['created_utc', 'title', 'self_text', 'subreddit']\n"
     ]
    }
   ],
   "source": [
    "# Confirm column names\n",
    "print(df.columns.tolist())"
   ]
  },
  {
   "cell_type": "code",
   "execution_count": 18,
   "id": "acd8650c-36c0-4a12-b2a0-893923795d4d",
   "metadata": {},
   "outputs": [],
   "source": [
    "# Merge 'title' and 'self_text' into a single 'text' column\n",
    "df['title'] = df['title'].fillna('')\n",
    "df['self_text'] = df['self_text'].fillna('')\n",
    "df['text'] = df['title'] + ' ' + df['self_text']"
   ]
  },
  {
   "cell_type": "code",
   "execution_count": 19,
   "id": "26e5f5cf-fa9f-4249-afe4-abe74a15dd73",
   "metadata": {},
   "outputs": [
    {
     "data": {
      "text/html": [
       "<div>\n",
       "<style scoped>\n",
       "    .dataframe tbody tr th:only-of-type {\n",
       "        vertical-align: middle;\n",
       "    }\n",
       "\n",
       "    .dataframe tbody tr th {\n",
       "        vertical-align: top;\n",
       "    }\n",
       "\n",
       "    .dataframe thead th {\n",
       "        text-align: right;\n",
       "    }\n",
       "</style>\n",
       "<table border=\"1\" class=\"dataframe\">\n",
       "  <thead>\n",
       "    <tr style=\"text-align: right;\">\n",
       "      <th></th>\n",
       "      <th>created_utc</th>\n",
       "      <th>title</th>\n",
       "      <th>self_text</th>\n",
       "      <th>subreddit</th>\n",
       "      <th>text</th>\n",
       "    </tr>\n",
       "  </thead>\n",
       "  <tbody>\n",
       "    <tr>\n",
       "      <th>0</th>\n",
       "      <td>1.735956e+09</td>\n",
       "      <td>Beginner budgeter here. Need assistance.</td>\n",
       "      <td>I think we can all agree that the prices at th...</td>\n",
       "      <td>budgetfood</td>\n",
       "      <td>Beginner budgeter here. Need assistance.  I th...</td>\n",
       "    </tr>\n",
       "    <tr>\n",
       "      <th>1</th>\n",
       "      <td>1.735900e+09</td>\n",
       "      <td>cold lunches ideas</td>\n",
       "      <td>Hello, so my boyfriend is a geodesist, so they...</td>\n",
       "      <td>budgetfood</td>\n",
       "      <td>cold lunches ideas Hello, so my boyfriend is a...</td>\n",
       "    </tr>\n",
       "    <tr>\n",
       "      <th>2</th>\n",
       "      <td>1.735877e+09</td>\n",
       "      <td>Ideas for fast and cheap cake/cookies/treats? ...</td>\n",
       "      <td>Hi, I need to prepare about \\~50 treats for a ...</td>\n",
       "      <td>budgetfood</td>\n",
       "      <td>Ideas for fast and cheap cake/cookies/treats? ...</td>\n",
       "    </tr>\n",
       "    <tr>\n",
       "      <th>3</th>\n",
       "      <td>1.735870e+09</td>\n",
       "      <td>Easy soup recipe!!</td>\n",
       "      <td>I was in a pinch and was craving soup!\\nI boil...</td>\n",
       "      <td>budgetfood</td>\n",
       "      <td>Easy soup recipe!! I was in a pinch and was cr...</td>\n",
       "    </tr>\n",
       "    <tr>\n",
       "      <th>4</th>\n",
       "      <td>1.735700e+09</td>\n",
       "      <td>Easy budget soup</td>\n",
       "      <td>I made this video for a cooking page I’m part ...</td>\n",
       "      <td>budgetfood</td>\n",
       "      <td>Easy budget soup I made this video for a cooki...</td>\n",
       "    </tr>\n",
       "  </tbody>\n",
       "</table>\n",
       "</div>"
      ],
      "text/plain": [
       "    created_utc                                              title  \\\n",
       "0  1.735956e+09          Beginner budgeter here. Need assistance.    \n",
       "1  1.735900e+09                                 cold lunches ideas   \n",
       "2  1.735877e+09  Ideas for fast and cheap cake/cookies/treats? ...   \n",
       "3  1.735870e+09                                 Easy soup recipe!!   \n",
       "4  1.735700e+09                                   Easy budget soup   \n",
       "\n",
       "                                           self_text   subreddit  \\\n",
       "0  I think we can all agree that the prices at th...  budgetfood   \n",
       "1  Hello, so my boyfriend is a geodesist, so they...  budgetfood   \n",
       "2  Hi, I need to prepare about \\~50 treats for a ...  budgetfood   \n",
       "3  I was in a pinch and was craving soup!\\nI boil...  budgetfood   \n",
       "4  I made this video for a cooking page I’m part ...  budgetfood   \n",
       "\n",
       "                                                text  \n",
       "0  Beginner budgeter here. Need assistance.  I th...  \n",
       "1  cold lunches ideas Hello, so my boyfriend is a...  \n",
       "2  Ideas for fast and cheap cake/cookies/treats? ...  \n",
       "3  Easy soup recipe!! I was in a pinch and was cr...  \n",
       "4  Easy budget soup I made this video for a cooki...  "
      ]
     },
     "execution_count": 19,
     "metadata": {},
     "output_type": "execute_result"
    }
   ],
   "source": [
    "# Confirm new column was added\n",
    "df.head()"
   ]
  },
  {
   "cell_type": "code",
   "execution_count": 20,
   "id": "4474f597-d188-4601-8cd4-e8c42586d8d5",
   "metadata": {},
   "outputs": [
    {
     "data": {
      "text/plain": [
       "(1884, 5)"
      ]
     },
     "execution_count": 20,
     "metadata": {},
     "output_type": "execute_result"
    }
   ],
   "source": [
    "df.shape"
   ]
  },
  {
   "cell_type": "code",
   "execution_count": 21,
   "id": "fe5e4a2a-452b-4003-9a68-9e610f6252e6",
   "metadata": {},
   "outputs": [
    {
     "name": "stdout",
     "output_type": "stream",
     "text": [
      "['created_utc', 'title', 'self_text', 'subreddit', 'text']\n"
     ]
    }
   ],
   "source": [
    "print(df.columns.tolist())"
   ]
  },
  {
   "cell_type": "code",
   "execution_count": 22,
   "id": "ec3a79a6-257c-4a42-a98d-67e0e22c3cea",
   "metadata": {},
   "outputs": [],
   "source": [
    "# Remove stop words"
   ]
  },
  {
   "cell_type": "code",
   "execution_count": 23,
   "id": "cf72b5d2-1592-475b-9c40-6d1cbe7c1dcc",
   "metadata": {},
   "outputs": [
    {
     "name": "stderr",
     "output_type": "stream",
     "text": [
      "[nltk_data] Downloading package stopwords to\n",
      "[nltk_data]     /Users/gfranksjr24/nltk_data...\n",
      "[nltk_data]   Package stopwords is already up-to-date!\n"
     ]
    },
    {
     "data": {
      "text/plain": [
       "True"
      ]
     },
     "execution_count": 23,
     "metadata": {},
     "output_type": "execute_result"
    }
   ],
   "source": [
    "# download stop words\n",
    "nltk.download('stopwords')"
   ]
  },
  {
   "cell_type": "code",
   "execution_count": 24,
   "id": "c7a80835-50f1-491f-afce-32905be585d1",
   "metadata": {},
   "outputs": [],
   "source": [
    "stop_words = set(stopwords.words('english'))"
   ]
  },
  {
   "cell_type": "code",
   "execution_count": 25,
   "id": "68a02478-9b43-40a7-96bf-96d770881560",
   "metadata": {},
   "outputs": [],
   "source": [
    "def remove_stopwords(text):\n",
    "    if pd.isna(text):\n",
    "        return \"\"\n",
    "    words = str(text).split()\n",
    "    filtered_words = [word for word in words if word.lower() not in stop_words]\n",
    "    return ' '.join(filtered_words)"
   ]
  },
  {
   "cell_type": "code",
   "execution_count": 26,
   "id": "36365695-59b4-4fcc-97b7-72d1a600179d",
   "metadata": {
    "scrolled": true
   },
   "outputs": [],
   "source": [
    "df['clean_text'] = df['text'].apply(remove_stopwords)"
   ]
  },
  {
   "cell_type": "code",
   "execution_count": 27,
   "id": "111c064a-8beb-41d5-b1e6-d11e3b8f545e",
   "metadata": {},
   "outputs": [
    {
     "data": {
      "text/plain": [
       "(1884, 6)"
      ]
     },
     "execution_count": 27,
     "metadata": {},
     "output_type": "execute_result"
    }
   ],
   "source": [
    "df.shape"
   ]
  },
  {
   "cell_type": "code",
   "execution_count": 28,
   "id": "675376bc-fb44-43c3-a0b8-4df42a06f818",
   "metadata": {},
   "outputs": [
    {
     "data": {
      "text/html": [
       "<div>\n",
       "<style scoped>\n",
       "    .dataframe tbody tr th:only-of-type {\n",
       "        vertical-align: middle;\n",
       "    }\n",
       "\n",
       "    .dataframe tbody tr th {\n",
       "        vertical-align: top;\n",
       "    }\n",
       "\n",
       "    .dataframe thead th {\n",
       "        text-align: right;\n",
       "    }\n",
       "</style>\n",
       "<table border=\"1\" class=\"dataframe\">\n",
       "  <thead>\n",
       "    <tr style=\"text-align: right;\">\n",
       "      <th></th>\n",
       "      <th>created_utc</th>\n",
       "      <th>title</th>\n",
       "      <th>self_text</th>\n",
       "      <th>subreddit</th>\n",
       "      <th>text</th>\n",
       "      <th>clean_text</th>\n",
       "    </tr>\n",
       "  </thead>\n",
       "  <tbody>\n",
       "    <tr>\n",
       "      <th>0</th>\n",
       "      <td>1.735956e+09</td>\n",
       "      <td>Beginner budgeter here. Need assistance.</td>\n",
       "      <td>I think we can all agree that the prices at th...</td>\n",
       "      <td>budgetfood</td>\n",
       "      <td>Beginner budgeter here. Need assistance.  I th...</td>\n",
       "      <td>Beginner budgeter here. Need assistance. think...</td>\n",
       "    </tr>\n",
       "    <tr>\n",
       "      <th>1</th>\n",
       "      <td>1.735900e+09</td>\n",
       "      <td>cold lunches ideas</td>\n",
       "      <td>Hello, so my boyfriend is a geodesist, so they...</td>\n",
       "      <td>budgetfood</td>\n",
       "      <td>cold lunches ideas Hello, so my boyfriend is a...</td>\n",
       "      <td>cold lunches ideas Hello, boyfriend geodesist,...</td>\n",
       "    </tr>\n",
       "    <tr>\n",
       "      <th>2</th>\n",
       "      <td>1.735877e+09</td>\n",
       "      <td>Ideas for fast and cheap cake/cookies/treats? ...</td>\n",
       "      <td>Hi, I need to prepare about \\~50 treats for a ...</td>\n",
       "      <td>budgetfood</td>\n",
       "      <td>Ideas for fast and cheap cake/cookies/treats? ...</td>\n",
       "      <td>Ideas fast cheap cake/cookies/treats? Need mak...</td>\n",
       "    </tr>\n",
       "    <tr>\n",
       "      <th>3</th>\n",
       "      <td>1.735870e+09</td>\n",
       "      <td>Easy soup recipe!!</td>\n",
       "      <td>I was in a pinch and was craving soup!\\nI boil...</td>\n",
       "      <td>budgetfood</td>\n",
       "      <td>Easy soup recipe!! I was in a pinch and was cr...</td>\n",
       "      <td>Easy soup recipe!! pinch craving soup! boiled ...</td>\n",
       "    </tr>\n",
       "    <tr>\n",
       "      <th>4</th>\n",
       "      <td>1.735700e+09</td>\n",
       "      <td>Easy budget soup</td>\n",
       "      <td>I made this video for a cooking page I’m part ...</td>\n",
       "      <td>budgetfood</td>\n",
       "      <td>Easy budget soup I made this video for a cooki...</td>\n",
       "      <td>Easy budget soup made video cooking page I’m p...</td>\n",
       "    </tr>\n",
       "  </tbody>\n",
       "</table>\n",
       "</div>"
      ],
      "text/plain": [
       "    created_utc                                              title  \\\n",
       "0  1.735956e+09          Beginner budgeter here. Need assistance.    \n",
       "1  1.735900e+09                                 cold lunches ideas   \n",
       "2  1.735877e+09  Ideas for fast and cheap cake/cookies/treats? ...   \n",
       "3  1.735870e+09                                 Easy soup recipe!!   \n",
       "4  1.735700e+09                                   Easy budget soup   \n",
       "\n",
       "                                           self_text   subreddit  \\\n",
       "0  I think we can all agree that the prices at th...  budgetfood   \n",
       "1  Hello, so my boyfriend is a geodesist, so they...  budgetfood   \n",
       "2  Hi, I need to prepare about \\~50 treats for a ...  budgetfood   \n",
       "3  I was in a pinch and was craving soup!\\nI boil...  budgetfood   \n",
       "4  I made this video for a cooking page I’m part ...  budgetfood   \n",
       "\n",
       "                                                text  \\\n",
       "0  Beginner budgeter here. Need assistance.  I th...   \n",
       "1  cold lunches ideas Hello, so my boyfriend is a...   \n",
       "2  Ideas for fast and cheap cake/cookies/treats? ...   \n",
       "3  Easy soup recipe!! I was in a pinch and was cr...   \n",
       "4  Easy budget soup I made this video for a cooki...   \n",
       "\n",
       "                                          clean_text  \n",
       "0  Beginner budgeter here. Need assistance. think...  \n",
       "1  cold lunches ideas Hello, boyfriend geodesist,...  \n",
       "2  Ideas fast cheap cake/cookies/treats? Need mak...  \n",
       "3  Easy soup recipe!! pinch craving soup! boiled ...  \n",
       "4  Easy budget soup made video cooking page I’m p...  "
      ]
     },
     "execution_count": 28,
     "metadata": {},
     "output_type": "execute_result"
    }
   ],
   "source": [
    "df.head()"
   ]
  },
  {
   "cell_type": "code",
   "execution_count": 29,
   "id": "48bd8174-52a0-44f5-8dd1-84f051d1e453",
   "metadata": {},
   "outputs": [],
   "source": [
    "# Remove special characters\n",
    "df['clean_text'] = df['clean_text'].str.replace(r'[^\\w\\s]', '', regex=True)"
   ]
  },
  {
   "cell_type": "code",
   "execution_count": 30,
   "id": "31c43f32-19c5-477e-af06-d408ad35a949",
   "metadata": {},
   "outputs": [
    {
     "data": {
      "text/html": [
       "<div>\n",
       "<style scoped>\n",
       "    .dataframe tbody tr th:only-of-type {\n",
       "        vertical-align: middle;\n",
       "    }\n",
       "\n",
       "    .dataframe tbody tr th {\n",
       "        vertical-align: top;\n",
       "    }\n",
       "\n",
       "    .dataframe thead th {\n",
       "        text-align: right;\n",
       "    }\n",
       "</style>\n",
       "<table border=\"1\" class=\"dataframe\">\n",
       "  <thead>\n",
       "    <tr style=\"text-align: right;\">\n",
       "      <th></th>\n",
       "      <th>created_utc</th>\n",
       "      <th>title</th>\n",
       "      <th>self_text</th>\n",
       "      <th>subreddit</th>\n",
       "      <th>text</th>\n",
       "      <th>clean_text</th>\n",
       "    </tr>\n",
       "  </thead>\n",
       "  <tbody>\n",
       "    <tr>\n",
       "      <th>0</th>\n",
       "      <td>1.735956e+09</td>\n",
       "      <td>Beginner budgeter here. Need assistance.</td>\n",
       "      <td>I think we can all agree that the prices at th...</td>\n",
       "      <td>budgetfood</td>\n",
       "      <td>Beginner budgeter here. Need assistance.  I th...</td>\n",
       "      <td>Beginner budgeter here Need assistance think a...</td>\n",
       "    </tr>\n",
       "    <tr>\n",
       "      <th>1</th>\n",
       "      <td>1.735900e+09</td>\n",
       "      <td>cold lunches ideas</td>\n",
       "      <td>Hello, so my boyfriend is a geodesist, so they...</td>\n",
       "      <td>budgetfood</td>\n",
       "      <td>cold lunches ideas Hello, so my boyfriend is a...</td>\n",
       "      <td>cold lunches ideas Hello boyfriend geodesist w...</td>\n",
       "    </tr>\n",
       "    <tr>\n",
       "      <th>2</th>\n",
       "      <td>1.735877e+09</td>\n",
       "      <td>Ideas for fast and cheap cake/cookies/treats? ...</td>\n",
       "      <td>Hi, I need to prepare about \\~50 treats for a ...</td>\n",
       "      <td>budgetfood</td>\n",
       "      <td>Ideas for fast and cheap cake/cookies/treats? ...</td>\n",
       "      <td>Ideas fast cheap cakecookiestreats Need make 5...</td>\n",
       "    </tr>\n",
       "    <tr>\n",
       "      <th>3</th>\n",
       "      <td>1.735870e+09</td>\n",
       "      <td>Easy soup recipe!!</td>\n",
       "      <td>I was in a pinch and was craving soup!\\nI boil...</td>\n",
       "      <td>budgetfood</td>\n",
       "      <td>Easy soup recipe!! I was in a pinch and was cr...</td>\n",
       "      <td>Easy soup recipe pinch craving soup boiled car...</td>\n",
       "    </tr>\n",
       "    <tr>\n",
       "      <th>4</th>\n",
       "      <td>1.735700e+09</td>\n",
       "      <td>Easy budget soup</td>\n",
       "      <td>I made this video for a cooking page I’m part ...</td>\n",
       "      <td>budgetfood</td>\n",
       "      <td>Easy budget soup I made this video for a cooki...</td>\n",
       "      <td>Easy budget soup made video cooking page Im pa...</td>\n",
       "    </tr>\n",
       "  </tbody>\n",
       "</table>\n",
       "</div>"
      ],
      "text/plain": [
       "    created_utc                                              title  \\\n",
       "0  1.735956e+09          Beginner budgeter here. Need assistance.    \n",
       "1  1.735900e+09                                 cold lunches ideas   \n",
       "2  1.735877e+09  Ideas for fast and cheap cake/cookies/treats? ...   \n",
       "3  1.735870e+09                                 Easy soup recipe!!   \n",
       "4  1.735700e+09                                   Easy budget soup   \n",
       "\n",
       "                                           self_text   subreddit  \\\n",
       "0  I think we can all agree that the prices at th...  budgetfood   \n",
       "1  Hello, so my boyfriend is a geodesist, so they...  budgetfood   \n",
       "2  Hi, I need to prepare about \\~50 treats for a ...  budgetfood   \n",
       "3  I was in a pinch and was craving soup!\\nI boil...  budgetfood   \n",
       "4  I made this video for a cooking page I’m part ...  budgetfood   \n",
       "\n",
       "                                                text  \\\n",
       "0  Beginner budgeter here. Need assistance.  I th...   \n",
       "1  cold lunches ideas Hello, so my boyfriend is a...   \n",
       "2  Ideas for fast and cheap cake/cookies/treats? ...   \n",
       "3  Easy soup recipe!! I was in a pinch and was cr...   \n",
       "4  Easy budget soup I made this video for a cooki...   \n",
       "\n",
       "                                          clean_text  \n",
       "0  Beginner budgeter here Need assistance think a...  \n",
       "1  cold lunches ideas Hello boyfriend geodesist w...  \n",
       "2  Ideas fast cheap cakecookiestreats Need make 5...  \n",
       "3  Easy soup recipe pinch craving soup boiled car...  \n",
       "4  Easy budget soup made video cooking page Im pa...  "
      ]
     },
     "execution_count": 30,
     "metadata": {},
     "output_type": "execute_result"
    }
   ],
   "source": [
    "df.head()"
   ]
  },
  {
   "cell_type": "code",
   "execution_count": 31,
   "id": "4ee20784-7436-441e-97cd-c8c364bc39d9",
   "metadata": {},
   "outputs": [
    {
     "name": "stdout",
     "output_type": "stream",
     "text": [
      "['created_utc', 'title', 'self_text', 'subreddit', 'text', 'clean_text']\n"
     ]
    }
   ],
   "source": [
    "print(df.columns.tolist()) "
   ]
  },
  {
   "cell_type": "code",
   "execution_count": 32,
   "id": "c8255317-1d40-4b30-9c93-6156b84931c4",
   "metadata": {},
   "outputs": [],
   "source": [
    "df = df.drop(['title', 'self_text', 'text'], axis=1)"
   ]
  },
  {
   "cell_type": "code",
   "execution_count": 33,
   "id": "dcce79fc-28b0-418a-8749-e0927eaece9c",
   "metadata": {},
   "outputs": [
    {
     "name": "stdout",
     "output_type": "stream",
     "text": [
      "['created_utc', 'subreddit', 'clean_text']\n"
     ]
    }
   ],
   "source": [
    "print(df.columns.tolist()) "
   ]
  },
  {
   "cell_type": "code",
   "execution_count": 34,
   "id": "7eee16e3-6023-4e01-9e8b-c91d3c1b4aa6",
   "metadata": {},
   "outputs": [
    {
     "data": {
      "text/html": [
       "<div>\n",
       "<style scoped>\n",
       "    .dataframe tbody tr th:only-of-type {\n",
       "        vertical-align: middle;\n",
       "    }\n",
       "\n",
       "    .dataframe tbody tr th {\n",
       "        vertical-align: top;\n",
       "    }\n",
       "\n",
       "    .dataframe thead th {\n",
       "        text-align: right;\n",
       "    }\n",
       "</style>\n",
       "<table border=\"1\" class=\"dataframe\">\n",
       "  <thead>\n",
       "    <tr style=\"text-align: right;\">\n",
       "      <th></th>\n",
       "      <th>created_utc</th>\n",
       "      <th>subreddit</th>\n",
       "      <th>clean_text</th>\n",
       "    </tr>\n",
       "  </thead>\n",
       "  <tbody>\n",
       "    <tr>\n",
       "      <th>0</th>\n",
       "      <td>1.735956e+09</td>\n",
       "      <td>budgetfood</td>\n",
       "      <td>Beginner budgeter here Need assistance think a...</td>\n",
       "    </tr>\n",
       "    <tr>\n",
       "      <th>1</th>\n",
       "      <td>1.735900e+09</td>\n",
       "      <td>budgetfood</td>\n",
       "      <td>cold lunches ideas Hello boyfriend geodesist w...</td>\n",
       "    </tr>\n",
       "    <tr>\n",
       "      <th>2</th>\n",
       "      <td>1.735877e+09</td>\n",
       "      <td>budgetfood</td>\n",
       "      <td>Ideas fast cheap cakecookiestreats Need make 5...</td>\n",
       "    </tr>\n",
       "    <tr>\n",
       "      <th>3</th>\n",
       "      <td>1.735870e+09</td>\n",
       "      <td>budgetfood</td>\n",
       "      <td>Easy soup recipe pinch craving soup boiled car...</td>\n",
       "    </tr>\n",
       "    <tr>\n",
       "      <th>4</th>\n",
       "      <td>1.735700e+09</td>\n",
       "      <td>budgetfood</td>\n",
       "      <td>Easy budget soup made video cooking page Im pa...</td>\n",
       "    </tr>\n",
       "  </tbody>\n",
       "</table>\n",
       "</div>"
      ],
      "text/plain": [
       "    created_utc   subreddit                                         clean_text\n",
       "0  1.735956e+09  budgetfood  Beginner budgeter here Need assistance think a...\n",
       "1  1.735900e+09  budgetfood  cold lunches ideas Hello boyfriend geodesist w...\n",
       "2  1.735877e+09  budgetfood  Ideas fast cheap cakecookiestreats Need make 5...\n",
       "3  1.735870e+09  budgetfood  Easy soup recipe pinch craving soup boiled car...\n",
       "4  1.735700e+09  budgetfood  Easy budget soup made video cooking page Im pa..."
      ]
     },
     "execution_count": 34,
     "metadata": {},
     "output_type": "execute_result"
    }
   ],
   "source": [
    "df.head()"
   ]
  },
  {
   "cell_type": "code",
   "execution_count": 35,
   "id": "3885e94c-cd6a-41be-b740-b53440bda12f",
   "metadata": {},
   "outputs": [],
   "source": [
    "# Change all characters to lowercase\n",
    "df['clean_text'] = df['clean_text'].str.lower()"
   ]
  },
  {
   "cell_type": "code",
   "execution_count": 36,
   "id": "d18412f5-db1e-412c-a2c0-5dc1b99c91ed",
   "metadata": {},
   "outputs": [
    {
     "data": {
      "text/html": [
       "<div>\n",
       "<style scoped>\n",
       "    .dataframe tbody tr th:only-of-type {\n",
       "        vertical-align: middle;\n",
       "    }\n",
       "\n",
       "    .dataframe tbody tr th {\n",
       "        vertical-align: top;\n",
       "    }\n",
       "\n",
       "    .dataframe thead th {\n",
       "        text-align: right;\n",
       "    }\n",
       "</style>\n",
       "<table border=\"1\" class=\"dataframe\">\n",
       "  <thead>\n",
       "    <tr style=\"text-align: right;\">\n",
       "      <th></th>\n",
       "      <th>created_utc</th>\n",
       "      <th>subreddit</th>\n",
       "      <th>clean_text</th>\n",
       "    </tr>\n",
       "  </thead>\n",
       "  <tbody>\n",
       "    <tr>\n",
       "      <th>0</th>\n",
       "      <td>1.735956e+09</td>\n",
       "      <td>budgetfood</td>\n",
       "      <td>beginner budgeter here need assistance think a...</td>\n",
       "    </tr>\n",
       "    <tr>\n",
       "      <th>1</th>\n",
       "      <td>1.735900e+09</td>\n",
       "      <td>budgetfood</td>\n",
       "      <td>cold lunches ideas hello boyfriend geodesist w...</td>\n",
       "    </tr>\n",
       "    <tr>\n",
       "      <th>2</th>\n",
       "      <td>1.735877e+09</td>\n",
       "      <td>budgetfood</td>\n",
       "      <td>ideas fast cheap cakecookiestreats need make 5...</td>\n",
       "    </tr>\n",
       "    <tr>\n",
       "      <th>3</th>\n",
       "      <td>1.735870e+09</td>\n",
       "      <td>budgetfood</td>\n",
       "      <td>easy soup recipe pinch craving soup boiled car...</td>\n",
       "    </tr>\n",
       "    <tr>\n",
       "      <th>4</th>\n",
       "      <td>1.735700e+09</td>\n",
       "      <td>budgetfood</td>\n",
       "      <td>easy budget soup made video cooking page im pa...</td>\n",
       "    </tr>\n",
       "  </tbody>\n",
       "</table>\n",
       "</div>"
      ],
      "text/plain": [
       "    created_utc   subreddit                                         clean_text\n",
       "0  1.735956e+09  budgetfood  beginner budgeter here need assistance think a...\n",
       "1  1.735900e+09  budgetfood  cold lunches ideas hello boyfriend geodesist w...\n",
       "2  1.735877e+09  budgetfood  ideas fast cheap cakecookiestreats need make 5...\n",
       "3  1.735870e+09  budgetfood  easy soup recipe pinch craving soup boiled car...\n",
       "4  1.735700e+09  budgetfood  easy budget soup made video cooking page im pa..."
      ]
     },
     "execution_count": 36,
     "metadata": {},
     "output_type": "execute_result"
    }
   ],
   "source": [
    "df.head()"
   ]
  },
  {
   "cell_type": "code",
   "execution_count": 37,
   "id": "e402ff3f-41e1-42fe-97b9-e39f38a53fb9",
   "metadata": {},
   "outputs": [
    {
     "name": "stderr",
     "output_type": "stream",
     "text": [
      "[nltk_data] Downloading package stopwords to\n",
      "[nltk_data]     /Users/gfranksjr24/nltk_data...\n",
      "[nltk_data]   Package stopwords is already up-to-date!\n",
      "[nltk_data] Downloading package punkt to\n",
      "[nltk_data]     /Users/gfranksjr24/nltk_data...\n",
      "[nltk_data]   Package punkt is already up-to-date!\n",
      "[nltk_data] Downloading package wordnet to\n",
      "[nltk_data]     /Users/gfranksjr24/nltk_data...\n",
      "[nltk_data]   Package wordnet is already up-to-date!\n"
     ]
    }
   ],
   "source": [
    "#NEW2025\n",
    "#NEW2025\n",
    "#NEW2025\n",
    "#NEW2025\n",
    "#NEW2025\n",
    "\n",
    "import nltk\n",
    "from nltk.corpus import wordnet as wn\n",
    "from nltk.tokenize import word_tokenize\n",
    "import pandas as pd\n",
    "\n",
    "# Download necessary NLTK data\n",
    "nltk.download('stopwords')\n",
    "nltk.download('punkt')\n",
    "nltk.download('wordnet')\n",
    "\n",
    "from nltk.corpus import stopwords\n",
    "stop_words = set(stopwords.words('english'))\n",
    "\n",
    "def is_food_related(word):\n",
    "    synsets = wn.synsets(word, pos=wn.NOUN)\n",
    "    for synset in synsets:\n",
    "        if 'food' in synset.lexname():\n",
    "            return True\n",
    "    return False\n",
    "\n",
    "def keep_food_words(text):\n",
    "    if pd.isna(text):\n",
    "        return \"\"\n",
    "    words = word_tokenize(str(text).lower())\n",
    "    food_words = [word for word in words if is_food_related(word) and word.lower() not in stop_words]\n",
    "    return ' '.join(food_words)\n",
    "\n",
    "# Apply the function to create the new 'food_text' column\n",
    "df['clean_text'] = df['clean_text'].apply(keep_food_words)\n"
   ]
  },
  {
   "cell_type": "code",
   "execution_count": 149,
   "id": "3be31718-b3fc-4dc6-b515-619d24c6322b",
   "metadata": {},
   "outputs": [
    {
     "data": {
      "text/html": [
       "<div>\n",
       "<style scoped>\n",
       "    .dataframe tbody tr th:only-of-type {\n",
       "        vertical-align: middle;\n",
       "    }\n",
       "\n",
       "    .dataframe tbody tr th {\n",
       "        vertical-align: top;\n",
       "    }\n",
       "\n",
       "    .dataframe thead th {\n",
       "        text-align: right;\n",
       "    }\n",
       "</style>\n",
       "<table border=\"1\" class=\"dataframe\">\n",
       "  <thead>\n",
       "    <tr style=\"text-align: right;\">\n",
       "      <th></th>\n",
       "      <th>created_utc</th>\n",
       "      <th>subreddit</th>\n",
       "      <th>clean_text</th>\n",
       "    </tr>\n",
       "  </thead>\n",
       "  <tbody>\n",
       "    <tr>\n",
       "      <th>0</th>\n",
       "      <td>1.735956e+09</td>\n",
       "      <td>budgetfood</td>\n",
       "      <td>food lunches dietary food chicken beef veggies...</td>\n",
       "    </tr>\n",
       "    <tr>\n",
       "      <th>1</th>\n",
       "      <td>1.735900e+09</td>\n",
       "      <td>budgetfood</td>\n",
       "      <td>lunches donuts bread meal portion</td>\n",
       "    </tr>\n",
       "    <tr>\n",
       "      <th>2</th>\n",
       "      <td>1.735877e+09</td>\n",
       "      <td>budgetfood</td>\n",
       "      <td>treats treats cookies cookies treats must swee...</td>\n",
       "    </tr>\n",
       "    <tr>\n",
       "      <th>3</th>\n",
       "      <td>1.735870e+09</td>\n",
       "      <td>budgetfood</td>\n",
       "      <td>soup soup carrots potatoes chicken broth milk ...</td>\n",
       "    </tr>\n",
       "    <tr>\n",
       "      <th>4</th>\n",
       "      <td>1.735700e+09</td>\n",
       "      <td>budgetfood</td>\n",
       "      <td>soup chicken broth bouillon water sausage brea...</td>\n",
       "    </tr>\n",
       "    <tr>\n",
       "      <th>5</th>\n",
       "      <td>1.735692e+09</td>\n",
       "      <td>budgetfood</td>\n",
       "      <td>sub milk cheese meals food meals milk margarin...</td>\n",
       "    </tr>\n",
       "    <tr>\n",
       "      <th>6</th>\n",
       "      <td>1.735644e+09</td>\n",
       "      <td>budgetfood</td>\n",
       "      <td>corn cakes</td>\n",
       "    </tr>\n",
       "    <tr>\n",
       "      <th>7</th>\n",
       "      <td>1.735623e+09</td>\n",
       "      <td>budgetfood</td>\n",
       "      <td></td>\n",
       "    </tr>\n",
       "    <tr>\n",
       "      <th>8</th>\n",
       "      <td>1.735522e+09</td>\n",
       "      <td>budgetfood</td>\n",
       "      <td>dessert treats fudge pastries marshmallow broiler</td>\n",
       "    </tr>\n",
       "    <tr>\n",
       "      <th>9</th>\n",
       "      <td>1.735456e+09</td>\n",
       "      <td>budgetfood</td>\n",
       "      <td>chicken meals chicken chicken salad meals brea...</td>\n",
       "    </tr>\n",
       "    <tr>\n",
       "      <th>10</th>\n",
       "      <td>1.735428e+09</td>\n",
       "      <td>budgetfood</td>\n",
       "      <td>breakfast hash flip sides chop butter eggs sal...</td>\n",
       "    </tr>\n",
       "    <tr>\n",
       "      <th>11</th>\n",
       "      <td>1.735415e+09</td>\n",
       "      <td>budgetfood</td>\n",
       "      <td>spaghetti noodles</td>\n",
       "    </tr>\n",
       "    <tr>\n",
       "      <th>12</th>\n",
       "      <td>1.735415e+09</td>\n",
       "      <td>budgetfood</td>\n",
       "      <td>bit bit foods food</td>\n",
       "    </tr>\n",
       "    <tr>\n",
       "      <th>13</th>\n",
       "      <td>1.735407e+09</td>\n",
       "      <td>budgetfood</td>\n",
       "      <td>leg lamb leg lamb meat dinner leg leg lamb ste...</td>\n",
       "    </tr>\n",
       "    <tr>\n",
       "      <th>14</th>\n",
       "      <td>1.735390e+09</td>\n",
       "      <td>budgetfood</td>\n",
       "      <td>chicken dish chicken meals dish chili corn</td>\n",
       "    </tr>\n",
       "    <tr>\n",
       "      <th>15</th>\n",
       "      <td>1.735319e+09</td>\n",
       "      <td>budgetfood</td>\n",
       "      <td>ingredients fish produce broccoli meal meal fo...</td>\n",
       "    </tr>\n",
       "    <tr>\n",
       "      <th>16</th>\n",
       "      <td>1.735289e+09</td>\n",
       "      <td>budgetfood</td>\n",
       "      <td>food white food</td>\n",
       "    </tr>\n",
       "    <tr>\n",
       "      <th>17</th>\n",
       "      <td>1.735267e+09</td>\n",
       "      <td>budgetfood</td>\n",
       "      <td>delicious chicken rice feed ingredients cut on...</td>\n",
       "    </tr>\n",
       "    <tr>\n",
       "      <th>18</th>\n",
       "      <td>1.735149e+09</td>\n",
       "      <td>budgetfood</td>\n",
       "      <td>stock</td>\n",
       "    </tr>\n",
       "    <tr>\n",
       "      <th>19</th>\n",
       "      <td>1.735122e+09</td>\n",
       "      <td>budgetfood</td>\n",
       "      <td>ingredients ingredients meals</td>\n",
       "    </tr>\n",
       "  </tbody>\n",
       "</table>\n",
       "</div>"
      ],
      "text/plain": [
       "     created_utc   subreddit  \\\n",
       "0   1.735956e+09  budgetfood   \n",
       "1   1.735900e+09  budgetfood   \n",
       "2   1.735877e+09  budgetfood   \n",
       "3   1.735870e+09  budgetfood   \n",
       "4   1.735700e+09  budgetfood   \n",
       "5   1.735692e+09  budgetfood   \n",
       "6   1.735644e+09  budgetfood   \n",
       "7   1.735623e+09  budgetfood   \n",
       "8   1.735522e+09  budgetfood   \n",
       "9   1.735456e+09  budgetfood   \n",
       "10  1.735428e+09  budgetfood   \n",
       "11  1.735415e+09  budgetfood   \n",
       "12  1.735415e+09  budgetfood   \n",
       "13  1.735407e+09  budgetfood   \n",
       "14  1.735390e+09  budgetfood   \n",
       "15  1.735319e+09  budgetfood   \n",
       "16  1.735289e+09  budgetfood   \n",
       "17  1.735267e+09  budgetfood   \n",
       "18  1.735149e+09  budgetfood   \n",
       "19  1.735122e+09  budgetfood   \n",
       "\n",
       "                                           clean_text  \n",
       "0   food lunches dietary food chicken beef veggies...  \n",
       "1                   lunches donuts bread meal portion  \n",
       "2   treats treats cookies cookies treats must swee...  \n",
       "3   soup soup carrots potatoes chicken broth milk ...  \n",
       "4   soup chicken broth bouillon water sausage brea...  \n",
       "5   sub milk cheese meals food meals milk margarin...  \n",
       "6                                          corn cakes  \n",
       "7                                                      \n",
       "8   dessert treats fudge pastries marshmallow broiler  \n",
       "9   chicken meals chicken chicken salad meals brea...  \n",
       "10  breakfast hash flip sides chop butter eggs sal...  \n",
       "11                                  spaghetti noodles  \n",
       "12                                 bit bit foods food  \n",
       "13  leg lamb leg lamb meat dinner leg leg lamb ste...  \n",
       "14         chicken dish chicken meals dish chili corn  \n",
       "15  ingredients fish produce broccoli meal meal fo...  \n",
       "16                                    food white food  \n",
       "17  delicious chicken rice feed ingredients cut on...  \n",
       "18                                              stock  \n",
       "19                      ingredients ingredients meals  "
      ]
     },
     "execution_count": 149,
     "metadata": {},
     "output_type": "execute_result"
    }
   ],
   "source": [
    "df.head(20)"
   ]
  },
  {
   "cell_type": "code",
   "execution_count": 147,
   "id": "a94f6acd-179c-4265-ae31-ec6e966ff8b4",
   "metadata": {},
   "outputs": [
    {
     "data": {
      "text/plain": [
       "subreddit\n",
       "finedining    996\n",
       "budgetfood    888\n",
       "Name: count, dtype: int64"
      ]
     },
     "execution_count": 147,
     "metadata": {},
     "output_type": "execute_result"
    }
   ],
   "source": [
    "df.value_counts('subreddit')"
   ]
  },
  {
   "cell_type": "code",
   "execution_count": 38,
   "id": "cfcfc00c-f0cc-4d8e-9d78-49399bbed3ce",
   "metadata": {},
   "outputs": [
    {
     "data": {
      "text/html": [
       "<div>\n",
       "<style scoped>\n",
       "    .dataframe tbody tr th:only-of-type {\n",
       "        vertical-align: middle;\n",
       "    }\n",
       "\n",
       "    .dataframe tbody tr th {\n",
       "        vertical-align: top;\n",
       "    }\n",
       "\n",
       "    .dataframe thead th {\n",
       "        text-align: right;\n",
       "    }\n",
       "</style>\n",
       "<table border=\"1\" class=\"dataframe\">\n",
       "  <thead>\n",
       "    <tr style=\"text-align: right;\">\n",
       "      <th></th>\n",
       "      <th>created_utc</th>\n",
       "    </tr>\n",
       "  </thead>\n",
       "  <tbody>\n",
       "    <tr>\n",
       "      <th>count</th>\n",
       "      <td>1.884000e+03</td>\n",
       "    </tr>\n",
       "    <tr>\n",
       "      <th>mean</th>\n",
       "      <td>1.726298e+09</td>\n",
       "    </tr>\n",
       "    <tr>\n",
       "      <th>std</th>\n",
       "      <td>8.877271e+06</td>\n",
       "    </tr>\n",
       "    <tr>\n",
       "      <th>min</th>\n",
       "      <td>1.705465e+09</td>\n",
       "    </tr>\n",
       "    <tr>\n",
       "      <th>25%</th>\n",
       "      <td>1.720210e+09</td>\n",
       "    </tr>\n",
       "    <tr>\n",
       "      <th>50%</th>\n",
       "      <td>1.729859e+09</td>\n",
       "    </tr>\n",
       "    <tr>\n",
       "      <th>75%</th>\n",
       "      <td>1.733221e+09</td>\n",
       "    </tr>\n",
       "    <tr>\n",
       "      <th>max</th>\n",
       "      <td>1.735992e+09</td>\n",
       "    </tr>\n",
       "  </tbody>\n",
       "</table>\n",
       "</div>"
      ],
      "text/plain": [
       "        created_utc\n",
       "count  1.884000e+03\n",
       "mean   1.726298e+09\n",
       "std    8.877271e+06\n",
       "min    1.705465e+09\n",
       "25%    1.720210e+09\n",
       "50%    1.729859e+09\n",
       "75%    1.733221e+09\n",
       "max    1.735992e+09"
      ]
     },
     "execution_count": 38,
     "metadata": {},
     "output_type": "execute_result"
    }
   ],
   "source": [
    "df.describe() # not useful unless column is converted to date fields"
   ]
  },
  {
   "cell_type": "code",
   "execution_count": 39,
   "id": "a9829467-7231-4621-8fd4-0a7e26bfd1ce",
   "metadata": {},
   "outputs": [
    {
     "name": "stdout",
     "output_type": "stream",
     "text": [
      "<class 'pandas.core.frame.DataFrame'>\n",
      "RangeIndex: 1884 entries, 0 to 1883\n",
      "Data columns (total 3 columns):\n",
      " #   Column       Non-Null Count  Dtype  \n",
      "---  ------       --------------  -----  \n",
      " 0   created_utc  1884 non-null   float64\n",
      " 1   subreddit    1884 non-null   object \n",
      " 2   clean_text   1884 non-null   object \n",
      "dtypes: float64(1), object(2)\n",
      "memory usage: 44.3+ KB\n"
     ]
    }
   ],
   "source": [
    "df.info()"
   ]
  },
  {
   "cell_type": "markdown",
   "id": "84cf2fdb-441c-4d2f-9df6-edcf7f21ead0",
   "metadata": {},
   "source": [
    "#### Count Vectorizing"
   ]
  },
  {
   "cell_type": "code",
   "execution_count": 41,
   "id": "5965fd09-9659-49e2-8001-576bfe0a3fc0",
   "metadata": {},
   "outputs": [],
   "source": [
    "# Instantiate a CountVectorizer object\n",
    "cv = CountVectorizer()\n",
    "\n",
    "# Fit and transform the count vectorizer on the clean_text column\n",
    "cv_transformed = cv.fit_transform(df['clean_text'])\n",
    "\n",
    "# Convert to a dense array\n",
    "cv_dense = cv_transformed.toarray()\n",
    "\n",
    "# Get the feature names (words)\n",
    "feature_names = cv.get_feature_names_out()\n",
    "\n",
    "# Create a DataFrame from the dense array\n",
    "df_cv = pd.DataFrame(cv_dense, columns=feature_names)\n",
    "\n",
    "# Add the subreddit column to the new DataFrame\n",
    "df_cv['subreddit'] = df['subreddit'].values"
   ]
  },
  {
   "cell_type": "code",
   "execution_count": 42,
   "id": "ac6b573f-5bfb-4cb4-a188-b06a8f1b1e79",
   "metadata": {},
   "outputs": [
    {
     "data": {
      "text/plain": [
       "(1884, 1130)"
      ]
     },
     "execution_count": 42,
     "metadata": {},
     "output_type": "execute_result"
    }
   ],
   "source": [
    "df_cv.shape"
   ]
  },
  {
   "cell_type": "code",
   "execution_count": 43,
   "id": "b3790ca0-27b8-4632-ab23-d9543ac8efef",
   "metadata": {},
   "outputs": [
    {
     "name": "stdout",
     "output_type": "stream",
     "text": [
      "<class 'pandas.core.frame.DataFrame'>\n",
      "RangeIndex: 1884 entries, 0 to 1883\n",
      "Columns: 1130 entries, adobo to subreddit\n",
      "dtypes: int64(1129), object(1)\n",
      "memory usage: 16.2+ MB\n"
     ]
    }
   ],
   "source": [
    "df_cv.info()"
   ]
  },
  {
   "cell_type": "code",
   "execution_count": 44,
   "id": "a95085c0-b2e8-48e1-9192-2de714e06815",
   "metadata": {},
   "outputs": [
    {
     "data": {
      "text/plain": [
       "0    budgetfood\n",
       "1    budgetfood\n",
       "2    budgetfood\n",
       "3    budgetfood\n",
       "4    budgetfood\n",
       "Name: subreddit, dtype: object"
      ]
     },
     "execution_count": 44,
     "metadata": {},
     "output_type": "execute_result"
    }
   ],
   "source": [
    "# Confirm subreddit column is still in dataframe\n",
    "df_cv['subreddit'].head()"
   ]
  },
  {
   "cell_type": "code",
   "execution_count": 45,
   "id": "782c41e3-43a7-4ca4-8ea3-2e68904a9816",
   "metadata": {
    "scrolled": true
   },
   "outputs": [
    {
     "name": "stdout",
     "output_type": "stream",
     "text": [
      "25 most common words overall:\n",
      "food           858\n",
      "meal           632\n",
      "dish           514\n",
      "menu           486\n",
      "chicken        426\n",
      "sauce          419\n",
      "course         368\n",
      "rice           346\n",
      "dinner         335\n",
      "sushi          327\n",
      "meals          300\n",
      "dishes         296\n",
      "bit            292\n",
      "cheese         289\n",
      "wine           276\n",
      "lunch          256\n",
      "meat           247\n",
      "taste          217\n",
      "ingredients    211\n",
      "bread          204\n",
      "butter         202\n",
      "oil            196\n",
      "beans          194\n",
      "sweet          191\n",
      "dessert        185\n",
      "dtype: int64\n"
     ]
    }
   ],
   "source": [
    "# Sum up the occurrences of each word, excluding the subreddit column\n",
    "word_freq = df_cv.drop(columns=['subreddit']).sum().sort_values(ascending=False)\n",
    "\n",
    "# Get the top 25 most common words\n",
    "top_25_words = word_freq.head(25)\n",
    "\n",
    "print(\"25 most common words overall:\")\n",
    "print(top_25_words)"
   ]
  },
  {
   "cell_type": "code",
   "execution_count": 46,
   "id": "75395fb5-7dc2-48ac-aba2-e6fcc46ad4d4",
   "metadata": {
    "scrolled": true
   },
   "outputs": [
    {
     "name": "stdout",
     "output_type": "stream",
     "text": [
      "25 most common words in movies subreddit:\n",
      "adobo          0\n",
      "pizzas         0\n",
      "plums          0\n",
      "plum           0\n",
      "plonk          0\n",
      "plates         0\n",
      "plate          0\n",
      "plantain       0\n",
      "pizza          0\n",
      "pomegranate    0\n",
      "pita           0\n",
      "pistachios     0\n",
      "pistachio      0\n",
      "pineapple      0\n",
      "pimento        0\n",
      "pilaf          0\n",
      "pollock        0\n",
      "pompano        0\n",
      "potluck        0\n",
      "porters        0\n",
      "potatoes       0\n",
      "potato         0\n",
      "potage         0\n",
      "posset         0\n",
      "portions       0\n",
      "dtype: int64\n"
     ]
    }
   ],
   "source": [
    "# Filter for the 'movies' subreddit\n",
    "movies_df_cv = df_cv[df_cv['subreddit'] == 'movies']\n",
    "\n",
    "# Sum up the occurrences of each word, excluding the subreddit column\n",
    "movies_word_freq = movies_df_cv.drop(columns=['subreddit']).sum().sort_values(ascending=False)\n",
    "\n",
    "# Get the top 25 most common words for movies\n",
    "top_25_movies_words = movies_word_freq.head(25)\n",
    "\n",
    "print(\"25 most common words in movies subreddit:\")\n",
    "print(top_25_movies_words)"
   ]
  },
  {
   "cell_type": "code",
   "execution_count": 47,
   "id": "163cae1e-abf7-4d7e-8e2b-cc35257582d0",
   "metadata": {
    "scrolled": true
   },
   "outputs": [
    {
     "name": "stdout",
     "output_type": "stream",
     "text": [
      "25 most common words in books subreddit:\n",
      "adobo          0\n",
      "pizzas         0\n",
      "plums          0\n",
      "plum           0\n",
      "plonk          0\n",
      "plates         0\n",
      "plate          0\n",
      "plantain       0\n",
      "pizza          0\n",
      "pomegranate    0\n",
      "pita           0\n",
      "pistachios     0\n",
      "pistachio      0\n",
      "pineapple      0\n",
      "pimento        0\n",
      "pilaf          0\n",
      "pollock        0\n",
      "pompano        0\n",
      "potluck        0\n",
      "porters        0\n",
      "potatoes       0\n",
      "potato         0\n",
      "potage         0\n",
      "posset         0\n",
      "portions       0\n",
      "dtype: int64\n"
     ]
    }
   ],
   "source": [
    "# Filter for the 'books' subreddit\n",
    "books_df_cv = df_cv[df_cv['subreddit'] == 'books']\n",
    "\n",
    "# Sum up the occurrences of each word, excluding the subreddit column\n",
    "books_word_freq = books_df_cv.drop(columns=['subreddit']).sum().sort_values(ascending=False)\n",
    "\n",
    "# Get the top 25 most common words for books\n",
    "top_25_books_words = books_word_freq.head(25)\n",
    "\n",
    "print(\"25 most common words in books subreddit:\")\n",
    "print(top_25_books_words)"
   ]
  },
  {
   "cell_type": "code",
   "execution_count": 48,
   "id": "059ba460-2e01-463b-965a-f99754c49d96",
   "metadata": {},
   "outputs": [],
   "source": [
    "# Sum up occurrences of each word by subreddit\n",
    "#movies_word_freq = df_cv[df_cv['subreddit'] == 'movies'].drop(columns='subreddit').sum().sort_values(ascending=False)\n",
    "#books_word_freq = df_cv[df_cv['subreddit'] == 'books'].drop(columns='subreddit').sum().sort_values(ascending=False)"
   ]
  },
  {
   "cell_type": "code",
   "execution_count": 49,
   "id": "ada3cca3-ff0b-4c1b-b170-4fe43769a19a",
   "metadata": {},
   "outputs": [
    {
     "data": {
      "image/png": "[encoded data removed]",
      "text/plain": [
       "<Figure size 1000x600 with 1 Axes>"
      ]
     },
     "metadata": {},
     "output_type": "display_data"
    }
   ],
   "source": [
    "# Take out the top 25 movies dataframe words \n",
    "top_25_movies_words = movies_word_freq.head(25)\n",
    "\n",
    "# Create a bar chart\n",
    "plt.figure(figsize=(10, 6))\n",
    "top_25_movies_words.plot(kind='bar', color='red')\n",
    "\n",
    "# Set the title and labels\n",
    "plt.title('Top 25 Most Common Words in Movies Subreddit')\n",
    "plt.xlabel('Words')\n",
    "plt.ylabel('Frequency')\n",
    "\n",
    "# Rotate x-axis labels \n",
    "plt.xticks(rotation=45)\n",
    "\n",
    "# Show grid\n",
    "plt.grid(axis='y')\n",
    "\n",
    "# Display the chart\n",
    "plt.tight_layout() \n",
    "plt.show()"
   ]
  },
  {
   "cell_type": "code",
   "execution_count": 50,
   "id": "68c207ae-9d83-4c98-adbe-07fcbc9a7666",
   "metadata": {},
   "outputs": [
    {
     "data": {
      "image/png": "[encoded data removed]",
      "text/plain": [
       "<Figure size 1000x600 with 1 Axes>"
      ]
     },
     "metadata": {},
     "output_type": "display_data"
    }
   ],
   "source": [
    "# Take out the top 25 books dataframe words \n",
    "top_25_books_words = books_word_freq.head(25)\n",
    "\n",
    "# Create a bar chart\n",
    "plt.figure(figsize=(10, 6))\n",
    "top_25_books_words.plot(kind='bar', color='lightgreen')\n",
    "\n",
    "# Set the title and labels\n",
    "plt.title('Top 25 Most Common Words in Books Subreddit')\n",
    "plt.xlabel('Words')\n",
    "plt.ylabel('Frequency')\n",
    "\n",
    "# Rotate x-axis labels \n",
    "plt.xticks(rotation=45)\n",
    "\n",
    "# Show grid\n",
    "plt.grid(axis='y')\n",
    "\n",
    "# Display the chart\n",
    "plt.tight_layout() \n",
    "plt.show()"
   ]
  },
  {
   "cell_type": "code",
   "execution_count": 51,
   "id": "28314a91-044c-43ff-8833-301c8a8b13b2",
   "metadata": {},
   "outputs": [],
   "source": [
    "########"
   ]
  },
  {
   "cell_type": "markdown",
   "id": "ba8ec0d7-c80e-452d-9d72-955ded307b25",
   "metadata": {},
   "source": [
    "### Sentiment Analysis"
   ]
  },
  {
   "cell_type": "code",
   "execution_count": 53,
   "id": "57efceb4-6958-4e34-8088-07ecd81e3b7f",
   "metadata": {},
   "outputs": [
    {
     "data": {
      "text/plain": [
       "adobo     0\n",
       "pizzas    0\n",
       "plums     0\n",
       "plum      0\n",
       "plonk     0\n",
       "dtype: int64"
      ]
     },
     "execution_count": 53,
     "metadata": {},
     "output_type": "execute_result"
    }
   ],
   "source": [
    "books_word_freq.head()"
   ]
  },
  {
   "cell_type": "code",
   "execution_count": 54,
   "id": "5cfb1822-1e8f-402a-99d1-82aae6f162c7",
   "metadata": {},
   "outputs": [
    {
     "data": {
      "text/plain": [
       "adobo     0\n",
       "pizzas    0\n",
       "plums     0\n",
       "plum      0\n",
       "plonk     0\n",
       "dtype: int64"
      ]
     },
     "execution_count": 54,
     "metadata": {},
     "output_type": "execute_result"
    }
   ],
   "source": [
    "movies_word_freq.head()"
   ]
  },
  {
   "cell_type": "code",
   "execution_count": 55,
   "id": "b19aa08e-047e-4c6c-830d-fa07ace4c461",
   "metadata": {},
   "outputs": [],
   "source": [
    "# Initialize the SentimentIntensityAnalyzer\n",
    "sid = SentimentIntensityAnalyzer()\n",
    "\n",
    "def analyze_sentiment(word):\n",
    "    # Get sentiment scores for the word\n",
    "    scores = sid.polarity_scores(word)\n",
    "    return scores['compound'], scores['pos'], scores['neg'], scores['neu']"
   ]
  },
  {
   "cell_type": "code",
   "execution_count": 56,
   "id": "5e6f3611-f661-402b-ad5f-55a42be4189b",
   "metadata": {
    "scrolled": true
   },
   "outputs": [
    {
     "name": "stdout",
     "output_type": "stream",
     "text": [
      "Books Sentiment Scores:\n",
      "          compound  positive  negative  neutral\n",
      "adobo          0.0       0.0       0.0      1.0\n",
      "pizzas         0.0       0.0       0.0      1.0\n",
      "plums          0.0       0.0       0.0      1.0\n",
      "plum           0.0       0.0       0.0      1.0\n",
      "plonk          0.0       0.0       0.0      1.0\n",
      "...            ...       ...       ...      ...\n",
      "filling        0.0       0.0       0.0      1.0\n",
      "fillings       0.0       0.0       0.0      1.0\n",
      "fish           0.0       0.0       0.0      1.0\n",
      "fizz           0.0       0.0       0.0      1.0\n",
      "zucchini       0.0       0.0       0.0      1.0\n",
      "\n",
      "[1129 rows x 4 columns]\n",
      "\n",
      "Movies Sentiment Scores:\n",
      "          compound  positive  negative  neutral\n",
      "adobo          0.0       0.0       0.0      1.0\n",
      "pizzas         0.0       0.0       0.0      1.0\n",
      "plums          0.0       0.0       0.0      1.0\n",
      "plum           0.0       0.0       0.0      1.0\n",
      "plonk          0.0       0.0       0.0      1.0\n",
      "...            ...       ...       ...      ...\n",
      "filling        0.0       0.0       0.0      1.0\n",
      "fillings       0.0       0.0       0.0      1.0\n",
      "fish           0.0       0.0       0.0      1.0\n",
      "fizz           0.0       0.0       0.0      1.0\n",
      "zucchini       0.0       0.0       0.0      1.0\n",
      "\n",
      "[1129 rows x 4 columns]\n"
     ]
    }
   ],
   "source": [
    "# Analyzing sentiment for books\n",
    "books_sentiment = books_word_freq.index.to_series().apply(analyze_sentiment)\n",
    "books_sentiment_df = pd.DataFrame(books_sentiment.tolist(), index=books_word_freq.index, columns=['compound', 'positive', 'negative', 'neutral'])\n",
    "\n",
    "# Analyzing sentiment for movies\n",
    "movies_sentiment = movies_word_freq.index.to_series().apply(analyze_sentiment)\n",
    "movies_sentiment_df = pd.DataFrame(movies_sentiment.tolist(), index=movies_word_freq.index, columns=['compound', 'positive', 'negative', 'neutral'])\n",
    "\n",
    "# Display results\n",
    "print(\"Books Sentiment Scores:\")\n",
    "print(books_sentiment_df)\n",
    "\n",
    "print(\"\\nMovies Sentiment Scores:\")\n",
    "print(movies_sentiment_df)"
   ]
  },
  {
   "cell_type": "code",
   "execution_count": 57,
   "id": "35726579-8456-4322-95c4-36f72591be5c",
   "metadata": {},
   "outputs": [],
   "source": [
    "# Get top positive and negative words for books\n",
    "top_books_positive = books_sentiment_df.nlargest(15, 'compound')\n",
    "top_books_negative = books_sentiment_df.nsmallest(15, 'compound')\n",
    "\n",
    "# Get top positive and negative words for movies\n",
    "top_movies_positive = movies_sentiment_df.nlargest(15, 'compound')\n",
    "top_movies_negative = movies_sentiment_df.nsmallest(15, 'compound')"
   ]
  },
  {
   "cell_type": "code",
   "execution_count": 58,
   "id": "79c77a36-4777-43bf-b444-a48ddf75bbd1",
   "metadata": {},
   "outputs": [
    {
     "data": {
      "image/png": "[encoded data removed]",
      "text/plain": [
       "<Figure size 1000x600 with 1 Axes>"
      ]
     },
     "metadata": {},
     "output_type": "display_data"
    },
    {
     "data": {
      "image/png": "[encoded data removed]",
      "text/plain": [
       "<Figure size 1000x600 with 1 Axes>"
      ]
     },
     "metadata": {},
     "output_type": "display_data"
    },
    {
     "data": {
      "image/png": "[encoded data removed]",
      "text/plain": [
       "<Figure size 1000x600 with 1 Axes>"
      ]
     },
     "metadata": {},
     "output_type": "display_data"
    },
    {
     "data": {
      "image/png": "[encoded data removed]",
      "text/plain": [
       "<Figure size 1000x600 with 1 Axes>"
      ]
     },
     "metadata": {},
     "output_type": "display_data"
    }
   ],
   "source": [
    "# Create a function to plot bar charts\n",
    "def plot_sentiment_barchart(dataframe, title):\n",
    "    plt.figure(figsize=(10, 6))\n",
    "    dataframe['compound'].plot(kind='bar', color=['green' if x >= 0 else 'red' for x in dataframe['compound']])\n",
    "    plt.title(title)\n",
    "    plt.ylabel('Compound Sentiment Score')\n",
    "    plt.xticks(rotation=45)\n",
    "    plt.axhline(0, color='black', linewidth=0.8)\n",
    "    plt.show()\n",
    "\n",
    "# Plotting charts for books\n",
    "plot_sentiment_barchart(top_books_positive, \"Top Positive Words in Books\")\n",
    "plot_sentiment_barchart(top_books_negative, \"Top Negative Words in Books\")\n",
    "\n",
    "# Plotting charts for movies\n",
    "plot_sentiment_barchart(top_movies_positive, \"Top Positive Words in Movies\")\n",
    "plot_sentiment_barchart(top_movies_negative, \"Top Negative Words in Movies\")"
   ]
  },
  {
   "cell_type": "code",
   "execution_count": 59,
   "id": "8755d2cc-3dca-4928-9307-9857613466ac",
   "metadata": {},
   "outputs": [],
   "source": [
    "#(Remove common words that exist in both datasets)"
   ]
  },
  {
   "cell_type": "markdown",
   "id": "a3f99c84-6002-470f-ab58-86b185c9c4a4",
   "metadata": {},
   "source": [
    "## Modeling + Comparison\n",
    "---"
   ]
  },
  {
   "cell_type": "code",
   "execution_count": 61,
   "id": "418131f6-088a-40e9-9f41-f5892d425f4f",
   "metadata": {},
   "outputs": [],
   "source": [
    "# Create X and y variables\n",
    "X = df['clean_text']\n",
    "y = df['subreddit']"
   ]
  },
  {
   "cell_type": "code",
   "execution_count": 62,
   "id": "26a165ee-9bfc-4ad4-9b06-bda5af0b2d79",
   "metadata": {},
   "outputs": [],
   "source": [
    "# Train_Test_Split\n",
    "X_train, X_test, y_train, y_test = train_test_split(X, y, test_size=0.2, random_state=42)"
   ]
  },
  {
   "cell_type": "code",
   "execution_count": 63,
   "id": "e63f8bd2-00c0-4306-aaff-b9c6b001c78a",
   "metadata": {},
   "outputs": [],
   "source": [
    "# Logistic Regression Pipeline with TfidfVectorizer\n",
    "lr_pipeline = Pipeline([\n",
    "    ('vectorizer', TfidfVectorizer()),\n",
    "    ('classifier', LogisticRegression())\n",
    "])\n",
    "\n",
    "lr_pipeline.fit(X_train, y_train)\n",
    "lr_predictions = lr_pipeline.predict(X_test)\n",
    "lr_accuracy = accuracy_score(y_test, lr_predictions)"
   ]
  },
  {
   "cell_type": "code",
   "execution_count": 64,
   "id": "79be58bf-97be-4236-9670-602603104ddd",
   "metadata": {},
   "outputs": [],
   "source": [
    "# Random Forest Pipeline with TfidfVectorizer\n",
    "rf_pipeline = Pipeline([\n",
    "    ('vectorizer', TfidfVectorizer()),\n",
    "    ('classifier', RandomForestClassifier())\n",
    "])\n",
    "\n",
    "rf_pipeline.fit(X_train, y_train)\n",
    "rf_predictions = rf_pipeline.predict(X_test)\n",
    "rf_accuracy = accuracy_score(y_test, rf_predictions)"
   ]
  },
  {
   "cell_type": "code",
   "execution_count": 65,
   "id": "ce8c3a9e-7bba-40aa-bcce-6a8065aa021f",
   "metadata": {},
   "outputs": [
    {
     "name": "stdout",
     "output_type": "stream",
     "text": [
      "Logistic Regression Accuracy: 0.9045092838196287\n",
      "Random Forest Accuracy: 0.883289124668435\n"
     ]
    }
   ],
   "source": [
    "# Print out accuracy scores for each model\n",
    "print(f\"Logistic Regression Accuracy: {lr_accuracy}\")\n",
    "print(f\"Random Forest Accuracy: {rf_accuracy}\")"
   ]
  },
  {
   "cell_type": "code",
   "execution_count": 66,
   "id": "c9dfd193-ce38-4b33-be12-4ba0e21a0bcc",
   "metadata": {},
   "outputs": [
    {
     "data": {
      "text/plain": [
       "subreddit\n",
       "finedining    0.535809\n",
       "budgetfood    0.464191\n",
       "Name: proportion, dtype: float64"
      ]
     },
     "execution_count": 66,
     "metadata": {},
     "output_type": "execute_result"
    }
   ],
   "source": [
    "# Baseline accuracy\n",
    "y_test.value_counts(normalize=True)"
   ]
  },
  {
   "cell_type": "code",
   "execution_count": 67,
   "id": "b847d794-9d20-4900-9e4a-8b89ff889829",
   "metadata": {},
   "outputs": [],
   "source": [
    "# Baseline accuracy is the highest value above."
   ]
  },
  {
   "cell_type": "code",
   "execution_count": 68,
   "id": "68458b00-8044-40ca-8d7e-c4fa2381a15e",
   "metadata": {},
   "outputs": [
    {
     "data": {
      "image/png": "[encoded data removed]",
      "text/plain": [
       "<Figure size 640x480 with 2 Axes>"
      ]
     },
     "metadata": {},
     "output_type": "display_data"
    }
   ],
   "source": [
    "# Create the confusion matrix\n",
    "cm_lr = confusion_matrix(y_test, lr_predictions)\n",
    "\n",
    "# Create a ConfusionMatrixDisplay object\n",
    "cm_display = ConfusionMatrixDisplay(confusion_matrix=cm_lr, display_labels=lr_pipeline.classes_)\n",
    "\n",
    "# Plot the confusion matrix\n",
    "cm_display.plot(cmap=plt.cm.BuPu_r)\n",
    "plt.title('Confusion Matrix for Logistic Regression')\n",
    "plt.show()"
   ]
  },
  {
   "cell_type": "code",
   "execution_count": 69,
   "id": "c2fa4f62-1a0f-495a-97d2-30e750f2f23a",
   "metadata": {},
   "outputs": [
    {
     "name": "stdout",
     "output_type": "stream",
     "text": [
      "True Negatives: 146\n",
      "False Positives: 29\n",
      "False Negatives: 7\n",
      "True Positives: 195\n"
     ]
    }
   ],
   "source": [
    "# Extract values from the confusion matrix for Logistic Regression\n",
    "tn, fp, fn, tp = cm_lr.ravel()\n",
    "\n",
    "print(f\"True Negatives: {tn}\")\n",
    "print(f\"False Positives: {fp}\")\n",
    "print(f\"False Negatives: {fn}\")\n",
    "print(f\"True Positives: {tp}\")"
   ]
  },
  {
   "cell_type": "code",
   "execution_count": null,
   "id": "7b3a56f8-c94a-4550-821b-7ba1d5b6ed7b",
   "metadata": {},
   "outputs": [],
   "source": []
  },
  {
   "cell_type": "code",
   "execution_count": null,
   "id": "f37c4328-542b-4185-8188-dfe8ca92834d",
   "metadata": {},
   "outputs": [],
   "source": []
  },
  {
   "cell_type": "code",
   "execution_count": null,
   "id": "b47413cd-dd60-404a-90c7-5ad0ffe8c7d0",
   "metadata": {},
   "outputs": [],
   "source": []
  },
  {
   "cell_type": "code",
   "execution_count": 70,
   "id": "d8f857e8-a46b-493e-a2d8-db10c2ce8d6c",
   "metadata": {},
   "outputs": [
    {
     "data": {
      "image/png": "[encoded data removed]",
      "text/plain": [
       "<Figure size 640x480 with 2 Axes>"
      ]
     },
     "metadata": {},
     "output_type": "display_data"
    }
   ],
   "source": [
    "# Create the confusion matrix\n",
    "cm_rf = confusion_matrix(y_test, rf_predictions)\n",
    "\n",
    "# Create and plot the confusion matrix plot\n",
    "cm_display = ConfusionMatrixDisplay(confusion_matrix=cm_rf, display_labels=rf_pipeline.classes_)\n",
    "cm_display.plot(cmap=plt.cm.gist_gray)\n",
    "plt.title('Confusion Matrix for Random Forest')\n",
    "plt.show()"
   ]
  },
  {
   "cell_type": "code",
   "execution_count": 71,
   "id": "4d1fc0d1-2842-4c3b-a989-d3acdad641fe",
   "metadata": {},
   "outputs": [
    {
     "name": "stdout",
     "output_type": "stream",
     "text": [
      "True Negatives: 140\n",
      "False Positives: 35\n",
      "False Negatives: 9\n",
      "True Positives: 193\n"
     ]
    }
   ],
   "source": [
    "# Extract values from the confusion matrix for Random Forest\n",
    "tn, fp, fn, tp = cm_rf.ravel()\n",
    "\n",
    "print(f\"True Negatives: {tn}\")\n",
    "print(f\"False Positives: {fp}\")\n",
    "print(f\"False Negatives: {fn}\")\n",
    "print(f\"True Positives: {tp}\")"
   ]
  },
  {
   "cell_type": "code",
   "execution_count": 72,
   "id": "48f35697-e595-409c-aed1-fad71b421054",
   "metadata": {},
   "outputs": [],
   "source": [
    "#Compare Model Scores"
   ]
  },
  {
   "cell_type": "code",
   "execution_count": 73,
   "id": "781108d4-1b5b-41aa-a976-d535573073d2",
   "metadata": {
    "scrolled": true
   },
   "outputs": [
    {
     "name": "stdout",
     "output_type": "stream",
     "text": [
      "Logistic Regression Metrics:\n",
      "Accuracy: 0.9045\n",
      "Precision: 0.9094\n",
      "Recall: 0.9045\n",
      "F1 Score: 0.9038\n",
      "\n",
      "Random Forest Metrics:\n",
      "Accuracy: 0.8833\n",
      "Precision: 0.8897\n",
      "Recall: 0.8833\n",
      "F1 Score: 0.8821\n",
      "\n"
     ]
    }
   ],
   "source": [
    "def calculate_metrics(y_true, y_pred, model_name):\n",
    "    accuracy = accuracy_score(y_true, y_pred)\n",
    "    precision = precision_score(y_true, y_pred, average='weighted')\n",
    "    recall = recall_score(y_true, y_pred, average='weighted')\n",
    "    f1 = f1_score(y_true, y_pred, average='weighted')\n",
    "    \n",
    "    print(f\"{model_name} Metrics:\")\n",
    "    print(f\"Accuracy: {accuracy:.4f}\")\n",
    "    print(f\"Precision: {precision:.4f}\")\n",
    "    print(f\"Recall: {recall:.4f}\")\n",
    "    print(f\"F1 Score: {f1:.4f}\")\n",
    "    print()\n",
    "\n",
    "# Calculate metrics for Logistic Regression\n",
    "calculate_metrics(y_test, lr_predictions, \"Logistic Regression\")\n",
    "\n",
    "# Calculate metrics for Random Forest\n",
    "calculate_metrics(y_test, rf_predictions, \"Random Forest\")"
   ]
  },
  {
   "cell_type": "code",
   "execution_count": null,
   "id": "8b025c9d-1b85-4ed3-9162-4bd56b03f613",
   "metadata": {},
   "outputs": [],
   "source": []
  }
 ],
 "metadata": {
  "kernelspec": {
   "display_name": "Python 3 (ipykernel)",
   "language": "python",
   "name": "python3"
  },
  "language_info": {
   "codemirror_mode": {
    "name": "ipython",
    "version": 3
   },
   "file_extension": ".py",
   "mimetype": "text/x-python",
   "name": "python",
   "nbconvert_exporter": "python",
   "pygments_lexer": "ipython3",
   "version": "3.12.4"
  }
 },
 "nbformat": 4,
 "nbformat_minor": 5
}
