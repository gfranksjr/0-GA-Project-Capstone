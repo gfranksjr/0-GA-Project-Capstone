{
 "cells": [
  {
   "cell_type": "markdown",
   "id": "476bf5d1-e2e2-469b-8b3a-fdff8270884c",
   "metadata": {},
   "source": [
    "# Project 6 Capstone - Part 2: Dataset Munging and Cleaning: Food Deserts"
   ]
  },
  {
   "cell_type": "markdown",
   "id": "2eca402b-0077-489c-bc48-fb69b54e2226",
   "metadata": {},
   "source": [
    "---"
   ]
  },
  {
   "cell_type": "code",
   "execution_count": 4,
   "id": "3f037086-d32c-44d1-bd53-783f7485a577",
   "metadata": {},
   "outputs": [],
   "source": [
    "# Imports\n",
    "import pandas as pd"
   ]
  },
  {
   "cell_type": "code",
   "execution_count": 5,
   "id": "9c533a39-76fe-45d0-a416-da58be6dccb9",
   "metadata": {},
   "outputs": [],
   "source": [
    "# Data Source: \n",
    "\n",
    "# Name: Food Deserts data for the United States\n",
    "\n",
    "# Link: https://data.world/smartcolumbusos/978eac18-d4d0-4e36-8d1d-23aadd86a702/workspace/file?filename=food-deserts-data-for-the-usa-csv-1.csv\n",
    "\n",
    "# Description: This dataset identifies the food deserts in the U.S., which includes the regions with low/limited access to food base don resident income levels and transportation availability.\n",
    "\n",
    "# Data Dictionary: https://data.world/smartcolumbusos/978eac18-d4d0-4e36-8d1d-23aadd86a702/workspace/file?filename=data-dictionary-food-deserts-csv-2.csv\n",
    "# (Also saved in Data Folder/Food_Deserts)"
   ]
  },
  {
   "cell_type": "code",
   "execution_count": 6,
   "id": "23bd909b-863a-4af9-bc67-b9ff78df62b5",
   "metadata": {},
   "outputs": [],
   "source": [
    "df = pd.read_csv('../data/Food_Deserts/food-deserts-data-for-the-usa-csv-1.csv')"
   ]
  },
  {
   "cell_type": "code",
   "execution_count": 7,
   "id": "841f0e28-0f16-4a49-9706-5f39a419e820",
   "metadata": {},
   "outputs": [
    {
     "data": {
      "text/plain": [
       "(1000, 147)"
      ]
     },
     "execution_count": 7,
     "metadata": {},
     "output_type": "execute_result"
    }
   ],
   "source": [
    "df.shape"
   ]
  },
  {
   "cell_type": "code",
   "execution_count": 8,
   "id": "5f7ee621-26d1-4c59-ae0c-dc5992d4a662",
   "metadata": {
    "scrolled": true
   },
   "outputs": [
    {
     "data": {
      "text/html": [
       "<div>\n",
       "<style scoped>\n",
       "    .dataframe tbody tr th:only-of-type {\n",
       "        vertical-align: middle;\n",
       "    }\n",
       "\n",
       "    .dataframe tbody tr th {\n",
       "        vertical-align: top;\n",
       "    }\n",
       "\n",
       "    .dataframe thead th {\n",
       "        text-align: right;\n",
       "    }\n",
       "</style>\n",
       "<table border=\"1\" class=\"dataframe\">\n",
       "  <thead>\n",
       "    <tr style=\"text-align: right;\">\n",
       "      <th></th>\n",
       "      <th>CensusTract</th>\n",
       "      <th>State</th>\n",
       "      <th>County</th>\n",
       "      <th>Urban</th>\n",
       "      <th>POP2010</th>\n",
       "      <th>OHU2010</th>\n",
       "      <th>GroupQuartersFlag</th>\n",
       "      <th>NUMGQTRS</th>\n",
       "      <th>PCTGQTRS</th>\n",
       "      <th>LILATracts_1And10</th>\n",
       "      <th>...</th>\n",
       "      <th>TractSeniors</th>\n",
       "      <th>TractWhite</th>\n",
       "      <th>TractBlack</th>\n",
       "      <th>TractAsian</th>\n",
       "      <th>TractNHOPI</th>\n",
       "      <th>TractAIAN</th>\n",
       "      <th>TractOMultir</th>\n",
       "      <th>TractHispanic</th>\n",
       "      <th>TractHUNV</th>\n",
       "      <th>TractSNAP</th>\n",
       "    </tr>\n",
       "  </thead>\n",
       "  <tbody>\n",
       "    <tr>\n",
       "      <th>0</th>\n",
       "      <td>1001020100</td>\n",
       "      <td>Alabama</td>\n",
       "      <td>Autauga</td>\n",
       "      <td>1</td>\n",
       "      <td>1912</td>\n",
       "      <td>693</td>\n",
       "      <td>0</td>\n",
       "      <td>0</td>\n",
       "      <td>0.000000</td>\n",
       "      <td>0</td>\n",
       "      <td>...</td>\n",
       "      <td>221</td>\n",
       "      <td>1622</td>\n",
       "      <td>217</td>\n",
       "      <td>14</td>\n",
       "      <td>0</td>\n",
       "      <td>14</td>\n",
       "      <td>45</td>\n",
       "      <td>44</td>\n",
       "      <td>26</td>\n",
       "      <td>112</td>\n",
       "    </tr>\n",
       "    <tr>\n",
       "      <th>1</th>\n",
       "      <td>1001020200</td>\n",
       "      <td>Alabama</td>\n",
       "      <td>Autauga</td>\n",
       "      <td>1</td>\n",
       "      <td>2170</td>\n",
       "      <td>743</td>\n",
       "      <td>0</td>\n",
       "      <td>181</td>\n",
       "      <td>0.083410</td>\n",
       "      <td>0</td>\n",
       "      <td>...</td>\n",
       "      <td>214</td>\n",
       "      <td>888</td>\n",
       "      <td>1217</td>\n",
       "      <td>5</td>\n",
       "      <td>0</td>\n",
       "      <td>5</td>\n",
       "      <td>55</td>\n",
       "      <td>75</td>\n",
       "      <td>87</td>\n",
       "      <td>202</td>\n",
       "    </tr>\n",
       "    <tr>\n",
       "      <th>2</th>\n",
       "      <td>1001020300</td>\n",
       "      <td>Alabama</td>\n",
       "      <td>Autauga</td>\n",
       "      <td>1</td>\n",
       "      <td>3373</td>\n",
       "      <td>1256</td>\n",
       "      <td>0</td>\n",
       "      <td>0</td>\n",
       "      <td>0.000000</td>\n",
       "      <td>0</td>\n",
       "      <td>...</td>\n",
       "      <td>439</td>\n",
       "      <td>2576</td>\n",
       "      <td>647</td>\n",
       "      <td>17</td>\n",
       "      <td>5</td>\n",
       "      <td>11</td>\n",
       "      <td>117</td>\n",
       "      <td>87</td>\n",
       "      <td>108</td>\n",
       "      <td>120</td>\n",
       "    </tr>\n",
       "    <tr>\n",
       "      <th>3</th>\n",
       "      <td>1001020400</td>\n",
       "      <td>Alabama</td>\n",
       "      <td>Autauga</td>\n",
       "      <td>1</td>\n",
       "      <td>4386</td>\n",
       "      <td>1722</td>\n",
       "      <td>0</td>\n",
       "      <td>0</td>\n",
       "      <td>0.000000</td>\n",
       "      <td>0</td>\n",
       "      <td>...</td>\n",
       "      <td>904</td>\n",
       "      <td>4086</td>\n",
       "      <td>193</td>\n",
       "      <td>18</td>\n",
       "      <td>4</td>\n",
       "      <td>11</td>\n",
       "      <td>74</td>\n",
       "      <td>85</td>\n",
       "      <td>19</td>\n",
       "      <td>82</td>\n",
       "    </tr>\n",
       "    <tr>\n",
       "      <th>4</th>\n",
       "      <td>1001020500</td>\n",
       "      <td>Alabama</td>\n",
       "      <td>Autauga</td>\n",
       "      <td>1</td>\n",
       "      <td>10766</td>\n",
       "      <td>4082</td>\n",
       "      <td>0</td>\n",
       "      <td>181</td>\n",
       "      <td>0.016812</td>\n",
       "      <td>0</td>\n",
       "      <td>...</td>\n",
       "      <td>1126</td>\n",
       "      <td>8666</td>\n",
       "      <td>1437</td>\n",
       "      <td>296</td>\n",
       "      <td>9</td>\n",
       "      <td>48</td>\n",
       "      <td>310</td>\n",
       "      <td>355</td>\n",
       "      <td>198</td>\n",
       "      <td>488</td>\n",
       "    </tr>\n",
       "  </tbody>\n",
       "</table>\n",
       "<p>5 rows × 147 columns</p>\n",
       "</div>"
      ],
      "text/plain": [
       "   CensusTract    State   County  Urban  POP2010  OHU2010  GroupQuartersFlag  \\\n",
       "0   1001020100  Alabama  Autauga      1     1912      693                  0   \n",
       "1   1001020200  Alabama  Autauga      1     2170      743                  0   \n",
       "2   1001020300  Alabama  Autauga      1     3373     1256                  0   \n",
       "3   1001020400  Alabama  Autauga      1     4386     1722                  0   \n",
       "4   1001020500  Alabama  Autauga      1    10766     4082                  0   \n",
       "\n",
       "   NUMGQTRS  PCTGQTRS  LILATracts_1And10  ...  TractSeniors  TractWhite  \\\n",
       "0         0  0.000000                  0  ...           221        1622   \n",
       "1       181  0.083410                  0  ...           214         888   \n",
       "2         0  0.000000                  0  ...           439        2576   \n",
       "3         0  0.000000                  0  ...           904        4086   \n",
       "4       181  0.016812                  0  ...          1126        8666   \n",
       "\n",
       "   TractBlack  TractAsian  TractNHOPI  TractAIAN  TractOMultir  TractHispanic  \\\n",
       "0         217          14           0         14            45             44   \n",
       "1        1217           5           0          5            55             75   \n",
       "2         647          17           5         11           117             87   \n",
       "3         193          18           4         11            74             85   \n",
       "4        1437         296           9         48           310            355   \n",
       "\n",
       "   TractHUNV  TractSNAP  \n",
       "0         26        112  \n",
       "1         87        202  \n",
       "2        108        120  \n",
       "3         19         82  \n",
       "4        198        488  \n",
       "\n",
       "[5 rows x 147 columns]"
      ]
     },
     "execution_count": 8,
     "metadata": {},
     "output_type": "execute_result"
    }
   ],
   "source": [
    "df.head()"
   ]
  },
  {
   "cell_type": "code",
   "execution_count": 9,
   "id": "d1caaef2-2e35-430e-a3c5-e3c0b58a8a6a",
   "metadata": {
    "scrolled": true
   },
   "outputs": [
    {
     "name": "stdout",
     "output_type": "stream",
     "text": [
      "<class 'pandas.core.frame.DataFrame'>\n",
      "RangeIndex: 1000 entries, 0 to 999\n",
      "Columns: 147 entries, CensusTract to TractSNAP\n",
      "dtypes: float64(102), int64(43), object(2)\n",
      "memory usage: 1.1+ MB\n"
     ]
    }
   ],
   "source": [
    "df.info()"
   ]
  },
  {
   "cell_type": "code",
   "execution_count": 10,
   "id": "15e96ed3-02fd-4809-a10d-7026b6ca844e",
   "metadata": {
    "scrolled": true
   },
   "outputs": [
    {
     "data": {
      "text/plain": [
       "CensusTract      0\n",
       "State            0\n",
       "County           0\n",
       "Urban            0\n",
       "POP2010          0\n",
       "                ..\n",
       "TractAIAN        0\n",
       "TractOMultir     0\n",
       "TractHispanic    0\n",
       "TractHUNV        0\n",
       "TractSNAP        0\n",
       "Length: 147, dtype: int64"
      ]
     },
     "execution_count": 10,
     "metadata": {},
     "output_type": "execute_result"
    }
   ],
   "source": [
    "df.isna().sum()"
   ]
  },
  {
   "cell_type": "code",
   "execution_count": 11,
   "id": "8b259c39-6904-431c-8a2d-1180224b5cc6",
   "metadata": {},
   "outputs": [
    {
     "data": {
      "text/plain": [
       "Index(['CensusTract', 'State', 'County', 'Urban', 'POP2010', 'OHU2010',\n",
       "       'GroupQuartersFlag', 'NUMGQTRS', 'PCTGQTRS', 'LILATracts_1And10',\n",
       "       ...\n",
       "       'TractSeniors', 'TractWhite', 'TractBlack', 'TractAsian', 'TractNHOPI',\n",
       "       'TractAIAN', 'TractOMultir', 'TractHispanic', 'TractHUNV', 'TractSNAP'],\n",
       "      dtype='object', length=147)"
      ]
     },
     "execution_count": 11,
     "metadata": {},
     "output_type": "execute_result"
    }
   ],
   "source": [
    "df.columns"
   ]
  },
  {
   "cell_type": "code",
   "execution_count": 12,
   "id": "f73c4d3c-0c85-405e-bf2b-6bdc4d17d52a",
   "metadata": {},
   "outputs": [],
   "source": [
    "#New dataframe with just the columns I need:\n",
    "new_df = df[['State', 'POP2010','PovertyRate', 'MedianFamilyIncome']]"
   ]
  },
  {
   "cell_type": "code",
   "execution_count": 13,
   "id": "84454277-1f8a-4df3-8f84-e494fabdb1af",
   "metadata": {},
   "outputs": [
    {
     "data": {
      "text/plain": [
       "(1000, 4)"
      ]
     },
     "execution_count": 13,
     "metadata": {},
     "output_type": "execute_result"
    }
   ],
   "source": [
    "new_df.shape"
   ]
  },
  {
   "cell_type": "code",
   "execution_count": 14,
   "id": "1b3c2134-d0aa-4108-89d9-bef6650cf0b6",
   "metadata": {},
   "outputs": [
    {
     "data": {
      "text/plain": [
       "State                 0\n",
       "POP2010               0\n",
       "PovertyRate           0\n",
       "MedianFamilyIncome    0\n",
       "dtype: int64"
      ]
     },
     "execution_count": 14,
     "metadata": {},
     "output_type": "execute_result"
    }
   ],
   "source": [
    "new_df.isna().sum()"
   ]
  },
  {
   "cell_type": "code",
   "execution_count": 15,
   "id": "0330a0e6-243a-4895-a62d-d84aa3aca03f",
   "metadata": {},
   "outputs": [
    {
     "data": {
      "text/html": [
       "<div>\n",
       "<style scoped>\n",
       "    .dataframe tbody tr th:only-of-type {\n",
       "        vertical-align: middle;\n",
       "    }\n",
       "\n",
       "    .dataframe tbody tr th {\n",
       "        vertical-align: top;\n",
       "    }\n",
       "\n",
       "    .dataframe thead th {\n",
       "        text-align: right;\n",
       "    }\n",
       "</style>\n",
       "<table border=\"1\" class=\"dataframe\">\n",
       "  <thead>\n",
       "    <tr style=\"text-align: right;\">\n",
       "      <th></th>\n",
       "      <th>State</th>\n",
       "      <th>POP2010</th>\n",
       "      <th>PovertyRate</th>\n",
       "      <th>MedianFamilyIncome</th>\n",
       "    </tr>\n",
       "  </thead>\n",
       "  <tbody>\n",
       "    <tr>\n",
       "      <th>0</th>\n",
       "      <td>Alabama</td>\n",
       "      <td>1912</td>\n",
       "      <td>10.0</td>\n",
       "      <td>74750</td>\n",
       "    </tr>\n",
       "    <tr>\n",
       "      <th>1</th>\n",
       "      <td>Alabama</td>\n",
       "      <td>2170</td>\n",
       "      <td>18.2</td>\n",
       "      <td>51875</td>\n",
       "    </tr>\n",
       "    <tr>\n",
       "      <th>2</th>\n",
       "      <td>Alabama</td>\n",
       "      <td>3373</td>\n",
       "      <td>19.1</td>\n",
       "      <td>52905</td>\n",
       "    </tr>\n",
       "    <tr>\n",
       "      <th>3</th>\n",
       "      <td>Alabama</td>\n",
       "      <td>4386</td>\n",
       "      <td>3.3</td>\n",
       "      <td>68079</td>\n",
       "    </tr>\n",
       "    <tr>\n",
       "      <th>4</th>\n",
       "      <td>Alabama</td>\n",
       "      <td>10766</td>\n",
       "      <td>8.5</td>\n",
       "      <td>77819</td>\n",
       "    </tr>\n",
       "  </tbody>\n",
       "</table>\n",
       "</div>"
      ],
      "text/plain": [
       "     State  POP2010  PovertyRate  MedianFamilyIncome\n",
       "0  Alabama     1912         10.0               74750\n",
       "1  Alabama     2170         18.2               51875\n",
       "2  Alabama     3373         19.1               52905\n",
       "3  Alabama     4386          3.3               68079\n",
       "4  Alabama    10766          8.5               77819"
      ]
     },
     "execution_count": 15,
     "metadata": {},
     "output_type": "execute_result"
    }
   ],
   "source": [
    "new_df.head()"
   ]
  },
  {
   "cell_type": "code",
   "execution_count": 16,
   "id": "cfb86444-5691-491f-a51e-0f80c9a61042",
   "metadata": {},
   "outputs": [
    {
     "name": "stdout",
     "output_type": "stream",
     "text": [
      "<class 'pandas.core.frame.DataFrame'>\n",
      "RangeIndex: 1000 entries, 0 to 999\n",
      "Data columns (total 4 columns):\n",
      " #   Column              Non-Null Count  Dtype  \n",
      "---  ------              --------------  -----  \n",
      " 0   State               1000 non-null   object \n",
      " 1   POP2010             1000 non-null   int64  \n",
      " 2   PovertyRate         1000 non-null   float64\n",
      " 3   MedianFamilyIncome  1000 non-null   int64  \n",
      "dtypes: float64(1), int64(2), object(1)\n",
      "memory usage: 31.4+ KB\n"
     ]
    }
   ],
   "source": [
    "new_df.info()"
   ]
  },
  {
   "cell_type": "code",
   "execution_count": null,
   "id": "62288e56-61d0-4c9e-aba8-da815868b132",
   "metadata": {},
   "outputs": [],
   "source": []
  }
 ],
 "metadata": {
  "kernelspec": {
   "display_name": "Python 3 (ipykernel)",
   "language": "python",
   "name": "python3"
  },
  "language_info": {
   "codemirror_mode": {
    "name": "ipython",
    "version": 3
   },
   "file_extension": ".py",
   "mimetype": "text/x-python",
   "name": "python",
   "nbconvert_exporter": "python",
   "pygments_lexer": "ipython3",
   "version": "3.12.4"
  }
 },
 "nbformat": 4,
 "nbformat_minor": 5
}
