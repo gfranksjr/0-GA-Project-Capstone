{
 "cells": [
  {
   "cell_type": "markdown",
   "id": "476bf5d1-e2e2-469b-8b3a-fdff8270884c",
   "metadata": {},
   "source": [
    "# Project 6 Capstone - Part 2: Dataset + Data Collection"
   ]
  },
  {
   "cell_type": "markdown",
   "id": "2eca402b-0077-489c-bc48-fb69b54e2226",
   "metadata": {},
   "source": [
    "---"
   ]
  },
  {
   "cell_type": "code",
   "execution_count": 3,
   "id": "3f037086-d32c-44d1-bd53-783f7485a577",
   "metadata": {},
   "outputs": [],
   "source": [
    "import pandas as pd"
   ]
  },
  {
   "cell_type": "code",
   "execution_count": 4,
   "id": "9c533a39-76fe-45d0-a416-da58be6dccb9",
   "metadata": {},
   "outputs": [],
   "source": [
    "# Data Sources: \n",
    "\n",
    "# Name: Food Deserts data for the United States\n",
    "# Link: https://data.world/smartcolumbusos/978eac18-d4d0-4e36-8d1d-23aadd86a702/workspace/file?filename=food-deserts-data-for-the-usa-csv-1.csv\n",
    "\n",
    "# Name: CDC Nutrition, Physical Activity, and Obesity by State\n",
    "# Link: https://data.world/basilhayek/cdc-nutrition-physical-activity-and-obesity-by-state/workspace/file?filename=cdc_npao.csv"
   ]
  },
  {
   "cell_type": "code",
   "execution_count": null,
   "id": "92a2624b-a056-4adb-9cd5-8719b2cf43c3",
   "metadata": {},
   "outputs": [],
   "source": []
  },
  {
   "cell_type": "code",
   "execution_count": 5,
   "id": "23bd909b-863a-4af9-bc67-b9ff78df62b5",
   "metadata": {},
   "outputs": [],
   "source": [
    "df = pd.read_csv('../data/CDC_Nutrition/cdc_npao.csv')"
   ]
  },
  {
   "cell_type": "code",
   "execution_count": 6,
   "id": "841f0e28-0f16-4a49-9706-5f39a419e820",
   "metadata": {},
   "outputs": [
    {
     "data": {
      "text/plain": [
       "(48772, 33)"
      ]
     },
     "execution_count": 6,
     "metadata": {},
     "output_type": "execute_result"
    }
   ],
   "source": [
    "df.shape"
   ]
  },
  {
   "cell_type": "code",
   "execution_count": 7,
   "id": "5f7ee621-26d1-4c59-ae0c-dc5992d4a662",
   "metadata": {},
   "outputs": [
    {
     "data": {
      "text/html": [
       "<div>\n",
       "<style scoped>\n",
       "    .dataframe tbody tr th:only-of-type {\n",
       "        vertical-align: middle;\n",
       "    }\n",
       "\n",
       "    .dataframe tbody tr th {\n",
       "        vertical-align: top;\n",
       "    }\n",
       "\n",
       "    .dataframe thead th {\n",
       "        text-align: right;\n",
       "    }\n",
       "</style>\n",
       "<table border=\"1\" class=\"dataframe\">\n",
       "  <thead>\n",
       "    <tr style=\"text-align: right;\">\n",
       "      <th></th>\n",
       "      <th>YearStart</th>\n",
       "      <th>YearEnd</th>\n",
       "      <th>LocationAbbr</th>\n",
       "      <th>LocationDesc</th>\n",
       "      <th>Datasource</th>\n",
       "      <th>Class</th>\n",
       "      <th>Topic</th>\n",
       "      <th>Question</th>\n",
       "      <th>Data_Value_Unit</th>\n",
       "      <th>Data_Value_Type</th>\n",
       "      <th>...</th>\n",
       "      <th>GeoLocation</th>\n",
       "      <th>ClassID</th>\n",
       "      <th>TopicID</th>\n",
       "      <th>QuestionID</th>\n",
       "      <th>DataValueTypeID</th>\n",
       "      <th>LocationID</th>\n",
       "      <th>StratificationCategory1</th>\n",
       "      <th>Stratification1</th>\n",
       "      <th>StratificationCategoryId1</th>\n",
       "      <th>StratificationID1</th>\n",
       "    </tr>\n",
       "  </thead>\n",
       "  <tbody>\n",
       "    <tr>\n",
       "      <th>0</th>\n",
       "      <td>2011</td>\n",
       "      <td>2011</td>\n",
       "      <td>AL</td>\n",
       "      <td>Alabama</td>\n",
       "      <td>Behavioral Risk Factor Surveillance System</td>\n",
       "      <td>Obesity / Weight Status</td>\n",
       "      <td>Obesity / Weight Status</td>\n",
       "      <td>Percent of adults aged 18 years and older who ...</td>\n",
       "      <td>NaN</td>\n",
       "      <td>Value</td>\n",
       "      <td>...</td>\n",
       "      <td>(32.84057112200048, -86.63186076199969)</td>\n",
       "      <td>OWS</td>\n",
       "      <td>OWS1</td>\n",
       "      <td>Q036</td>\n",
       "      <td>VALUE</td>\n",
       "      <td>1</td>\n",
       "      <td>Total</td>\n",
       "      <td>Total</td>\n",
       "      <td>OVR</td>\n",
       "      <td>OVERALL</td>\n",
       "    </tr>\n",
       "    <tr>\n",
       "      <th>1</th>\n",
       "      <td>2011</td>\n",
       "      <td>2011</td>\n",
       "      <td>AL</td>\n",
       "      <td>Alabama</td>\n",
       "      <td>Behavioral Risk Factor Surveillance System</td>\n",
       "      <td>Obesity / Weight Status</td>\n",
       "      <td>Obesity / Weight Status</td>\n",
       "      <td>Percent of adults aged 18 years and older who ...</td>\n",
       "      <td>NaN</td>\n",
       "      <td>Value</td>\n",
       "      <td>...</td>\n",
       "      <td>(32.84057112200048, -86.63186076199969)</td>\n",
       "      <td>OWS</td>\n",
       "      <td>OWS1</td>\n",
       "      <td>Q036</td>\n",
       "      <td>VALUE</td>\n",
       "      <td>1</td>\n",
       "      <td>Gender</td>\n",
       "      <td>Male</td>\n",
       "      <td>GEN</td>\n",
       "      <td>MALE</td>\n",
       "    </tr>\n",
       "    <tr>\n",
       "      <th>2</th>\n",
       "      <td>2011</td>\n",
       "      <td>2011</td>\n",
       "      <td>AL</td>\n",
       "      <td>Alabama</td>\n",
       "      <td>Behavioral Risk Factor Surveillance System</td>\n",
       "      <td>Obesity / Weight Status</td>\n",
       "      <td>Obesity / Weight Status</td>\n",
       "      <td>Percent of adults aged 18 years and older who ...</td>\n",
       "      <td>NaN</td>\n",
       "      <td>Value</td>\n",
       "      <td>...</td>\n",
       "      <td>(32.84057112200048, -86.63186076199969)</td>\n",
       "      <td>OWS</td>\n",
       "      <td>OWS1</td>\n",
       "      <td>Q036</td>\n",
       "      <td>VALUE</td>\n",
       "      <td>1</td>\n",
       "      <td>Gender</td>\n",
       "      <td>Female</td>\n",
       "      <td>GEN</td>\n",
       "      <td>FEMALE</td>\n",
       "    </tr>\n",
       "    <tr>\n",
       "      <th>3</th>\n",
       "      <td>2011</td>\n",
       "      <td>2011</td>\n",
       "      <td>AL</td>\n",
       "      <td>Alabama</td>\n",
       "      <td>Behavioral Risk Factor Surveillance System</td>\n",
       "      <td>Obesity / Weight Status</td>\n",
       "      <td>Obesity / Weight Status</td>\n",
       "      <td>Percent of adults aged 18 years and older who ...</td>\n",
       "      <td>NaN</td>\n",
       "      <td>Value</td>\n",
       "      <td>...</td>\n",
       "      <td>(32.84057112200048, -86.63186076199969)</td>\n",
       "      <td>OWS</td>\n",
       "      <td>OWS1</td>\n",
       "      <td>Q036</td>\n",
       "      <td>VALUE</td>\n",
       "      <td>1</td>\n",
       "      <td>Education</td>\n",
       "      <td>Less than high school</td>\n",
       "      <td>EDU</td>\n",
       "      <td>EDUHS</td>\n",
       "    </tr>\n",
       "    <tr>\n",
       "      <th>4</th>\n",
       "      <td>2011</td>\n",
       "      <td>2011</td>\n",
       "      <td>AL</td>\n",
       "      <td>Alabama</td>\n",
       "      <td>Behavioral Risk Factor Surveillance System</td>\n",
       "      <td>Obesity / Weight Status</td>\n",
       "      <td>Obesity / Weight Status</td>\n",
       "      <td>Percent of adults aged 18 years and older who ...</td>\n",
       "      <td>NaN</td>\n",
       "      <td>Value</td>\n",
       "      <td>...</td>\n",
       "      <td>(32.84057112200048, -86.63186076199969)</td>\n",
       "      <td>OWS</td>\n",
       "      <td>OWS1</td>\n",
       "      <td>Q036</td>\n",
       "      <td>VALUE</td>\n",
       "      <td>1</td>\n",
       "      <td>Education</td>\n",
       "      <td>High school graduate</td>\n",
       "      <td>EDU</td>\n",
       "      <td>EDUHSGRAD</td>\n",
       "    </tr>\n",
       "  </tbody>\n",
       "</table>\n",
       "<p>5 rows × 33 columns</p>\n",
       "</div>"
      ],
      "text/plain": [
       "   YearStart  YearEnd LocationAbbr LocationDesc  \\\n",
       "0       2011     2011           AL      Alabama   \n",
       "1       2011     2011           AL      Alabama   \n",
       "2       2011     2011           AL      Alabama   \n",
       "3       2011     2011           AL      Alabama   \n",
       "4       2011     2011           AL      Alabama   \n",
       "\n",
       "                                   Datasource                    Class  \\\n",
       "0  Behavioral Risk Factor Surveillance System  Obesity / Weight Status   \n",
       "1  Behavioral Risk Factor Surveillance System  Obesity / Weight Status   \n",
       "2  Behavioral Risk Factor Surveillance System  Obesity / Weight Status   \n",
       "3  Behavioral Risk Factor Surveillance System  Obesity / Weight Status   \n",
       "4  Behavioral Risk Factor Surveillance System  Obesity / Weight Status   \n",
       "\n",
       "                     Topic                                           Question  \\\n",
       "0  Obesity / Weight Status  Percent of adults aged 18 years and older who ...   \n",
       "1  Obesity / Weight Status  Percent of adults aged 18 years and older who ...   \n",
       "2  Obesity / Weight Status  Percent of adults aged 18 years and older who ...   \n",
       "3  Obesity / Weight Status  Percent of adults aged 18 years and older who ...   \n",
       "4  Obesity / Weight Status  Percent of adults aged 18 years and older who ...   \n",
       "\n",
       "   Data_Value_Unit Data_Value_Type  ...  \\\n",
       "0              NaN           Value  ...   \n",
       "1              NaN           Value  ...   \n",
       "2              NaN           Value  ...   \n",
       "3              NaN           Value  ...   \n",
       "4              NaN           Value  ...   \n",
       "\n",
       "                               GeoLocation  ClassID TopicID QuestionID  \\\n",
       "0  (32.84057112200048, -86.63186076199969)      OWS    OWS1       Q036   \n",
       "1  (32.84057112200048, -86.63186076199969)      OWS    OWS1       Q036   \n",
       "2  (32.84057112200048, -86.63186076199969)      OWS    OWS1       Q036   \n",
       "3  (32.84057112200048, -86.63186076199969)      OWS    OWS1       Q036   \n",
       "4  (32.84057112200048, -86.63186076199969)      OWS    OWS1       Q036   \n",
       "\n",
       "   DataValueTypeID  LocationID  StratificationCategory1  \\\n",
       "0            VALUE           1                    Total   \n",
       "1            VALUE           1                   Gender   \n",
       "2            VALUE           1                   Gender   \n",
       "3            VALUE           1                Education   \n",
       "4            VALUE           1                Education   \n",
       "\n",
       "         Stratification1 StratificationCategoryId1 StratificationID1  \n",
       "0                  Total                       OVR           OVERALL  \n",
       "1                   Male                       GEN              MALE  \n",
       "2                 Female                       GEN            FEMALE  \n",
       "3  Less than high school                       EDU             EDUHS  \n",
       "4   High school graduate                       EDU         EDUHSGRAD  \n",
       "\n",
       "[5 rows x 33 columns]"
      ]
     },
     "execution_count": 7,
     "metadata": {},
     "output_type": "execute_result"
    }
   ],
   "source": [
    "df.head()"
   ]
  },
  {
   "cell_type": "code",
   "execution_count": 8,
   "id": "d1caaef2-2e35-430e-a3c5-e3c0b58a8a6a",
   "metadata": {},
   "outputs": [
    {
     "name": "stdout",
     "output_type": "stream",
     "text": [
      "<class 'pandas.core.frame.DataFrame'>\n",
      "RangeIndex: 48772 entries, 0 to 48771\n",
      "Data columns (total 33 columns):\n",
      " #   Column                      Non-Null Count  Dtype  \n",
      "---  ------                      --------------  -----  \n",
      " 0   YearStart                   48772 non-null  int64  \n",
      " 1   YearEnd                     48772 non-null  int64  \n",
      " 2   LocationAbbr                48772 non-null  object \n",
      " 3   LocationDesc                48772 non-null  object \n",
      " 4   Datasource                  48772 non-null  object \n",
      " 5   Class                       48772 non-null  object \n",
      " 6   Topic                       48772 non-null  object \n",
      " 7   Question                    48772 non-null  object \n",
      " 8   Data_Value_Unit             0 non-null      float64\n",
      " 9   Data_Value_Type             48772 non-null  object \n",
      " 10  Data_Value                  44169 non-null  float64\n",
      " 11  Data_Value_Alt              44169 non-null  float64\n",
      " 12  Data_Value_Footnote_Symbol  4603 non-null   object \n",
      " 13  Data_Value_Footnote         4603 non-null   object \n",
      " 14  Low_Confidence_Limit        44169 non-null  float64\n",
      " 15  High_Confidence_Limit       44169 non-null  float64\n",
      " 16  Sample_Size                 44169 non-null  float64\n",
      " 17  Total                       1742 non-null   object \n",
      " 18  Age(years)                  10448 non-null  object \n",
      " 19  Education                   6968 non-null   object \n",
      " 20  Gender                      3484 non-null   object \n",
      " 21  Income                      12194 non-null  object \n",
      " 22  Race/Ethnicity              13936 non-null  object \n",
      " 23  GeoLocation                 47848 non-null  object \n",
      " 24  ClassID                     48772 non-null  object \n",
      " 25  TopicID                     48772 non-null  object \n",
      " 26  QuestionID                  48772 non-null  object \n",
      " 27  DataValueTypeID             48772 non-null  object \n",
      " 28  LocationID                  48772 non-null  int64  \n",
      " 29  StratificationCategory1     48772 non-null  object \n",
      " 30  Stratification1             48772 non-null  object \n",
      " 31  StratificationCategoryId1   48772 non-null  object \n",
      " 32  StratificationID1           48772 non-null  object \n",
      "dtypes: float64(6), int64(3), object(24)\n",
      "memory usage: 12.3+ MB\n"
     ]
    }
   ],
   "source": [
    "df.info()"
   ]
  },
  {
   "cell_type": "code",
   "execution_count": 9,
   "id": "15e96ed3-02fd-4809-a10d-7026b6ca844e",
   "metadata": {},
   "outputs": [
    {
     "data": {
      "text/plain": [
       "YearStart                         0\n",
       "YearEnd                           0\n",
       "LocationAbbr                      0\n",
       "LocationDesc                      0\n",
       "Datasource                        0\n",
       "Class                             0\n",
       "Topic                             0\n",
       "Question                          0\n",
       "Data_Value_Unit               48772\n",
       "Data_Value_Type                   0\n",
       "Data_Value                     4603\n",
       "Data_Value_Alt                 4603\n",
       "Data_Value_Footnote_Symbol    44169\n",
       "Data_Value_Footnote           44169\n",
       "Low_Confidence_Limit           4603\n",
       "High_Confidence_Limit          4603\n",
       "Sample_Size                    4603\n",
       "Total                         47030\n",
       "Age(years)                    38324\n",
       "Education                     41804\n",
       "Gender                        45288\n",
       "Income                        36578\n",
       "Race/Ethnicity                34836\n",
       "GeoLocation                     924\n",
       "ClassID                           0\n",
       "TopicID                           0\n",
       "QuestionID                        0\n",
       "DataValueTypeID                   0\n",
       "LocationID                        0\n",
       "StratificationCategory1           0\n",
       "Stratification1                   0\n",
       "StratificationCategoryId1         0\n",
       "StratificationID1                 0\n",
       "dtype: int64"
      ]
     },
     "execution_count": 9,
     "metadata": {},
     "output_type": "execute_result"
    }
   ],
   "source": [
    "df.isna().sum()"
   ]
  },
  {
   "cell_type": "code",
   "execution_count": 10,
   "id": "8b259c39-6904-431c-8a2d-1180224b5cc6",
   "metadata": {},
   "outputs": [
    {
     "data": {
      "text/plain": [
       "Index(['YearStart', 'YearEnd', 'LocationAbbr', 'LocationDesc', 'Datasource',\n",
       "       'Class', 'Topic', 'Question', 'Data_Value_Unit', 'Data_Value_Type',\n",
       "       'Data_Value', 'Data_Value_Alt', 'Data_Value_Footnote_Symbol',\n",
       "       'Data_Value_Footnote', 'Low_Confidence_Limit', 'High_Confidence_Limit ',\n",
       "       'Sample_Size', 'Total', 'Age(years)', 'Education', 'Gender', 'Income',\n",
       "       'Race/Ethnicity', 'GeoLocation', 'ClassID', 'TopicID', 'QuestionID',\n",
       "       'DataValueTypeID', 'LocationID', 'StratificationCategory1',\n",
       "       'Stratification1', 'StratificationCategoryId1', 'StratificationID1'],\n",
       "      dtype='object')"
      ]
     },
     "execution_count": 10,
     "metadata": {},
     "output_type": "execute_result"
    }
   ],
   "source": [
    "df.columns"
   ]
  },
  {
   "cell_type": "code",
   "execution_count": 11,
   "id": "bf7fcfb0-6c89-42d7-ae22-21bca6513cc8",
   "metadata": {},
   "outputs": [
    {
     "data": {
      "text/plain": [
       "Class\n",
       "Physical Activity          25088\n",
       "Obesity / Weight Status    14840\n",
       "Fruits and Vegetables       8844\n",
       "Name: count, dtype: int64"
      ]
     },
     "execution_count": 11,
     "metadata": {},
     "output_type": "execute_result"
    }
   ],
   "source": [
    "df['Class'].value_counts()"
   ]
  },
  {
   "cell_type": "code",
   "execution_count": 12,
   "id": "c056fd9a-e5d3-42df-ae0d-cb3b5fd86aaf",
   "metadata": {},
   "outputs": [
    {
     "data": {
      "text/plain": [
       "ClassID\n",
       "PA     25088\n",
       "OWS    14840\n",
       "FV      8844\n",
       "Name: count, dtype: int64"
      ]
     },
     "execution_count": 12,
     "metadata": {},
     "output_type": "execute_result"
    }
   ],
   "source": [
    "df['ClassID'].value_counts()"
   ]
  },
  {
   "cell_type": "code",
   "execution_count": 13,
   "id": "64f0241c-8051-483e-ac63-dcf272078d96",
   "metadata": {},
   "outputs": [
    {
     "data": {
      "text/plain": [
       "Topic\n",
       "Physical Activity - Behavior        25088\n",
       "Obesity / Weight Status             14840\n",
       "Fruits and Vegetables - Behavior     8844\n",
       "Name: count, dtype: int64"
      ]
     },
     "execution_count": 13,
     "metadata": {},
     "output_type": "execute_result"
    }
   ],
   "source": [
    "df['Topic'].value_counts()"
   ]
  },
  {
   "cell_type": "code",
   "execution_count": 14,
   "id": "1e249acb-06f3-4b55-a50a-ed5612cfdd49",
   "metadata": {},
   "outputs": [
    {
     "data": {
      "text/plain": [
       "Series([], Name: count, dtype: int64)"
      ]
     },
     "execution_count": 14,
     "metadata": {},
     "output_type": "execute_result"
    }
   ],
   "source": [
    "df['Data_Value_Unit'].value_counts()"
   ]
  },
  {
   "cell_type": "code",
   "execution_count": 15,
   "id": "1b8e662d-48a2-43a4-ae64-32ae8965fbcc",
   "metadata": {},
   "outputs": [
    {
     "data": {
      "text/plain": [
       "Education\n",
       "Less than high school               1742\n",
       "High school graduate                1742\n",
       "Some college or technical school    1742\n",
       "College graduate                    1742\n",
       "Name: count, dtype: int64"
      ]
     },
     "execution_count": 15,
     "metadata": {},
     "output_type": "execute_result"
    }
   ],
   "source": [
    "df['Education'].value_counts()"
   ]
  },
  {
   "cell_type": "code",
   "execution_count": 16,
   "id": "debfd71d-fa0d-4b83-946f-217bc52a7591",
   "metadata": {},
   "outputs": [
    {
     "data": {
      "text/plain": [
       "Age(years)\n",
       "35 - 44        1742\n",
       "45 - 54        1742\n",
       "18 - 24        1741\n",
       "25 - 34        1741\n",
       "55 - 64        1741\n",
       "65 or older    1741\n",
       "Name: count, dtype: int64"
      ]
     },
     "execution_count": 16,
     "metadata": {},
     "output_type": "execute_result"
    }
   ],
   "source": [
    "df['Age(years)'].value_counts()"
   ]
  },
  {
   "cell_type": "code",
   "execution_count": 17,
   "id": "5d4b791e-b7a6-4ae0-80cc-ce056fbecfa8",
   "metadata": {},
   "outputs": [
    {
     "data": {
      "text/plain": [
       "Income\n",
       "Less than $15,000     1742\n",
       "$15,000 - $24,999     1742\n",
       "$25,000 - $34,999     1742\n",
       "$35,000 - $49,999     1742\n",
       "$50,000 - $74,999     1742\n",
       "$75,000 or greater    1742\n",
       "Data not reported     1742\n",
       "Name: count, dtype: int64"
      ]
     },
     "execution_count": 17,
     "metadata": {},
     "output_type": "execute_result"
    }
   ],
   "source": [
    "df['Income'].value_counts()"
   ]
  },
  {
   "cell_type": "code",
   "execution_count": 18,
   "id": "4b12567a-ebe3-40be-a793-864189a92302",
   "metadata": {},
   "outputs": [
    {
     "data": {
      "text/plain": [
       "Gender\n",
       "Male      1742\n",
       "Female    1742\n",
       "Name: count, dtype: int64"
      ]
     },
     "execution_count": 18,
     "metadata": {},
     "output_type": "execute_result"
    }
   ],
   "source": [
    "df['Gender'].value_counts()"
   ]
  },
  {
   "cell_type": "code",
   "execution_count": 19,
   "id": "2886b2c2-aa21-49c8-a15e-e381e9c1489d",
   "metadata": {
    "scrolled": true
   },
   "outputs": [
    {
     "data": {
      "text/plain": [
       "GeoLocation\n",
       "(38.635790776000476, -92.56630005299968)     924\n",
       "(64.84507995700051, -147.72205903599973)     924\n",
       "(41.6410409880005, -99.36572062299967)       924\n",
       "(39.493240390000494, -117.07184056399967)    924\n",
       "(43.65595011300047, -71.50036091999965)      924\n",
       "(40.13057004800049, -74.27369128799967)      924\n",
       "(34.52088095200048, -106.24058098499967)     924\n",
       "(42.82700103200045, -75.54397042699964)      924\n",
       "(35.466220975000454, -79.15925046299964)     924\n",
       "(47.47531977900047, -100.11842104899966)     924\n",
       "(40.06021014100048, -82.40426005599966)      924\n",
       "(35.47203135600046, -97.52107021399968)      924\n",
       "(44.56744942400047, -120.15503132599969)     924\n",
       "(40.79373015200048, -77.86070029399963)      924\n",
       "(41.70828019300046, -71.52247031399963)      924\n",
       "(33.998821303000454, -81.04537120699968)     924\n",
       "(44.353130053000484, -100.3735306369997)     924\n",
       "(35.68094058000048, -85.77449091399967)      924\n",
       "(31.827240407000488, -99.42677020599967)     924\n",
       "(39.360700171000474, -111.58713063499971)    924\n",
       "(43.62538123900049, -72.51764079099962)      924\n",
       "(37.54268067400045, -78.45789046299967)      924\n",
       "(38.66551020200046, -80.71264013499967)      924\n",
       "(47.52227862900048, -120.47001078999972)     924\n",
       "(44.39319117400049, -89.81637074199966)      924\n",
       "(47.06652897200047, -109.42442064499971)     924\n",
       "(43.23554134300048, -108.10983035299967)     924\n",
       "(32.745510099000455, -89.53803082499968)     924\n",
       "(43.682630005000476, -114.3637300419997)     924\n",
       "(41.56266102000046, -72.64984095199964)      924\n",
       "(38.843840757000464, -106.13361092099967)    924\n",
       "(39.008830667000495, -75.57774116799965)     924\n",
       "(28.932040377000476, -81.92896053899966)     924\n",
       "(38.89037138500049, -77.03196112699965)      924\n",
       "(32.83968109300048, -83.62758034599966)      924\n",
       "(34.865970280000454, -111.76381127699972)    924\n",
       "(21.304850435000446, -157.85774940299973)    924\n",
       "(46.35564873600049, -94.79420050299967)      924\n",
       "(40.48501028300046, -88.99771017799969)      924\n",
       "(34.74865012400045, -92.27449074299966)      924\n",
       "(39.766910452000445, -86.14996019399968)     924\n",
       "(42.46940091300047, -93.81649055599968)      924\n",
       "(38.34774030000045, -98.20078122699965)      924\n",
       "(37.645970271000465, -84.77497104799966)     924\n",
       "(31.31266064400046, -92.44568007099969)      924\n",
       "(45.254228894000505, -68.98503133599962)     924\n",
       "(39.29058096400047, -76.60926011099963)      924\n",
       "(42.27687047000046, -72.08269067499964)      924\n",
       "(44.6613195430005, -84.71439026999968)       924\n",
       "(37.63864012300047, -120.99999953799971)     924\n",
       "(32.84057112200048, -86.63186076199969)      920\n",
       "(18.220833, -66.590149)                      392\n",
       "(13.444304, 144.793731)                      336\n",
       "Name: count, dtype: int64"
      ]
     },
     "execution_count": 19,
     "metadata": {},
     "output_type": "execute_result"
    }
   ],
   "source": [
    "df['GeoLocation'].value_counts()"
   ]
  },
  {
   "cell_type": "code",
   "execution_count": 20,
   "id": "065545c2-94ea-4637-bb59-cb4e4deb9800",
   "metadata": {},
   "outputs": [
    {
     "data": {
      "text/plain": [
       "StratificationCategory1\n",
       "Race/Ethnicity    13936\n",
       "Income            12194\n",
       "Age (years)       10448\n",
       "Education          6968\n",
       "Gender             3484\n",
       "Total              1742\n",
       "Name: count, dtype: int64"
      ]
     },
     "execution_count": 20,
     "metadata": {},
     "output_type": "execute_result"
    }
   ],
   "source": [
    "df['StratificationCategory1'].value_counts()"
   ]
  },
  {
   "cell_type": "markdown",
   "id": "4a6d172d-7111-4e1c-93f4-3c5ef5f73ddd",
   "metadata": {},
   "source": [
    "---"
   ]
  },
  {
   "cell_type": "markdown",
   "id": "b003374c-9723-4a4b-93db-29691d9f8b1b",
   "metadata": {},
   "source": [
    "---"
   ]
  },
  {
   "cell_type": "markdown",
   "id": "80a26f15-a72f-416e-8031-a6266d8c3a7f",
   "metadata": {},
   "source": [
    "---"
   ]
  },
  {
   "cell_type": "markdown",
   "id": "7c11c4e9-a2b4-43bd-a3b6-5654f8cb89f6",
   "metadata": {},
   "source": [
    "---"
   ]
  },
  {
   "cell_type": "code",
   "execution_count": 25,
   "id": "f73c4d3c-0c85-405e-bf2b-6bdc4d17d52a",
   "metadata": {},
   "outputs": [],
   "source": [
    "\n",
    "#New dataframe with just the columns I need:\n",
    "new_df = df[['LocationDesc', 'Education','Gender', 'Income', 'Age(years)']]\n"
   ]
  },
  {
   "cell_type": "code",
   "execution_count": 26,
   "id": "84454277-1f8a-4df3-8f84-e494fabdb1af",
   "metadata": {},
   "outputs": [
    {
     "data": {
      "text/plain": [
       "(48772, 5)"
      ]
     },
     "execution_count": 26,
     "metadata": {},
     "output_type": "execute_result"
    }
   ],
   "source": [
    "new_df.shape"
   ]
  },
  {
   "cell_type": "code",
   "execution_count": 27,
   "id": "1b3c2134-d0aa-4108-89d9-bef6650cf0b6",
   "metadata": {},
   "outputs": [
    {
     "data": {
      "text/plain": [
       "LocationDesc        0\n",
       "Education       41804\n",
       "Gender          45288\n",
       "Income          36578\n",
       "Age(years)      38324\n",
       "dtype: int64"
      ]
     },
     "execution_count": 27,
     "metadata": {},
     "output_type": "execute_result"
    }
   ],
   "source": [
    "new_df.isna().sum()"
   ]
  },
  {
   "cell_type": "code",
   "execution_count": 28,
   "id": "0330a0e6-243a-4895-a62d-d84aa3aca03f",
   "metadata": {},
   "outputs": [
    {
     "data": {
      "text/html": [
       "<div>\n",
       "<style scoped>\n",
       "    .dataframe tbody tr th:only-of-type {\n",
       "        vertical-align: middle;\n",
       "    }\n",
       "\n",
       "    .dataframe tbody tr th {\n",
       "        vertical-align: top;\n",
       "    }\n",
       "\n",
       "    .dataframe thead th {\n",
       "        text-align: right;\n",
       "    }\n",
       "</style>\n",
       "<table border=\"1\" class=\"dataframe\">\n",
       "  <thead>\n",
       "    <tr style=\"text-align: right;\">\n",
       "      <th></th>\n",
       "      <th>LocationDesc</th>\n",
       "      <th>Education</th>\n",
       "      <th>Gender</th>\n",
       "      <th>Income</th>\n",
       "      <th>Age(years)</th>\n",
       "    </tr>\n",
       "  </thead>\n",
       "  <tbody>\n",
       "    <tr>\n",
       "      <th>0</th>\n",
       "      <td>Alabama</td>\n",
       "      <td>NaN</td>\n",
       "      <td>NaN</td>\n",
       "      <td>NaN</td>\n",
       "      <td>NaN</td>\n",
       "    </tr>\n",
       "    <tr>\n",
       "      <th>1</th>\n",
       "      <td>Alabama</td>\n",
       "      <td>NaN</td>\n",
       "      <td>Male</td>\n",
       "      <td>NaN</td>\n",
       "      <td>NaN</td>\n",
       "    </tr>\n",
       "    <tr>\n",
       "      <th>2</th>\n",
       "      <td>Alabama</td>\n",
       "      <td>NaN</td>\n",
       "      <td>Female</td>\n",
       "      <td>NaN</td>\n",
       "      <td>NaN</td>\n",
       "    </tr>\n",
       "    <tr>\n",
       "      <th>3</th>\n",
       "      <td>Alabama</td>\n",
       "      <td>Less than high school</td>\n",
       "      <td>NaN</td>\n",
       "      <td>NaN</td>\n",
       "      <td>NaN</td>\n",
       "    </tr>\n",
       "    <tr>\n",
       "      <th>4</th>\n",
       "      <td>Alabama</td>\n",
       "      <td>High school graduate</td>\n",
       "      <td>NaN</td>\n",
       "      <td>NaN</td>\n",
       "      <td>NaN</td>\n",
       "    </tr>\n",
       "  </tbody>\n",
       "</table>\n",
       "</div>"
      ],
      "text/plain": [
       "  LocationDesc              Education  Gender Income Age(years)\n",
       "0      Alabama                    NaN     NaN    NaN        NaN\n",
       "1      Alabama                    NaN    Male    NaN        NaN\n",
       "2      Alabama                    NaN  Female    NaN        NaN\n",
       "3      Alabama  Less than high school     NaN    NaN        NaN\n",
       "4      Alabama   High school graduate     NaN    NaN        NaN"
      ]
     },
     "execution_count": 28,
     "metadata": {},
     "output_type": "execute_result"
    }
   ],
   "source": [
    "new_df.head()"
   ]
  },
  {
   "cell_type": "code",
   "execution_count": 29,
   "id": "cfb86444-5691-491f-a51e-0f80c9a61042",
   "metadata": {},
   "outputs": [
    {
     "name": "stdout",
     "output_type": "stream",
     "text": [
      "<class 'pandas.core.frame.DataFrame'>\n",
      "RangeIndex: 48772 entries, 0 to 48771\n",
      "Data columns (total 5 columns):\n",
      " #   Column        Non-Null Count  Dtype \n",
      "---  ------        --------------  ----- \n",
      " 0   LocationDesc  48772 non-null  object\n",
      " 1   Education     6968 non-null   object\n",
      " 2   Gender        3484 non-null   object\n",
      " 3   Income        12194 non-null  object\n",
      " 4   Age(years)    10448 non-null  object\n",
      "dtypes: object(5)\n",
      "memory usage: 1.9+ MB\n"
     ]
    }
   ],
   "source": [
    "new_df.info()"
   ]
  },
  {
   "cell_type": "code",
   "execution_count": 30,
   "id": "5f520929-acf2-443a-b64e-33fa502f1a3a",
   "metadata": {},
   "outputs": [
    {
     "name": "stderr",
     "output_type": "stream",
     "text": [
      "/var/folders/xt/hdlbn4j903v98px3bq4pf0jc0000gn/T/ipykernel_15919/757692698.py:8: SettingWithCopyWarning: \n",
      "A value is trying to be set on a copy of a slice from a DataFrame.\n",
      "Try using .loc[row_indexer,col_indexer] = value instead\n",
      "\n",
      "See the caveats in the documentation: https://pandas.pydata.org/pandas-docs/stable/user_guide/indexing.html#returning-a-view-versus-a-copy\n",
      "  new_df[col] = new_df[col].fillna('unknown')\n"
     ]
    }
   ],
   "source": [
    "### - not a best solution\n",
    "# Fill missing values with the mode (most frequent value) for categorical variables\n",
    "# for col in ['Education', 'Gender', 'Income', 'Age(years)']:\n",
    "#     new_df[col] = new_df[col].fillna(new_df[col].mode()[0])\n",
    "\n",
    "# Fill missing values with 'unknown' for categorical variables\n",
    "for col in ['Education', 'Gender', 'Income', 'Age(years)']:\n",
    "    new_df[col] = new_df[col].fillna('unknown')\n"
   ]
  },
  {
   "cell_type": "code",
   "execution_count": 31,
   "id": "88c15b75-b783-4ba0-81ee-b243848cf5a9",
   "metadata": {},
   "outputs": [
    {
     "name": "stdout",
     "output_type": "stream",
     "text": [
      "<class 'pandas.core.frame.DataFrame'>\n",
      "RangeIndex: 48772 entries, 0 to 48771\n",
      "Data columns (total 5 columns):\n",
      " #   Column        Non-Null Count  Dtype \n",
      "---  ------        --------------  ----- \n",
      " 0   LocationDesc  48772 non-null  object\n",
      " 1   Education     48772 non-null  object\n",
      " 2   Gender        48772 non-null  object\n",
      " 3   Income        48772 non-null  object\n",
      " 4   Age(years)    48772 non-null  object\n",
      "dtypes: object(5)\n",
      "memory usage: 1.9+ MB\n"
     ]
    }
   ],
   "source": [
    "new_df.info()"
   ]
  },
  {
   "cell_type": "code",
   "execution_count": 32,
   "id": "f8ce2c0d-c467-4ba2-8738-8e93028eb76b",
   "metadata": {},
   "outputs": [
    {
     "data": {
      "text/html": [
       "<div>\n",
       "<style scoped>\n",
       "    .dataframe tbody tr th:only-of-type {\n",
       "        vertical-align: middle;\n",
       "    }\n",
       "\n",
       "    .dataframe tbody tr th {\n",
       "        vertical-align: top;\n",
       "    }\n",
       "\n",
       "    .dataframe thead th {\n",
       "        text-align: right;\n",
       "    }\n",
       "</style>\n",
       "<table border=\"1\" class=\"dataframe\">\n",
       "  <thead>\n",
       "    <tr style=\"text-align: right;\">\n",
       "      <th></th>\n",
       "      <th>LocationDesc</th>\n",
       "      <th>Education</th>\n",
       "      <th>Gender</th>\n",
       "      <th>Income</th>\n",
       "      <th>Age(years)</th>\n",
       "    </tr>\n",
       "  </thead>\n",
       "  <tbody>\n",
       "    <tr>\n",
       "      <th>0</th>\n",
       "      <td>Alabama</td>\n",
       "      <td>unknown</td>\n",
       "      <td>unknown</td>\n",
       "      <td>unknown</td>\n",
       "      <td>unknown</td>\n",
       "    </tr>\n",
       "    <tr>\n",
       "      <th>1</th>\n",
       "      <td>Alabama</td>\n",
       "      <td>unknown</td>\n",
       "      <td>Male</td>\n",
       "      <td>unknown</td>\n",
       "      <td>unknown</td>\n",
       "    </tr>\n",
       "    <tr>\n",
       "      <th>2</th>\n",
       "      <td>Alabama</td>\n",
       "      <td>unknown</td>\n",
       "      <td>Female</td>\n",
       "      <td>unknown</td>\n",
       "      <td>unknown</td>\n",
       "    </tr>\n",
       "    <tr>\n",
       "      <th>3</th>\n",
       "      <td>Alabama</td>\n",
       "      <td>Less than high school</td>\n",
       "      <td>unknown</td>\n",
       "      <td>unknown</td>\n",
       "      <td>unknown</td>\n",
       "    </tr>\n",
       "    <tr>\n",
       "      <th>4</th>\n",
       "      <td>Alabama</td>\n",
       "      <td>High school graduate</td>\n",
       "      <td>unknown</td>\n",
       "      <td>unknown</td>\n",
       "      <td>unknown</td>\n",
       "    </tr>\n",
       "  </tbody>\n",
       "</table>\n",
       "</div>"
      ],
      "text/plain": [
       "  LocationDesc              Education   Gender   Income Age(years)\n",
       "0      Alabama                unknown  unknown  unknown    unknown\n",
       "1      Alabama                unknown     Male  unknown    unknown\n",
       "2      Alabama                unknown   Female  unknown    unknown\n",
       "3      Alabama  Less than high school  unknown  unknown    unknown\n",
       "4      Alabama   High school graduate  unknown  unknown    unknown"
      ]
     },
     "execution_count": 32,
     "metadata": {},
     "output_type": "execute_result"
    }
   ],
   "source": [
    "new_df.head()"
   ]
  },
  {
   "cell_type": "code",
   "execution_count": 33,
   "id": "d1b335e4-d5a0-4365-967c-c8c23b0f200f",
   "metadata": {},
   "outputs": [],
   "source": [
    "# Use pandas get_dummies to one-hot encode categorical variables\n",
    "new_df_encoded = pd.get_dummies(new_df, columns=['Education', 'Gender', 'Income', 'Age(years)'])\n"
   ]
  },
  {
   "cell_type": "code",
   "execution_count": 34,
   "id": "ae494fe6-96b0-4228-9ea9-e42cef93e2d9",
   "metadata": {},
   "outputs": [],
   "source": [
    "#Prepare the data for clustering:\n",
    "\n",
    "import pandas as pd\n",
    "import numpy as pd\n",
    "from sklearn.cluster import KMeans\n",
    "from sklearn.preprocessing import StandardScaler\n",
    "from sklearn.impute import SimpleImputer\n",
    "\n",
    "\n",
    "# Separate features and target\n",
    "X = new_df_encoded.drop('LocationDesc', axis=1)\n",
    "locations = new_df_encoded['LocationDesc']\n",
    "\n",
    "# Scale the features\n",
    "scaler = StandardScaler()\n",
    "X_scaled = scaler.fit_transform(X)\n"
   ]
  },
  {
   "cell_type": "code",
   "execution_count": 35,
   "id": "ed6fbf39-a668-4d69-a350-76dca92d0549",
   "metadata": {},
   "outputs": [
    {
     "name": "stderr",
     "output_type": "stream",
     "text": [
      "/var/folders/xt/hdlbn4j903v98px3bq4pf0jc0000gn/T/ipykernel_15919/2995715212.py:11: SettingWithCopyWarning: \n",
      "A value is trying to be set on a copy of a slice from a DataFrame.\n",
      "Try using .loc[row_indexer,col_indexer] = value instead\n",
      "\n",
      "See the caveats in the documentation: https://pandas.pydata.org/pandas-docs/stable/user_guide/indexing.html#returning-a-view-versus-a-copy\n",
      "  new_df['Cluster'] = kmeans.labels_\n"
     ]
    }
   ],
   "source": [
    "#Apply K-means clustering:\n",
    "\n",
    "# Choose the number of clusters (you may want to optimize this using the elbow method)\n",
    "n_clusters = 5  # This is an arbitrary choice, adjust as needed\n",
    "\n",
    "# Create and fit the K-means model\n",
    "kmeans = KMeans(n_clusters=n_clusters, random_state=42)\n",
    "kmeans.fit(X_scaled)\n",
    "\n",
    "# Add cluster labels to the dataframe\n",
    "new_df['Cluster'] = kmeans.labels_\n"
   ]
  },
  {
   "cell_type": "code",
   "execution_count": 36,
   "id": "ef108876-0f3b-4ce6-8cfc-e6758e4e6cf2",
   "metadata": {
    "scrolled": true
   },
   "outputs": [
    {
     "name": "stdout",
     "output_type": "stream",
     "text": [
      "LocationDesc  Alabama  Alaska  Arizona  Arkansas  California  Colorado  \\\n",
      "Cluster                                                                  \n",
      "0                  33      33       33        33          33        33   \n",
      "1                 790     792      792       792         792       792   \n",
      "2                  32      33       33        33          33        33   \n",
      "3                  32      33       33        33          33        33   \n",
      "4                  33      33       33        33          33        33   \n",
      "\n",
      "LocationDesc  Connecticut  Delaware  District of Columbia  Florida  ...  \\\n",
      "Cluster                                                             ...   \n",
      "0                      33        33                    33       33  ...   \n",
      "1                     792       792                   792      792  ...   \n",
      "2                      33        33                    33       33  ...   \n",
      "3                      33        33                    33       33  ...   \n",
      "4                      33        33                    33       33  ...   \n",
      "\n",
      "LocationDesc  South Dakota  Tennessee  Texas  Utah  Vermont  Virginia  \\\n",
      "Cluster                                                                 \n",
      "0                       33         33     33    33       33        33   \n",
      "1                      792        792    792   792      792       792   \n",
      "2                       33         33     33    33       33        33   \n",
      "3                       33         33     33    33       33        33   \n",
      "4                       33         33     33    33       33        33   \n",
      "\n",
      "LocationDesc  Washington  West Virginia  Wisconsin  Wyoming  \n",
      "Cluster                                                      \n",
      "0                     33             33         33       33  \n",
      "1                    792            792        792      792  \n",
      "2                     33             33         33       33  \n",
      "3                     33             33         33       33  \n",
      "4                     33             33         33       33  \n",
      "\n",
      "[5 rows x 54 columns]\n",
      "\n",
      "Top locations in Cluster 0:\n",
      "LocationDesc\n",
      "Alabama          33\n",
      "Alaska           33\n",
      "Nebraska         33\n",
      "Nevada           33\n",
      "New Hampshire    33\n",
      "Name: count, dtype: int64\n",
      "\n",
      "Top locations in Cluster 1:\n",
      "LocationDesc\n",
      "Missouri         792\n",
      "National         792\n",
      "Nebraska         792\n",
      "New Hampshire    792\n",
      "Nevada           792\n",
      "Name: count, dtype: int64\n",
      "\n",
      "Top locations in Cluster 2:\n",
      "LocationDesc\n",
      "Montana          33\n",
      "Alaska           33\n",
      "Nebraska         33\n",
      "Nevada           33\n",
      "New Hampshire    33\n",
      "Name: count, dtype: int64\n",
      "\n",
      "Top locations in Cluster 3:\n",
      "LocationDesc\n",
      "Montana          33\n",
      "Alaska           33\n",
      "Nebraska         33\n",
      "Nevada           33\n",
      "New Hampshire    33\n",
      "Name: count, dtype: int64\n",
      "\n",
      "Top locations in Cluster 4:\n",
      "LocationDesc\n",
      "Alabama          33\n",
      "National         33\n",
      "Nebraska         33\n",
      "Nevada           33\n",
      "New Hampshire    33\n",
      "Name: count, dtype: int64\n"
     ]
    }
   ],
   "source": [
    "# View the distribution of locations across clusters\n",
    "cluster_distribution = new_df.groupby(['Cluster', 'LocationDesc']).size().unstack()\n",
    "print(cluster_distribution)\n",
    "\n",
    "# Find the most common locations in each cluster\n",
    "for cluster in range(n_clusters):\n",
    "    print(f\"\\nTop locations in Cluster {cluster}:\")\n",
    "    print(new_df[new_df['Cluster'] == cluster]['LocationDesc'].value_counts().head())\n"
   ]
  },
  {
   "cell_type": "code",
   "execution_count": 37,
   "id": "46a70807-f837-46b4-a94a-4127f24965dc",
   "metadata": {},
   "outputs": [
    {
     "data": {
      "text/plain": [
       "Gender\n",
       "unknown    45288\n",
       "Male        1742\n",
       "Female      1742\n",
       "Name: count, dtype: int64"
      ]
     },
     "execution_count": 37,
     "metadata": {},
     "output_type": "execute_result"
    }
   ],
   "source": [
    "new_df['Gender'].value_counts()"
   ]
  },
  {
   "cell_type": "code",
   "execution_count": 38,
   "id": "7abe7808-7271-48a8-b312-1900c163dca5",
   "metadata": {},
   "outputs": [
    {
     "data": {
      "text/plain": [
       "Education\n",
       "unknown                             41804\n",
       "Less than high school                1742\n",
       "High school graduate                 1742\n",
       "Some college or technical school     1742\n",
       "College graduate                     1742\n",
       "Name: count, dtype: int64"
      ]
     },
     "execution_count": 38,
     "metadata": {},
     "output_type": "execute_result"
    }
   ],
   "source": [
    "new_df['Education'].value_counts()"
   ]
  },
  {
   "cell_type": "code",
   "execution_count": 39,
   "id": "5095e4c7-9ef9-4a4c-87ce-4b53af2b1785",
   "metadata": {},
   "outputs": [
    {
     "data": {
      "text/plain": [
       "Age(years)\n",
       "unknown        38324\n",
       "35 - 44         1742\n",
       "45 - 54         1742\n",
       "18 - 24         1741\n",
       "25 - 34         1741\n",
       "55 - 64         1741\n",
       "65 or older     1741\n",
       "Name: count, dtype: int64"
      ]
     },
     "execution_count": 39,
     "metadata": {},
     "output_type": "execute_result"
    }
   ],
   "source": [
    "new_df['Age(years)'].value_counts()"
   ]
  },
  {
   "cell_type": "code",
   "execution_count": 40,
   "id": "f84e14d2-ab1f-44cd-a186-abc1dfe0a103",
   "metadata": {},
   "outputs": [
    {
     "data": {
      "text/plain": [
       "Income\n",
       "unknown               36578\n",
       "Less than $15,000      1742\n",
       "$15,000 - $24,999      1742\n",
       "$25,000 - $34,999      1742\n",
       "$35,000 - $49,999      1742\n",
       "$50,000 - $74,999      1742\n",
       "$75,000 or greater     1742\n",
       "Data not reported      1742\n",
       "Name: count, dtype: int64"
      ]
     },
     "execution_count": 40,
     "metadata": {},
     "output_type": "execute_result"
    }
   ],
   "source": [
    "new_df['Income'].value_counts()"
   ]
  },
  {
   "cell_type": "markdown",
   "id": "d024fd2f-b62d-40d9-8b8e-0eab18090881",
   "metadata": {},
   "source": [
    "# Weighted features for k means"
   ]
  },
  {
   "cell_type": "code",
   "execution_count": 42,
   "id": "9afa353a-e0af-4867-97a7-3f0dc2dd8488",
   "metadata": {},
   "outputs": [],
   "source": [
    "# Create mapping dictionaries for each feature:\n",
    "\n",
    "\n",
    "education_map = {\n",
    "    'College graduate': 5,\n",
    "    'Some college or technical school': 4,\n",
    "    'High school graduate': 3,\n",
    "    'Less than high school': 2,\n",
    "    'unknown': 1\n",
    "}\n",
    "\n",
    "gender_map = {\n",
    "    'Female': 3,\n",
    "    'Male': 2,\n",
    "    'unknown': 1\n",
    "}\n",
    "\n",
    "age_map = {\n",
    "    '25 - 34': 7,\n",
    "    '35 - 44': 6,\n",
    "    '18 - 24': 5,\n",
    "    '45 - 54': 4,\n",
    "    '55 - 64': 3,\n",
    "    '65 or older': 2,\n",
    "    'unknown': 1\n",
    "}\n",
    "\n",
    "income_map = {\n",
    "    '$75,000 or greater': 8,\n",
    "    '$50,000 - $74,999': 7,\n",
    "    '$35,000 - $49,999': 6,\n",
    "    '$25,000 - $34,999': 5,\n",
    "    '$15,000 - $24,999': 4,\n",
    "    'Less than $15,000': 3,\n",
    "    'Data not reported': 2,\n",
    "    'unknown': 1\n",
    "}\n"
   ]
  },
  {
   "cell_type": "code",
   "execution_count": 43,
   "id": "7f5db991-2a71-4225-a2bb-2313d08dfb89",
   "metadata": {},
   "outputs": [],
   "source": [
    "#Apply these mappings to create new scaled columns:\n",
    "\n",
    "# Create an explicit copy of the dataframe\n",
    "new_df = new_df.copy()\n",
    "\n",
    "# Apply mappings to create new scaled columns\n",
    "new_df['Education_scaled'] = new_df['Education'].map(education_map)\n",
    "new_df['Gender_scaled'] = new_df['Gender'].map(gender_map)\n",
    "new_df['Age_scaled'] = new_df['Age(years)'].map(age_map)\n",
    "new_df['Income_scaled'] = new_df['Income'].map(income_map)\n"
   ]
  },
  {
   "cell_type": "code",
   "execution_count": 44,
   "id": "d7f63665-16a0-4033-857f-3395764063b0",
   "metadata": {},
   "outputs": [],
   "source": [
    "#Create a new dataframe with the scaled features:\n",
    "scaled_df = new_df[['LocationDesc', 'Education_scaled', 'Gender_scaled', 'Age_scaled', 'Income_scaled']]\n"
   ]
  },
  {
   "cell_type": "code",
   "execution_count": 45,
   "id": "684dabc2-810e-4e9f-9b90-74a513f239f4",
   "metadata": {},
   "outputs": [
    {
     "data": {
      "text/plain": [
       "(48772, 5)"
      ]
     },
     "execution_count": 45,
     "metadata": {},
     "output_type": "execute_result"
    }
   ],
   "source": [
    "scaled_df.shape"
   ]
  },
  {
   "cell_type": "code",
   "execution_count": 46,
   "id": "6fe2eb00-7d26-44ec-b459-a1433df095a2",
   "metadata": {},
   "outputs": [
    {
     "data": {
      "text/html": [
       "<div>\n",
       "<style scoped>\n",
       "    .dataframe tbody tr th:only-of-type {\n",
       "        vertical-align: middle;\n",
       "    }\n",
       "\n",
       "    .dataframe tbody tr th {\n",
       "        vertical-align: top;\n",
       "    }\n",
       "\n",
       "    .dataframe thead th {\n",
       "        text-align: right;\n",
       "    }\n",
       "</style>\n",
       "<table border=\"1\" class=\"dataframe\">\n",
       "  <thead>\n",
       "    <tr style=\"text-align: right;\">\n",
       "      <th></th>\n",
       "      <th>LocationDesc</th>\n",
       "      <th>Education_scaled</th>\n",
       "      <th>Gender_scaled</th>\n",
       "      <th>Age_scaled</th>\n",
       "      <th>Income_scaled</th>\n",
       "    </tr>\n",
       "  </thead>\n",
       "  <tbody>\n",
       "    <tr>\n",
       "      <th>0</th>\n",
       "      <td>Alabama</td>\n",
       "      <td>1</td>\n",
       "      <td>1</td>\n",
       "      <td>1</td>\n",
       "      <td>1</td>\n",
       "    </tr>\n",
       "    <tr>\n",
       "      <th>1</th>\n",
       "      <td>Alabama</td>\n",
       "      <td>1</td>\n",
       "      <td>2</td>\n",
       "      <td>1</td>\n",
       "      <td>1</td>\n",
       "    </tr>\n",
       "    <tr>\n",
       "      <th>2</th>\n",
       "      <td>Alabama</td>\n",
       "      <td>1</td>\n",
       "      <td>3</td>\n",
       "      <td>1</td>\n",
       "      <td>1</td>\n",
       "    </tr>\n",
       "    <tr>\n",
       "      <th>3</th>\n",
       "      <td>Alabama</td>\n",
       "      <td>2</td>\n",
       "      <td>1</td>\n",
       "      <td>1</td>\n",
       "      <td>1</td>\n",
       "    </tr>\n",
       "    <tr>\n",
       "      <th>4</th>\n",
       "      <td>Alabama</td>\n",
       "      <td>3</td>\n",
       "      <td>1</td>\n",
       "      <td>1</td>\n",
       "      <td>1</td>\n",
       "    </tr>\n",
       "  </tbody>\n",
       "</table>\n",
       "</div>"
      ],
      "text/plain": [
       "  LocationDesc  Education_scaled  Gender_scaled  Age_scaled  Income_scaled\n",
       "0      Alabama                 1              1           1              1\n",
       "1      Alabama                 1              2           1              1\n",
       "2      Alabama                 1              3           1              1\n",
       "3      Alabama                 2              1           1              1\n",
       "4      Alabama                 3              1           1              1"
      ]
     },
     "execution_count": 46,
     "metadata": {},
     "output_type": "execute_result"
    }
   ],
   "source": [
    "scaled_df.head()"
   ]
  },
  {
   "cell_type": "code",
   "execution_count": 47,
   "id": "049ae0aa-5434-4d37-972f-d34781f27373",
   "metadata": {},
   "outputs": [
    {
     "name": "stderr",
     "output_type": "stream",
     "text": [
      "/var/folders/xt/hdlbn4j903v98px3bq4pf0jc0000gn/T/ipykernel_15919/2054429731.py:7: SettingWithCopyWarning: \n",
      "A value is trying to be set on a copy of a slice from a DataFrame.\n",
      "Try using .loc[row_indexer,col_indexer] = value instead\n",
      "\n",
      "See the caveats in the documentation: https://pandas.pydata.org/pandas-docs/stable/user_guide/indexing.html#returning-a-view-versus-a-copy\n",
      "  scaled_df[['Education_scaled', 'Gender_scaled', 'Age_scaled', 'Income_scaled']] = scaled_features\n"
     ]
    }
   ],
   "source": [
    "#Normalize the scaled features to ensure they're on the same scale:\n",
    "from sklearn.preprocessing import MinMaxScaler\n",
    "\n",
    "scaler = MinMaxScaler()\n",
    "scaled_features = scaler.fit_transform(scaled_df[['Education_scaled', 'Gender_scaled', 'Age_scaled', 'Income_scaled']])\n",
    "\n",
    "scaled_df[['Education_scaled', 'Gender_scaled', 'Age_scaled', 'Income_scaled']] = scaled_features\n"
   ]
  },
  {
   "cell_type": "code",
   "execution_count": 48,
   "id": "1f237ba1-5417-441f-b7c9-b40875aa0ae4",
   "metadata": {},
   "outputs": [
    {
     "name": "stderr",
     "output_type": "stream",
     "text": [
      "/var/folders/xt/hdlbn4j903v98px3bq4pf0jc0000gn/T/ipykernel_15919/1372896285.py:10: SettingWithCopyWarning: \n",
      "A value is trying to be set on a copy of a slice from a DataFrame.\n",
      "Try using .loc[row_indexer,col_indexer] = value instead\n",
      "\n",
      "See the caveats in the documentation: https://pandas.pydata.org/pandas-docs/stable/user_guide/indexing.html#returning-a-view-versus-a-copy\n",
      "  scaled_df['Cluster'] = kmeans.labels_\n"
     ]
    }
   ],
   "source": [
    "# Prepare data for clustering\n",
    "X = scaled_df[['Education_scaled', 'Gender_scaled', 'Age_scaled', 'Income_scaled']]\n",
    "\n",
    "# Apply K-means clustering\n",
    "kmeans = KMeans(n_clusters=5, random_state=42)\n",
    "kmeans.fit(X)\n",
    "\n",
    "# Add cluster labels to the dataframe\n",
    "scaled_df['Cluster'] = kmeans.labels_\n"
   ]
  },
  {
   "cell_type": "code",
   "execution_count": 49,
   "id": "ccbcfd1c-ee53-4807-8312-c5bc45af8fda",
   "metadata": {},
   "outputs": [
    {
     "data": {
      "text/plain": [
       "(48772, 6)"
      ]
     },
     "execution_count": 49,
     "metadata": {},
     "output_type": "execute_result"
    }
   ],
   "source": [
    "scaled_df.shape"
   ]
  },
  {
   "cell_type": "code",
   "execution_count": 50,
   "id": "e13496a3-fc34-454d-bb67-65eb84504216",
   "metadata": {},
   "outputs": [
    {
     "data": {
      "text/html": [
       "<div>\n",
       "<style scoped>\n",
       "    .dataframe tbody tr th:only-of-type {\n",
       "        vertical-align: middle;\n",
       "    }\n",
       "\n",
       "    .dataframe tbody tr th {\n",
       "        vertical-align: top;\n",
       "    }\n",
       "\n",
       "    .dataframe thead th {\n",
       "        text-align: right;\n",
       "    }\n",
       "</style>\n",
       "<table border=\"1\" class=\"dataframe\">\n",
       "  <thead>\n",
       "    <tr style=\"text-align: right;\">\n",
       "      <th></th>\n",
       "      <th>LocationDesc</th>\n",
       "      <th>Education_scaled</th>\n",
       "      <th>Gender_scaled</th>\n",
       "      <th>Age_scaled</th>\n",
       "      <th>Income_scaled</th>\n",
       "      <th>Cluster</th>\n",
       "    </tr>\n",
       "  </thead>\n",
       "  <tbody>\n",
       "    <tr>\n",
       "      <th>0</th>\n",
       "      <td>Alabama</td>\n",
       "      <td>0.00</td>\n",
       "      <td>0.0</td>\n",
       "      <td>0.0</td>\n",
       "      <td>0.0</td>\n",
       "      <td>0</td>\n",
       "    </tr>\n",
       "    <tr>\n",
       "      <th>1</th>\n",
       "      <td>Alabama</td>\n",
       "      <td>0.00</td>\n",
       "      <td>0.5</td>\n",
       "      <td>0.0</td>\n",
       "      <td>0.0</td>\n",
       "      <td>0</td>\n",
       "    </tr>\n",
       "    <tr>\n",
       "      <th>2</th>\n",
       "      <td>Alabama</td>\n",
       "      <td>0.00</td>\n",
       "      <td>1.0</td>\n",
       "      <td>0.0</td>\n",
       "      <td>0.0</td>\n",
       "      <td>0</td>\n",
       "    </tr>\n",
       "    <tr>\n",
       "      <th>3</th>\n",
       "      <td>Alabama</td>\n",
       "      <td>0.25</td>\n",
       "      <td>0.0</td>\n",
       "      <td>0.0</td>\n",
       "      <td>0.0</td>\n",
       "      <td>0</td>\n",
       "    </tr>\n",
       "    <tr>\n",
       "      <th>4</th>\n",
       "      <td>Alabama</td>\n",
       "      <td>0.50</td>\n",
       "      <td>0.0</td>\n",
       "      <td>0.0</td>\n",
       "      <td>0.0</td>\n",
       "      <td>0</td>\n",
       "    </tr>\n",
       "  </tbody>\n",
       "</table>\n",
       "</div>"
      ],
      "text/plain": [
       "  LocationDesc  Education_scaled  Gender_scaled  Age_scaled  Income_scaled  \\\n",
       "0      Alabama              0.00            0.0         0.0            0.0   \n",
       "1      Alabama              0.00            0.5         0.0            0.0   \n",
       "2      Alabama              0.00            1.0         0.0            0.0   \n",
       "3      Alabama              0.25            0.0         0.0            0.0   \n",
       "4      Alabama              0.50            0.0         0.0            0.0   \n",
       "\n",
       "   Cluster  \n",
       "0        0  \n",
       "1        0  \n",
       "2        0  \n",
       "3        0  \n",
       "4        0  "
      ]
     },
     "execution_count": 50,
     "metadata": {},
     "output_type": "execute_result"
    }
   ],
   "source": [
    "scaled_df.head()"
   ]
  },
  {
   "cell_type": "code",
   "execution_count": 51,
   "id": "560ec4c9-29c3-44b4-a9c2-1a4ba9c36de7",
   "metadata": {},
   "outputs": [],
   "source": [
    "#"
   ]
  },
  {
   "cell_type": "code",
   "execution_count": 52,
   "id": "4251cbc3-4b53-4556-88f7-7eb8fbc3504c",
   "metadata": {},
   "outputs": [
    {
     "name": "stdout",
     "output_type": "stream",
     "text": [
      "\n",
      "Top 5 locations in Cluster 0:\n",
      "  LocationDesc  Count\n",
      "0      Alabama     33\n",
      "1       Alaska     33\n",
      "2      Arizona     33\n",
      "3     Arkansas     33\n",
      "4   California     33\n",
      "\n",
      "Top 5 locations in Cluster 1:\n",
      "   LocationDesc  Count\n",
      "55       Alaska    792\n",
      "56      Arizona    792\n",
      "57     Arkansas    792\n",
      "58   California    792\n",
      "59     Colorado    792\n",
      "\n",
      "Top 5 locations in Cluster 2:\n",
      "    LocationDesc  Count\n",
      "109       Alaska     33\n",
      "110      Arizona     33\n",
      "111     Arkansas     33\n",
      "112   California     33\n",
      "113     Colorado     33\n",
      "\n",
      "Top 5 locations in Cluster 3:\n",
      "    LocationDesc  Count\n",
      "163       Alaska     33\n",
      "164      Arizona     33\n",
      "165     Arkansas     33\n",
      "166   California     33\n",
      "167     Colorado     33\n",
      "\n",
      "Top 5 locations in Cluster 4:\n",
      "    LocationDesc  Count\n",
      "216      Alabama     33\n",
      "217       Alaska     33\n",
      "218      Arizona     33\n",
      "219     Arkansas     33\n",
      "220   California     33\n"
     ]
    }
   ],
   "source": [
    "# Group the data by cluster and LocationDesc\n",
    "cluster_locations = new_df.groupby(['Cluster', 'LocationDesc']).size().reset_index(name='Count')\n",
    "\n",
    "# Sort the grouped data by cluster and count in descending order\n",
    "cluster_locations_sorted = cluster_locations.sort_values(['Cluster', 'Count'], ascending=[True, False])\n",
    "\n",
    "# Get the top locations for each cluster\n",
    "top_locations = cluster_locations_sorted.groupby('Cluster').head(5)\n",
    "\n",
    "# Display the results\n",
    "for cluster in top_locations['Cluster'].unique():\n",
    "    print(f\"\\nTop 5 locations in Cluster {cluster}:\")\n",
    "    print(top_locations[top_locations['Cluster'] == cluster][['LocationDesc', 'Count']])\n"
   ]
  },
  {
   "cell_type": "code",
   "execution_count": null,
   "id": "62288e56-61d0-4c9e-aba8-da815868b132",
   "metadata": {},
   "outputs": [],
   "source": []
  }
 ],
 "metadata": {
  "kernelspec": {
   "display_name": "Python 3 (ipykernel)",
   "language": "python",
   "name": "python3"
  },
  "language_info": {
   "codemirror_mode": {
    "name": "ipython",
    "version": 3
   },
   "file_extension": ".py",
   "mimetype": "text/x-python",
   "name": "python",
   "nbconvert_exporter": "python",
   "pygments_lexer": "ipython3",
   "version": "3.12.4"
  }
 },
 "nbformat": 4,
 "nbformat_minor": 5
}
