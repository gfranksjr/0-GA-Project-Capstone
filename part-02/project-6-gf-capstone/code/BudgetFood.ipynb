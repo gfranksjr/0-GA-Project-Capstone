{
 "cells": [
  {
   "cell_type": "markdown",
   "id": "28c471ef-e3af-4d5f-b771-842f93f59fca",
   "metadata": {},
   "source": [
    "# Project 6 Capstone - Part 2: Dataset Munging and Cleaning: Budgetfood"
   ]
  },
  {
   "cell_type": "code",
   "execution_count": 1,
   "id": "78d163b1-bc30-4fc9-b40c-8e360bfacff1",
   "metadata": {},
   "outputs": [],
   "source": [
    "# Imports\n",
    "import pandas as pd\n",
    "import nltk\n",
    "from nltk.corpus import stopwords"
   ]
  },
  {
   "cell_type": "code",
   "execution_count": null,
   "id": "c2e1de98-57af-4f26-a1de-24b2016d0b37",
   "metadata": {},
   "outputs": [],
   "source": [
    "# Data Source: \n",
    "\n",
    "# Name: BudgetFood\n",
    "\n",
    "# Link: https://www.reddit.com/r/budgetfood/\n",
    "\n",
    "# Description: Dataset pulled using PRAW from subreddit /budgetfood \n",
    "\n",
    "# Data Dictionary: Created_UTC - Timestamp of post; Title - Title of Post; Self_Text - Content of the Post; Subreddit - Name of the subreddit"
   ]
  },
  {
   "cell_type": "markdown",
   "id": "5c725b8a-e07c-4a95-b1a9-bcb246999775",
   "metadata": {},
   "source": [
    "|Feature|Type|Dataset|Description|\n",
    "|---|---|---|---|\n",
    "|**budgetfood.csv**|*dtypes: float64(1), object(3)*|Reddit|Dataset pulled using PRAW from subreddit /budgetfood|"
   ]
  },
  {
   "cell_type": "code",
   "execution_count": 2,
   "id": "619c891e-b6de-41a9-a4b8-037d9118a92d",
   "metadata": {},
   "outputs": [],
   "source": [
    "df = pd.read_csv('../data/PRAW/budgetfood.csv')"
   ]
  },
  {
   "cell_type": "code",
   "execution_count": 3,
   "id": "9e899378-61dd-4777-979b-c20b6c8a6e4b",
   "metadata": {},
   "outputs": [
    {
     "data": {
      "text/plain": [
       "(888, 4)"
      ]
     },
     "execution_count": 3,
     "metadata": {},
     "output_type": "execute_result"
    }
   ],
   "source": [
    "df.shape"
   ]
  },
  {
   "cell_type": "code",
   "execution_count": 4,
   "id": "f928d396-a041-4173-b66d-5fbd9c76bec2",
   "metadata": {},
   "outputs": [
    {
     "data": {
      "text/html": [
       "<div>\n",
       "<style scoped>\n",
       "    .dataframe tbody tr th:only-of-type {\n",
       "        vertical-align: middle;\n",
       "    }\n",
       "\n",
       "    .dataframe tbody tr th {\n",
       "        vertical-align: top;\n",
       "    }\n",
       "\n",
       "    .dataframe thead th {\n",
       "        text-align: right;\n",
       "    }\n",
       "</style>\n",
       "<table border=\"1\" class=\"dataframe\">\n",
       "  <thead>\n",
       "    <tr style=\"text-align: right;\">\n",
       "      <th></th>\n",
       "      <th>created_utc</th>\n",
       "      <th>title</th>\n",
       "      <th>self_text</th>\n",
       "      <th>subreddit</th>\n",
       "    </tr>\n",
       "  </thead>\n",
       "  <tbody>\n",
       "    <tr>\n",
       "      <th>0</th>\n",
       "      <td>1.735956e+09</td>\n",
       "      <td>Beginner budgeter here. Need assistance.</td>\n",
       "      <td>I think we can all agree that the prices at th...</td>\n",
       "      <td>budgetfood</td>\n",
       "    </tr>\n",
       "    <tr>\n",
       "      <th>1</th>\n",
       "      <td>1.735900e+09</td>\n",
       "      <td>cold lunches ideas</td>\n",
       "      <td>Hello, so my boyfriend is a geodesist, so they...</td>\n",
       "      <td>budgetfood</td>\n",
       "    </tr>\n",
       "    <tr>\n",
       "      <th>2</th>\n",
       "      <td>1.735877e+09</td>\n",
       "      <td>Ideas for fast and cheap cake/cookies/treats? ...</td>\n",
       "      <td>Hi, I need to prepare about \\~50 treats for a ...</td>\n",
       "      <td>budgetfood</td>\n",
       "    </tr>\n",
       "    <tr>\n",
       "      <th>3</th>\n",
       "      <td>1.735870e+09</td>\n",
       "      <td>Easy soup recipe!!</td>\n",
       "      <td>I was in a pinch and was craving soup!\\nI boil...</td>\n",
       "      <td>budgetfood</td>\n",
       "    </tr>\n",
       "    <tr>\n",
       "      <th>4</th>\n",
       "      <td>1.735700e+09</td>\n",
       "      <td>Easy budget soup</td>\n",
       "      <td>I made this video for a cooking page I’m part ...</td>\n",
       "      <td>budgetfood</td>\n",
       "    </tr>\n",
       "  </tbody>\n",
       "</table>\n",
       "</div>"
      ],
      "text/plain": [
       "    created_utc                                              title  \\\n",
       "0  1.735956e+09          Beginner budgeter here. Need assistance.    \n",
       "1  1.735900e+09                                 cold lunches ideas   \n",
       "2  1.735877e+09  Ideas for fast and cheap cake/cookies/treats? ...   \n",
       "3  1.735870e+09                                 Easy soup recipe!!   \n",
       "4  1.735700e+09                                   Easy budget soup   \n",
       "\n",
       "                                           self_text   subreddit  \n",
       "0  I think we can all agree that the prices at th...  budgetfood  \n",
       "1  Hello, so my boyfriend is a geodesist, so they...  budgetfood  \n",
       "2  Hi, I need to prepare about \\~50 treats for a ...  budgetfood  \n",
       "3  I was in a pinch and was craving soup!\\nI boil...  budgetfood  \n",
       "4  I made this video for a cooking page I’m part ...  budgetfood  "
      ]
     },
     "execution_count": 4,
     "metadata": {},
     "output_type": "execute_result"
    }
   ],
   "source": [
    "df.head()"
   ]
  },
  {
   "cell_type": "code",
   "execution_count": 5,
   "id": "1b076457-0906-4b5e-9871-d563bff4ff90",
   "metadata": {},
   "outputs": [
    {
     "name": "stdout",
     "output_type": "stream",
     "text": [
      "<class 'pandas.core.frame.DataFrame'>\n",
      "RangeIndex: 888 entries, 0 to 887\n",
      "Data columns (total 4 columns):\n",
      " #   Column       Non-Null Count  Dtype  \n",
      "---  ------       --------------  -----  \n",
      " 0   created_utc  888 non-null    float64\n",
      " 1   title        888 non-null    object \n",
      " 2   self_text    783 non-null    object \n",
      " 3   subreddit    888 non-null    object \n",
      "dtypes: float64(1), object(3)\n",
      "memory usage: 27.9+ KB\n"
     ]
    }
   ],
   "source": [
    "df.info()"
   ]
  },
  {
   "cell_type": "code",
   "execution_count": 6,
   "id": "361eeac9-b473-4715-b71a-c46979bbee3d",
   "metadata": {},
   "outputs": [],
   "source": [
    "# Merge 'title' and 'self_text' into a single 'text' column\n",
    "df['title'] = df['title'].fillna('')\n",
    "df['self_text'] = df['self_text'].fillna('')\n",
    "df['text'] = df['title'] + ' ' + df['self_text']"
   ]
  },
  {
   "cell_type": "code",
   "execution_count": 7,
   "id": "a8e9d20b-f0c3-409c-8238-6a10168c778f",
   "metadata": {},
   "outputs": [
    {
     "data": {
      "text/plain": [
       "(888, 5)"
      ]
     },
     "execution_count": 7,
     "metadata": {},
     "output_type": "execute_result"
    }
   ],
   "source": [
    "df.shape"
   ]
  },
  {
   "cell_type": "code",
   "execution_count": 8,
   "id": "78196714-40ca-4f38-8e21-e28d037f2998",
   "metadata": {},
   "outputs": [
    {
     "data": {
      "text/html": [
       "<div>\n",
       "<style scoped>\n",
       "    .dataframe tbody tr th:only-of-type {\n",
       "        vertical-align: middle;\n",
       "    }\n",
       "\n",
       "    .dataframe tbody tr th {\n",
       "        vertical-align: top;\n",
       "    }\n",
       "\n",
       "    .dataframe thead th {\n",
       "        text-align: right;\n",
       "    }\n",
       "</style>\n",
       "<table border=\"1\" class=\"dataframe\">\n",
       "  <thead>\n",
       "    <tr style=\"text-align: right;\">\n",
       "      <th></th>\n",
       "      <th>created_utc</th>\n",
       "      <th>title</th>\n",
       "      <th>self_text</th>\n",
       "      <th>subreddit</th>\n",
       "      <th>text</th>\n",
       "    </tr>\n",
       "  </thead>\n",
       "  <tbody>\n",
       "    <tr>\n",
       "      <th>0</th>\n",
       "      <td>1.735956e+09</td>\n",
       "      <td>Beginner budgeter here. Need assistance.</td>\n",
       "      <td>I think we can all agree that the prices at th...</td>\n",
       "      <td>budgetfood</td>\n",
       "      <td>Beginner budgeter here. Need assistance.  I th...</td>\n",
       "    </tr>\n",
       "    <tr>\n",
       "      <th>1</th>\n",
       "      <td>1.735900e+09</td>\n",
       "      <td>cold lunches ideas</td>\n",
       "      <td>Hello, so my boyfriend is a geodesist, so they...</td>\n",
       "      <td>budgetfood</td>\n",
       "      <td>cold lunches ideas Hello, so my boyfriend is a...</td>\n",
       "    </tr>\n",
       "    <tr>\n",
       "      <th>2</th>\n",
       "      <td>1.735877e+09</td>\n",
       "      <td>Ideas for fast and cheap cake/cookies/treats? ...</td>\n",
       "      <td>Hi, I need to prepare about \\~50 treats for a ...</td>\n",
       "      <td>budgetfood</td>\n",
       "      <td>Ideas for fast and cheap cake/cookies/treats? ...</td>\n",
       "    </tr>\n",
       "    <tr>\n",
       "      <th>3</th>\n",
       "      <td>1.735870e+09</td>\n",
       "      <td>Easy soup recipe!!</td>\n",
       "      <td>I was in a pinch and was craving soup!\\nI boil...</td>\n",
       "      <td>budgetfood</td>\n",
       "      <td>Easy soup recipe!! I was in a pinch and was cr...</td>\n",
       "    </tr>\n",
       "    <tr>\n",
       "      <th>4</th>\n",
       "      <td>1.735700e+09</td>\n",
       "      <td>Easy budget soup</td>\n",
       "      <td>I made this video for a cooking page I’m part ...</td>\n",
       "      <td>budgetfood</td>\n",
       "      <td>Easy budget soup I made this video for a cooki...</td>\n",
       "    </tr>\n",
       "  </tbody>\n",
       "</table>\n",
       "</div>"
      ],
      "text/plain": [
       "    created_utc                                              title  \\\n",
       "0  1.735956e+09          Beginner budgeter here. Need assistance.    \n",
       "1  1.735900e+09                                 cold lunches ideas   \n",
       "2  1.735877e+09  Ideas for fast and cheap cake/cookies/treats? ...   \n",
       "3  1.735870e+09                                 Easy soup recipe!!   \n",
       "4  1.735700e+09                                   Easy budget soup   \n",
       "\n",
       "                                           self_text   subreddit  \\\n",
       "0  I think we can all agree that the prices at th...  budgetfood   \n",
       "1  Hello, so my boyfriend is a geodesist, so they...  budgetfood   \n",
       "2  Hi, I need to prepare about \\~50 treats for a ...  budgetfood   \n",
       "3  I was in a pinch and was craving soup!\\nI boil...  budgetfood   \n",
       "4  I made this video for a cooking page I’m part ...  budgetfood   \n",
       "\n",
       "                                                text  \n",
       "0  Beginner budgeter here. Need assistance.  I th...  \n",
       "1  cold lunches ideas Hello, so my boyfriend is a...  \n",
       "2  Ideas for fast and cheap cake/cookies/treats? ...  \n",
       "3  Easy soup recipe!! I was in a pinch and was cr...  \n",
       "4  Easy budget soup I made this video for a cooki...  "
      ]
     },
     "execution_count": 8,
     "metadata": {},
     "output_type": "execute_result"
    }
   ],
   "source": [
    "df.head()"
   ]
  },
  {
   "cell_type": "code",
   "execution_count": 9,
   "id": "23991b9c-89f2-4527-a560-842600b3ce75",
   "metadata": {},
   "outputs": [
    {
     "name": "stderr",
     "output_type": "stream",
     "text": [
      "[nltk_data] Downloading package stopwords to\n",
      "[nltk_data]     /Users/gfranksjr24/nltk_data...\n",
      "[nltk_data]   Package stopwords is already up-to-date!\n"
     ]
    },
    {
     "data": {
      "text/plain": [
       "True"
      ]
     },
     "execution_count": 9,
     "metadata": {},
     "output_type": "execute_result"
    }
   ],
   "source": [
    "# Remove stop words\n",
    "# download stop words\n",
    "nltk.download('stopwords')"
   ]
  },
  {
   "cell_type": "code",
   "execution_count": 10,
   "id": "3c830443-a741-4275-aed8-07fae500bf85",
   "metadata": {},
   "outputs": [],
   "source": [
    "stop_words = set(stopwords.words('english'))"
   ]
  },
  {
   "cell_type": "code",
   "execution_count": 11,
   "id": "8963f598-3d74-405c-818e-ec568dd28245",
   "metadata": {},
   "outputs": [],
   "source": [
    "def remove_stopwords(text):\n",
    "    if pd.isna(text):\n",
    "        return \"\"\n",
    "    words = str(text).split()\n",
    "    filtered_words = [word for word in words if word.lower() not in stop_words]\n",
    "    return ' '.join(filtered_words)"
   ]
  },
  {
   "cell_type": "code",
   "execution_count": 12,
   "id": "52106313-025a-40a8-aa16-8297160a77c6",
   "metadata": {},
   "outputs": [],
   "source": [
    "df['clean_text'] = df['text'].apply(remove_stopwords)"
   ]
  },
  {
   "cell_type": "code",
   "execution_count": 26,
   "id": "36ddacf0-7417-4588-969b-351fed346b9c",
   "metadata": {},
   "outputs": [
    {
     "data": {
      "text/plain": [
       "(888, 6)"
      ]
     },
     "execution_count": 26,
     "metadata": {},
     "output_type": "execute_result"
    }
   ],
   "source": [
    "df.shape"
   ]
  },
  {
   "cell_type": "code",
   "execution_count": 28,
   "id": "c96bf3e3-48f1-4497-8c42-70b91dad243e",
   "metadata": {},
   "outputs": [
    {
     "data": {
      "text/html": [
       "<div>\n",
       "<style scoped>\n",
       "    .dataframe tbody tr th:only-of-type {\n",
       "        vertical-align: middle;\n",
       "    }\n",
       "\n",
       "    .dataframe tbody tr th {\n",
       "        vertical-align: top;\n",
       "    }\n",
       "\n",
       "    .dataframe thead th {\n",
       "        text-align: right;\n",
       "    }\n",
       "</style>\n",
       "<table border=\"1\" class=\"dataframe\">\n",
       "  <thead>\n",
       "    <tr style=\"text-align: right;\">\n",
       "      <th></th>\n",
       "      <th>created_utc</th>\n",
       "      <th>title</th>\n",
       "      <th>self_text</th>\n",
       "      <th>subreddit</th>\n",
       "      <th>text</th>\n",
       "      <th>clean_text</th>\n",
       "    </tr>\n",
       "  </thead>\n",
       "  <tbody>\n",
       "    <tr>\n",
       "      <th>0</th>\n",
       "      <td>1.735956e+09</td>\n",
       "      <td>Beginner budgeter here. Need assistance.</td>\n",
       "      <td>I think we can all agree that the prices at th...</td>\n",
       "      <td>budgetfood</td>\n",
       "      <td>Beginner budgeter here. Need assistance.  I th...</td>\n",
       "      <td>Beginner budgeter here. Need assistance. think...</td>\n",
       "    </tr>\n",
       "    <tr>\n",
       "      <th>1</th>\n",
       "      <td>1.735900e+09</td>\n",
       "      <td>cold lunches ideas</td>\n",
       "      <td>Hello, so my boyfriend is a geodesist, so they...</td>\n",
       "      <td>budgetfood</td>\n",
       "      <td>cold lunches ideas Hello, so my boyfriend is a...</td>\n",
       "      <td>cold lunches ideas Hello, boyfriend geodesist,...</td>\n",
       "    </tr>\n",
       "    <tr>\n",
       "      <th>2</th>\n",
       "      <td>1.735877e+09</td>\n",
       "      <td>Ideas for fast and cheap cake/cookies/treats? ...</td>\n",
       "      <td>Hi, I need to prepare about \\~50 treats for a ...</td>\n",
       "      <td>budgetfood</td>\n",
       "      <td>Ideas for fast and cheap cake/cookies/treats? ...</td>\n",
       "      <td>Ideas fast cheap cake/cookies/treats? Need mak...</td>\n",
       "    </tr>\n",
       "    <tr>\n",
       "      <th>3</th>\n",
       "      <td>1.735870e+09</td>\n",
       "      <td>Easy soup recipe!!</td>\n",
       "      <td>I was in a pinch and was craving soup!\\nI boil...</td>\n",
       "      <td>budgetfood</td>\n",
       "      <td>Easy soup recipe!! I was in a pinch and was cr...</td>\n",
       "      <td>Easy soup recipe!! pinch craving soup! boiled ...</td>\n",
       "    </tr>\n",
       "    <tr>\n",
       "      <th>4</th>\n",
       "      <td>1.735700e+09</td>\n",
       "      <td>Easy budget soup</td>\n",
       "      <td>I made this video for a cooking page I’m part ...</td>\n",
       "      <td>budgetfood</td>\n",
       "      <td>Easy budget soup I made this video for a cooki...</td>\n",
       "      <td>Easy budget soup made video cooking page I’m p...</td>\n",
       "    </tr>\n",
       "  </tbody>\n",
       "</table>\n",
       "</div>"
      ],
      "text/plain": [
       "    created_utc                                              title  \\\n",
       "0  1.735956e+09          Beginner budgeter here. Need assistance.    \n",
       "1  1.735900e+09                                 cold lunches ideas   \n",
       "2  1.735877e+09  Ideas for fast and cheap cake/cookies/treats? ...   \n",
       "3  1.735870e+09                                 Easy soup recipe!!   \n",
       "4  1.735700e+09                                   Easy budget soup   \n",
       "\n",
       "                                           self_text   subreddit  \\\n",
       "0  I think we can all agree that the prices at th...  budgetfood   \n",
       "1  Hello, so my boyfriend is a geodesist, so they...  budgetfood   \n",
       "2  Hi, I need to prepare about \\~50 treats for a ...  budgetfood   \n",
       "3  I was in a pinch and was craving soup!\\nI boil...  budgetfood   \n",
       "4  I made this video for a cooking page I’m part ...  budgetfood   \n",
       "\n",
       "                                                text  \\\n",
       "0  Beginner budgeter here. Need assistance.  I th...   \n",
       "1  cold lunches ideas Hello, so my boyfriend is a...   \n",
       "2  Ideas for fast and cheap cake/cookies/treats? ...   \n",
       "3  Easy soup recipe!! I was in a pinch and was cr...   \n",
       "4  Easy budget soup I made this video for a cooki...   \n",
       "\n",
       "                                          clean_text  \n",
       "0  Beginner budgeter here. Need assistance. think...  \n",
       "1  cold lunches ideas Hello, boyfriend geodesist,...  \n",
       "2  Ideas fast cheap cake/cookies/treats? Need mak...  \n",
       "3  Easy soup recipe!! pinch craving soup! boiled ...  \n",
       "4  Easy budget soup made video cooking page I’m p...  "
      ]
     },
     "execution_count": 28,
     "metadata": {},
     "output_type": "execute_result"
    }
   ],
   "source": [
    "df.head()"
   ]
  },
  {
   "cell_type": "code",
   "execution_count": 30,
   "id": "13d6c3db-dc70-468b-b70a-583468c0d06c",
   "metadata": {},
   "outputs": [],
   "source": [
    "# Change all characters to lowercase\n",
    "df['clean_text'] = df['clean_text'].str.lower()"
   ]
  },
  {
   "cell_type": "code",
   "execution_count": 32,
   "id": "7417e635-c474-43ea-886b-6f2afbf75f95",
   "metadata": {},
   "outputs": [
    {
     "data": {
      "text/html": [
       "<div>\n",
       "<style scoped>\n",
       "    .dataframe tbody tr th:only-of-type {\n",
       "        vertical-align: middle;\n",
       "    }\n",
       "\n",
       "    .dataframe tbody tr th {\n",
       "        vertical-align: top;\n",
       "    }\n",
       "\n",
       "    .dataframe thead th {\n",
       "        text-align: right;\n",
       "    }\n",
       "</style>\n",
       "<table border=\"1\" class=\"dataframe\">\n",
       "  <thead>\n",
       "    <tr style=\"text-align: right;\">\n",
       "      <th></th>\n",
       "      <th>created_utc</th>\n",
       "      <th>title</th>\n",
       "      <th>self_text</th>\n",
       "      <th>subreddit</th>\n",
       "      <th>text</th>\n",
       "      <th>clean_text</th>\n",
       "    </tr>\n",
       "  </thead>\n",
       "  <tbody>\n",
       "    <tr>\n",
       "      <th>0</th>\n",
       "      <td>1.735956e+09</td>\n",
       "      <td>Beginner budgeter here. Need assistance.</td>\n",
       "      <td>I think we can all agree that the prices at th...</td>\n",
       "      <td>budgetfood</td>\n",
       "      <td>Beginner budgeter here. Need assistance.  I th...</td>\n",
       "      <td>beginner budgeter here. need assistance. think...</td>\n",
       "    </tr>\n",
       "    <tr>\n",
       "      <th>1</th>\n",
       "      <td>1.735900e+09</td>\n",
       "      <td>cold lunches ideas</td>\n",
       "      <td>Hello, so my boyfriend is a geodesist, so they...</td>\n",
       "      <td>budgetfood</td>\n",
       "      <td>cold lunches ideas Hello, so my boyfriend is a...</td>\n",
       "      <td>cold lunches ideas hello, boyfriend geodesist,...</td>\n",
       "    </tr>\n",
       "    <tr>\n",
       "      <th>2</th>\n",
       "      <td>1.735877e+09</td>\n",
       "      <td>Ideas for fast and cheap cake/cookies/treats? ...</td>\n",
       "      <td>Hi, I need to prepare about \\~50 treats for a ...</td>\n",
       "      <td>budgetfood</td>\n",
       "      <td>Ideas for fast and cheap cake/cookies/treats? ...</td>\n",
       "      <td>ideas fast cheap cake/cookies/treats? need mak...</td>\n",
       "    </tr>\n",
       "    <tr>\n",
       "      <th>3</th>\n",
       "      <td>1.735870e+09</td>\n",
       "      <td>Easy soup recipe!!</td>\n",
       "      <td>I was in a pinch and was craving soup!\\nI boil...</td>\n",
       "      <td>budgetfood</td>\n",
       "      <td>Easy soup recipe!! I was in a pinch and was cr...</td>\n",
       "      <td>easy soup recipe!! pinch craving soup! boiled ...</td>\n",
       "    </tr>\n",
       "    <tr>\n",
       "      <th>4</th>\n",
       "      <td>1.735700e+09</td>\n",
       "      <td>Easy budget soup</td>\n",
       "      <td>I made this video for a cooking page I’m part ...</td>\n",
       "      <td>budgetfood</td>\n",
       "      <td>Easy budget soup I made this video for a cooki...</td>\n",
       "      <td>easy budget soup made video cooking page i’m p...</td>\n",
       "    </tr>\n",
       "  </tbody>\n",
       "</table>\n",
       "</div>"
      ],
      "text/plain": [
       "    created_utc                                              title  \\\n",
       "0  1.735956e+09          Beginner budgeter here. Need assistance.    \n",
       "1  1.735900e+09                                 cold lunches ideas   \n",
       "2  1.735877e+09  Ideas for fast and cheap cake/cookies/treats? ...   \n",
       "3  1.735870e+09                                 Easy soup recipe!!   \n",
       "4  1.735700e+09                                   Easy budget soup   \n",
       "\n",
       "                                           self_text   subreddit  \\\n",
       "0  I think we can all agree that the prices at th...  budgetfood   \n",
       "1  Hello, so my boyfriend is a geodesist, so they...  budgetfood   \n",
       "2  Hi, I need to prepare about \\~50 treats for a ...  budgetfood   \n",
       "3  I was in a pinch and was craving soup!\\nI boil...  budgetfood   \n",
       "4  I made this video for a cooking page I’m part ...  budgetfood   \n",
       "\n",
       "                                                text  \\\n",
       "0  Beginner budgeter here. Need assistance.  I th...   \n",
       "1  cold lunches ideas Hello, so my boyfriend is a...   \n",
       "2  Ideas for fast and cheap cake/cookies/treats? ...   \n",
       "3  Easy soup recipe!! I was in a pinch and was cr...   \n",
       "4  Easy budget soup I made this video for a cooki...   \n",
       "\n",
       "                                          clean_text  \n",
       "0  beginner budgeter here. need assistance. think...  \n",
       "1  cold lunches ideas hello, boyfriend geodesist,...  \n",
       "2  ideas fast cheap cake/cookies/treats? need mak...  \n",
       "3  easy soup recipe!! pinch craving soup! boiled ...  \n",
       "4  easy budget soup made video cooking page i’m p...  "
      ]
     },
     "execution_count": 32,
     "metadata": {},
     "output_type": "execute_result"
    }
   ],
   "source": [
    "df.head()"
   ]
  },
  {
   "cell_type": "code",
   "execution_count": null,
   "id": "d8a9118a-49e0-4ba6-befa-3ff43df69ba9",
   "metadata": {},
   "outputs": [],
   "source": []
  }
 ],
 "metadata": {
  "kernelspec": {
   "display_name": "Python 3 (ipykernel)",
   "language": "python",
   "name": "python3"
  },
  "language_info": {
   "codemirror_mode": {
    "name": "ipython",
    "version": 3
   },
   "file_extension": ".py",
   "mimetype": "text/x-python",
   "name": "python",
   "nbconvert_exporter": "python",
   "pygments_lexer": "ipython3",
   "version": "3.12.4"
  }
 },
 "nbformat": 4,
 "nbformat_minor": 5
}
